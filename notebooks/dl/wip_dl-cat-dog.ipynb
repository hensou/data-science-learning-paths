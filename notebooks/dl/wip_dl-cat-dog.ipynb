{
 "cells": [
  {
   "cell_type": "markdown",
   "metadata": {},
   "source": [
    "# More Image Recognition: Cat or Dog?"
   ]
  },
  {
   "cell_type": "markdown",
   "metadata": {},
   "source": [
    "The dataset can be downloaded from [Microsoft](https://www.microsoft.com/en-us/download/details.aspx?id=54765)."
   ]
  },
  {
   "cell_type": "markdown",
   "metadata": {},
   "source": [
    "## Preamble"
   ]
  },
  {
   "cell_type": "code",
   "execution_count": null,
   "metadata": {},
   "outputs": [],
   "source": [
    "import tensorflow as tf"
   ]
  },
  {
   "cell_type": "code",
   "execution_count": null,
   "metadata": {},
   "outputs": [],
   "source": [
    "import numpy as np\n",
    "import matplotlib.pyplot as plt"
   ]
  },
  {
   "cell_type": "code",
   "execution_count": null,
   "metadata": {},
   "outputs": [],
   "source": [
    "import cv2"
   ]
  },
  {
   "cell_type": "markdown",
   "metadata": {},
   "source": [
    "## Preparing the Data"
   ]
  },
  {
   "cell_type": "code",
   "execution_count": null,
   "metadata": {},
   "outputs": [],
   "source": [
    "import os\n",
    "import random\n",
    "import pandas"
   ]
  },
  {
   "cell_type": "code",
   "execution_count": null,
   "metadata": {},
   "outputs": [],
   "source": [
    "data_dir = \"/Users/cls/Downloads/kagglecatsanddogs_3367a/PetImages/\""
   ]
  },
  {
   "cell_type": "code",
   "execution_count": null,
   "metadata": {},
   "outputs": [],
   "source": [
    "categories = [\"Dog\", \"Cat\"]\n",
    "labels = dict(zip(categories, range(len(categories))))"
   ]
  },
  {
   "cell_type": "code",
   "execution_count": null,
   "metadata": {},
   "outputs": [],
   "source": [
    "def load_images(data_dir, categories, n_imgs):\n",
    "    \"\"\"Expects data_dir to be a directory with one subfolder for each category\"\"\"\n",
    "    imgs = []\n",
    "    for category in categories:\n",
    "        path = os.path.join(data_dir, category)\n",
    "        count = 0\n",
    "        for img_file in os.listdir(path):\n",
    "            img_path = os.path.join(path, img_file)\n",
    "            try:\n",
    "                img = cv2.imread(img_path, cv2.IMREAD_GRAYSCALE)\n",
    "                row = {\"img\": img, \"category\": category, \"path\": img_path}\n",
    "                imgs.append(row)\n",
    "                count += 1\n",
    "            except Exception as ex:\n",
    "                # some of the image files are broken - just ignore them\n",
    "                print(ex, f\": {img_path}\")\n",
    "            if count >= (n_imgs / len(categories)):\n",
    "                break\n",
    "    img_df = pandas.DataFrame(imgs, columns=[\"img\", \"category\", \"path\"])\n",
    "    category_labels = dict(zip(categories, range(len(categories))))\n",
    "    img_df[\"label\"] = img_df[\"category\"].apply(lambda c: category_labels[c])\n",
    "    img_df = img_df.dropna()\n",
    "    return img_df\n"
   ]
  },
  {
   "cell_type": "code",
   "execution_count": null,
   "metadata": {},
   "outputs": [],
   "source": [
    "%time\n",
    "imgs = load_images(data_dir=data_dir, categories=categories, n_imgs=4000)"
   ]
  },
  {
   "cell_type": "code",
   "execution_count": null,
   "metadata": {},
   "outputs": [],
   "source": [
    "imgs.head()"
   ]
  },
  {
   "cell_type": "code",
   "execution_count": null,
   "metadata": {},
   "outputs": [],
   "source": [
    "def show_images(imgs, img_col, label_col, n=10):\n",
    "    random_imgs = imgs.sample(n)\n",
    "    for (i, row) in random_imgs.iterrows():\n",
    "        plt.imshow(row[img_col], cmap=\"gray\")\n",
    "        plt.title(row[label_col])\n",
    "        plt.show()"
   ]
  },
  {
   "cell_type": "code",
   "execution_count": null,
   "metadata": {},
   "outputs": [],
   "source": [
    "show_images(imgs, img_col=\"img\", label_col=\"category\", n=10)"
   ]
  },
  {
   "cell_type": "markdown",
   "metadata": {},
   "source": [
    "## Resizing"
   ]
  },
  {
   "cell_type": "code",
   "execution_count": null,
   "metadata": {},
   "outputs": [],
   "source": [
    "img_size = 80"
   ]
  },
  {
   "cell_type": "code",
   "execution_count": null,
   "metadata": {},
   "outputs": [],
   "source": [
    "def resize_image(img, img_size):\n",
    "    try:\n",
    "        res_img = cv2.resize(img, (img_size, img_size))\n",
    "        return res_img\n",
    "    except:\n",
    "        return None"
   ]
  },
  {
   "cell_type": "code",
   "execution_count": null,
   "metadata": {},
   "outputs": [],
   "source": [
    "imgs[\"img_res\"] = imgs[\"img\"].apply(lambda img: resize_image(img, img_size))"
   ]
  },
  {
   "cell_type": "code",
   "execution_count": null,
   "metadata": {},
   "outputs": [],
   "source": [
    "show_images(imgs, img_col=\"img_res\", label_col=\"category\", n=10)"
   ]
  },
  {
   "cell_type": "markdown",
   "metadata": {},
   "source": [
    "## Building the Training Set"
   ]
  },
  {
   "cell_type": "code",
   "execution_count": null,
   "metadata": {},
   "outputs": [],
   "source": [
    "import numpy as np"
   ]
  },
  {
   "cell_type": "code",
   "execution_count": null,
   "metadata": {},
   "outputs": [],
   "source": [
    "def tensorize(imgs):\n",
    "    \"\"\"Prepare as tensors X, y to feed to the network\"\"\"\n",
    "    imgs = imgs.sample(frac=1) # shuffle\n",
    "    X = np.array([img for img in imgs[\"img_res\"]])\n",
    "    X = X.reshape(-1, img_size, img_size, 1)\n",
    "    X = X / 255 # normalize\n",
    "    y = np.array([label for label in imgs[\"label\"]])\n",
    "    return X, y"
   ]
  },
  {
   "cell_type": "code",
   "execution_count": null,
   "metadata": {},
   "outputs": [],
   "source": [
    "X, y = tensorize(imgs)"
   ]
  },
  {
   "cell_type": "markdown",
   "metadata": {},
   "source": [
    "## Building the Network"
   ]
  },
  {
   "cell_type": "code",
   "execution_count": null,
   "metadata": {},
   "outputs": [],
   "source": [
    "X.shape[1:]"
   ]
  },
  {
   "cell_type": "code",
   "execution_count": null,
   "metadata": {},
   "outputs": [],
   "source": [
    "model = tf.keras.models.Sequential([\n",
    "    tf.keras.layers.Conv2D(filters=64, \n",
    "                           kernel_size=(3,3), \n",
    "                           input_shape=X.shape[1:],\n",
    "                           activation=\"relu\"),\n",
    "    tf.keras.layers.MaxPool2D(pool_size=(2,2)),\n",
    "    tf.keras.layers.Conv2D(filters=64, \n",
    "                           kernel_size=(3,3), \n",
    "                           activation=\"relu\"),\n",
    "    tf.keras.layers.MaxPool2D(pool_size=(2,2)),\n",
    "    tf.keras.layers.Flatten(),\n",
    "    tf.keras.layers.Dense(units=64, activation=\"relu\"),\n",
    "    tf.keras.layers.Dense(units=1, activation=\"sigmoid\")\n",
    "])"
   ]
  },
  {
   "cell_type": "code",
   "execution_count": null,
   "metadata": {},
   "outputs": [],
   "source": [
    "model.compile(optimizer='adam',\n",
    "              loss='binary_crossentropy',\n",
    "              metrics=['accuracy'])"
   ]
  },
  {
   "cell_type": "code",
   "execution_count": null,
   "metadata": {},
   "outputs": [],
   "source": [
    "%%time\n",
    "model.fit(X, y,\n",
    "          batch_size=32,\n",
    "          validation_split=0.2,\n",
    "          epochs=1, \n",
    "          callbacks=[\n",
    "              tf.keras.callbacks.EarlyStopping(monitor='loss', min_delta=0.01),\n",
    "              tf.keras.callbacks.TensorBoard(log_dir='./Graph', \n",
    "                                             histogram_freq=0, \n",
    "                                             write_graph=True, \n",
    "                                             write_images=True)\n",
    "          ],\n",
    "        )"
   ]
  },
  {
   "cell_type": "code",
   "execution_count": null,
   "metadata": {},
   "outputs": [],
   "source": [
    "X.shape"
   ]
  },
  {
   "cell_type": "code",
   "execution_count": null,
   "metadata": {},
   "outputs": [],
   "source": [
    "y.shape"
   ]
  },
  {
   "cell_type": "code",
   "execution_count": null,
   "metadata": {},
   "outputs": [],
   "source": []
  },
  {
   "cell_type": "markdown",
   "metadata": {},
   "source": [
    "## Test Set"
   ]
  },
  {
   "cell_type": "code",
   "execution_count": null,
   "metadata": {},
   "outputs": [],
   "source": [
    "%time\n",
    "test_imgs = load_images(data_dir=\"/Users/cls/Desktop/catdog/\", categories=categories, n_imgs=500)"
   ]
  },
  {
   "cell_type": "code",
   "execution_count": null,
   "metadata": {},
   "outputs": [],
   "source": [
    "test_imgs.head()"
   ]
  },
  {
   "cell_type": "code",
   "execution_count": null,
   "metadata": {},
   "outputs": [],
   "source": [
    "show_images(test_imgs, img_col=\"img\", label_col=\"category\", n=10)"
   ]
  },
  {
   "cell_type": "code",
   "execution_count": null,
   "metadata": {},
   "outputs": [],
   "source": [
    "test_imgs[\"img_res\"] = test_imgs[\"img\"].apply(lambda img: resize_image(img, img_size))"
   ]
  },
  {
   "cell_type": "code",
   "execution_count": null,
   "metadata": {},
   "outputs": [],
   "source": [
    "X_test, y_test = tensorize(test_imgs)"
   ]
  },
  {
   "cell_type": "code",
   "execution_count": null,
   "metadata": {},
   "outputs": [],
   "source": [
    "y_pred = model.predict_classes(X_test)"
   ]
  },
  {
   "cell_type": "code",
   "execution_count": null,
   "metadata": {},
   "outputs": [],
   "source": [
    "inv_labels = {v: k for k, v in labels.items()}"
   ]
  },
  {
   "cell_type": "code",
   "execution_count": null,
   "metadata": {},
   "outputs": [],
   "source": [
    "test_imgs[\"label_pred\"] = pandas.Series(y_pred.flatten(), index=test_imgs.index)\n",
    "test_imgs[\"category_pred\"] = test_imgs[\"label_pred\"].apply(lambda l: inv_labels[l])"
   ]
  },
  {
   "cell_type": "code",
   "execution_count": null,
   "metadata": {},
   "outputs": [],
   "source": [
    "test_imgs.head(20)"
   ]
  },
  {
   "cell_type": "code",
   "execution_count": null,
   "metadata": {},
   "outputs": [],
   "source": [
    "show_images(test_imgs, img_col=\"img\", label_col=\"category_pred\", n=20)"
   ]
  },
  {
   "cell_type": "code",
   "execution_count": null,
   "metadata": {},
   "outputs": [],
   "source": [
    "from sklearn.metrics import accuracy_score, precision_score, recall_score, f1_score\n",
    "accuracy = accuracy_score(y_true=test_imgs[\"label\"], y_pred=test_imgs[\"label_pred\"])\n",
    "precision = precision_score(y_true=test_imgs[\"label\"], y_pred=test_imgs[\"label_pred\"])\n",
    "recall = recall_score(y_true=test_imgs[\"label\"], y_pred=test_imgs[\"label_pred\"])\n",
    "f1 = f1_score(y_true=test_imgs[\"label\"], y_pred=test_imgs[\"label_pred\"])"
   ]
  },
  {
   "cell_type": "code",
   "execution_count": null,
   "metadata": {},
   "outputs": [],
   "source": [
    "print(f\"\"\"\n",
    "accuracy: {accuracy}\n",
    "precision: {precision}\n",
    "recall : {recall}\n",
    "f1 : {f1}\n",
    "\"\"\")"
   ]
  },
  {
   "cell_type": "markdown",
   "metadata": {},
   "source": [
    "---\n",
    "_This notebook is licensed under a [Creative Commons Attribution-NonCommercial-ShareAlike 4.0 International (CC BY-NC-SA 4.0)](https://creativecommons.org/licenses/by-nc-sa/4.0/). Copyright © 2018-2022 [Point 8 GmbH](https://point-8.de)_"
   ]
  }
 ],
 "metadata": {
  "kernelspec": {
   "display_name": "Python 3",
   "language": "python",
   "name": "python3"
  },
  "language_info": {
   "codemirror_mode": {
    "name": "ipython",
    "version": 3
   },
   "file_extension": ".py",
   "mimetype": "text/x-python",
   "name": "python",
   "nbconvert_exporter": "python",
   "pygments_lexer": "ipython3",
   "version": "3.8.0"
  }
 },
 "nbformat": 4,
 "nbformat_minor": 4
}
