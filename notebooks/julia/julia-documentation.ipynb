{
 "cells": [
  {
   "cell_type": "markdown",
   "metadata": {},
   "source": [
    "# Documenting Julia Code"
   ]
  },
  {
   "cell_type": "code",
   "execution_count": 4,
   "metadata": {},
   "outputs": [
    {
     "data": {
      "text/plain": [
       "fibonacci"
      ]
     },
     "metadata": {},
     "output_type": "display_data"
    }
   ],
   "source": [
    "\"\"\"\n",
    "    fibonacci(n)\n",
    "\n",
    "Calculate the Fibonacci sequence up to the nth number.\n",
    "\n",
    "Arguments\n",
    "- `n`: The position in the Fibonacci sequence to calculate up to. Must be a positive integer.\n",
    "\n",
    "Returns\n",
    "- An array containing the Fibonacci sequence up to the nth number.\n",
    "\"\"\"\n",
    "function fibonacci(n)\n",
    "    fib_sequence = zeros(Int, n)\n",
    "    fib_sequence[1] = 0\n",
    "    fib_sequence[2] = 1\n",
    "    for i = 3:n\n",
    "        fib_sequence[i] = fib_sequence[i - 1] + fib_sequence[i - 2]\n",
    "    end\n",
    "    return fib_sequencea\n",
    "end"
   ]
  },
  {
   "cell_type": "code",
   "execution_count": 5,
   "metadata": {},
   "outputs": [
    {
     "data": {
      "text/latex": [
       "\\begin{verbatim}\n",
       "fibonacci(n)\n",
       "\\end{verbatim}\n",
       "Calculate the Fibonacci sequence up to the nth number.\n",
       "\n",
       "Arguments\n",
       "\n",
       "\\begin{itemize}\n",
       "\\item \\texttt{n}: The position in the Fibonacci sequence to calculate up to. Must be a positive integer.\n",
       "\n",
       "\\end{itemize}\n",
       "Returns\n",
       "\n",
       "\\begin{itemize}\n",
       "\\item An array containing the Fibonacci sequence up to the nth number.\n",
       "\n",
       "\\end{itemize}\n"
      ],
      "text/markdown": [
       "```\n",
       "fibonacci(n)\n",
       "```\n",
       "\n",
       "Calculate the Fibonacci sequence up to the nth number.\n",
       "\n",
       "Arguments\n",
       "\n",
       "  * `n`: The position in the Fibonacci sequence to calculate up to. Must be a positive integer.\n",
       "\n",
       "Returns\n",
       "\n",
       "  * An array containing the Fibonacci sequence up to the nth number.\n"
      ],
      "text/plain": [
       "\u001b[36m  fibonacci(n)\u001b[39m\n",
       "\n",
       "  Calculate the Fibonacci sequence up to the nth number.\n",
       "\n",
       "  Arguments\n",
       "\n",
       "    •  \u001b[36mn\u001b[39m: The position in the Fibonacci sequence to calculate up to. Must\n",
       "       be a positive integer.\n",
       "\n",
       "  Returns\n",
       "\n",
       "    •  An array containing the Fibonacci sequence up to the nth number."
      ]
     },
     "metadata": {},
     "output_type": "display_data"
    }
   ],
   "source": [
    "@doc fibonacci"
   ]
  },
  {
   "cell_type": "code",
   "execution_count": 5,
   "metadata": {},
   "outputs": [
    {
     "name": "stderr",
     "output_type": "stream",
     "text": [
      "\u001b[32m\u001b[1m   Resolving\u001b[22m\u001b[39m package versions...\n"
     ]
    },
    {
     "name": "stderr",
     "output_type": "stream",
     "text": [
      "\u001b[32m\u001b[1m   Installed\u001b[22m\u001b[39m IOCapture ─────────────── v0.2.3\n"
     ]
    },
    {
     "name": "stderr",
     "output_type": "stream",
     "text": [
      "\u001b[32m\u001b[1m   Installed\u001b[22m\u001b[39m RegistryInstances ─────── v0.1.0\n",
      "\u001b[32m\u001b[1m   Installed\u001b[22m\u001b[39m ANSIColoredPrinters ───── v0.0.1\n",
      "\u001b[32m\u001b[1m   Installed\u001b[22m\u001b[39m AbstractTrees ─────────── v0.4.4\n",
      "\u001b[32m\u001b[1m   Installed\u001b[22m\u001b[39m MarkdownAST ───────────── v0.1.2\n"
     ]
    },
    {
     "name": "stderr",
     "output_type": "stream",
     "text": [
      "\u001b[32m\u001b[1m   Installed\u001b[22m\u001b[39m LazilyInitializedFields ─ v1.2.2\n",
      "\u001b[32m\u001b[1m   Installed\u001b[22m\u001b[39m Documenter ────────────── v1.1.2\n"
     ]
    },
    {
     "name": "stderr",
     "output_type": "stream",
     "text": [
      "\u001b[32m\u001b[1m    Updating\u001b[22m\u001b[39m `~/.julia/environments/v1.9/Project.toml`\n",
      "  \u001b[90m[e30172f5] \u001b[39m\u001b[92m+ Documenter v1.1.2\u001b[39m\n",
      "\u001b[32m\u001b[1m    Updating\u001b[22m\u001b[39m `~/.julia/environments/v1.9/Manifest.toml`\n",
      "  \u001b[90m[a4c015fc] \u001b[39m\u001b[92m+ ANSIColoredPrinters v0.0.1\u001b[39m\n",
      "  \u001b[90m[1520ce14] \u001b[39m\u001b[92m+ AbstractTrees v0.4.4\u001b[39m\n",
      "  \u001b[90m[e30172f5] \u001b[39m\u001b[92m+ Documenter v1.1.2\u001b[39m\n",
      "  \u001b[90m[b5f81e59] \u001b[39m\u001b[92m+ IOCapture v0.2.3\u001b[39m\n",
      "  \u001b[90m[0e77f7df] \u001b[39m\u001b[92m+ LazilyInitializedFields v1.2.2\u001b[39m\n",
      "  \u001b[90m[d0879d2d] \u001b[39m\u001b[92m+ MarkdownAST v0.1.2\u001b[39m\n",
      "  \u001b[90m[2792f1a3] \u001b[39m\u001b[92m+ RegistryInstances v0.1.0\u001b[39m\n"
     ]
    },
    {
     "name": "stderr",
     "output_type": "stream",
     "text": [
      "\u001b[32m\u001b[1mPrecompiling\u001b[22m\u001b[39m "
     ]
    },
    {
     "name": "stderr",
     "output_type": "stream",
     "text": [
      "project...\n"
     ]
    },
    {
     "name": "stderr",
     "output_type": "stream",
     "text": [
      "\u001b[32m  ✓ \u001b[39m\u001b[90mIOCapture\u001b[39m\n",
      "\u001b[32m  ✓ \u001b[39m\u001b[90mLazilyInitializedFields\u001b[39m\n",
      "\u001b[32m  ✓ \u001b[39m\u001b[90mANSIColoredPrinters\u001b[39m\n",
      "\u001b[32m  ✓ \u001b[39m\u001b[90mAbstractTrees\u001b[39m\n"
     ]
    },
    {
     "name": "stderr",
     "output_type": "stream",
     "text": [
      "\u001b[32m  ✓ \u001b[39m\u001b[90mMarkdownAST\u001b[39m\n",
      "\u001b[32m  ✓ \u001b[39m\u001b[90mRegistryInstances\u001b[39m\n"
     ]
    },
    {
     "name": "stderr",
     "output_type": "stream",
     "text": [
      "\u001b[32m  ✓ \u001b[39mDocumenter\n",
      "  7 dependencies successfully precompiled in 20 seconds. 314 already precompiled.\n"
     ]
    }
   ],
   "source": [
    "import Pkg\n",
    "Pkg.add(\"Documenter\")"
   ]
  },
  {
   "cell_type": "code",
   "execution_count": 6,
   "metadata": {},
   "outputs": [
    {
     "ename": "UndefVarError",
     "evalue": "UndefVarError: `MyPackage` not defined",
     "output_type": "error",
     "traceback": [
      "UndefVarError: `MyPackage` not defined\n",
      "\n",
      "Stacktrace:\n",
      " [1] top-level scope\n",
      "   @ ~/Documents/Work/Training/point8/data-science-learning-paths/notebooks/julia/julia-documentation.ipynb:3"
     ]
    }
   ],
   "source": [
    "using Documenter\n",
    "\n",
    "makedocs(\n",
    "    sitename = \"My Package\",\n",
    "    modules = [MyPackage],\n",
    ")"
   ]
  },
  {
   "cell_type": "code",
   "execution_count": null,
   "metadata": {},
   "outputs": [],
   "source": []
  }
 ],
 "metadata": {
  "kernelspec": {
   "display_name": "Julia 1.9.4",
   "language": "julia",
   "name": "julia-1.9"
  },
  "language_info": {
   "file_extension": ".jl",
   "mimetype": "application/julia",
   "name": "julia",
   "version": "1.9.4"
  }
 },
 "nbformat": 4,
 "nbformat_minor": 2
}
