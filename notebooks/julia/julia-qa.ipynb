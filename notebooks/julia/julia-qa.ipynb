{
 "cells": [
  {
   "cell_type": "markdown",
   "metadata": {},
   "source": [
    "# Julia Q&A"
   ]
  },
  {
   "cell_type": "markdown",
   "metadata": {},
   "source": [
    "## Q: How can I ensure that the radius of a circle is positive?"
   ]
  },
  {
   "cell_type": "code",
   "execution_count": null,
   "metadata": {},
   "outputs": [],
   "source": [
    "abstract type Shape end\n",
    "\n",
    "\"\"\"\n",
    "Defines a point in a 2D space, where x and y are the coordinates of the point on the x-axis and y-axis, respectively.\n",
    "\"\"\" \n",
    "struct Point\n",
    "    x::Real\n",
    "    y::Real\n",
    "end\n",
    "\n",
    "\n",
    "\"\"\"\n",
    "Defines a circle in a 2D space, where center is the center of the circle and radius is the radius of the circle.\n",
    "\"\"\"\n",
    "struct Circle <: Shape\n",
    "    center::Point\n",
    "    radius::Real\n",
    "\n",
    "    # Inner constructor for Circle\n",
    "    function Circle(center::Point, radius::Real)\n",
    "        if radius <= 0\n",
    "            error(\"Radius must be positive\")\n",
    "        end\n",
    "        new(center, radius)\n",
    "    end\n",
    "\n",
    "end"
   ]
  },
  {
   "cell_type": "code",
   "execution_count": null,
   "metadata": {},
   "outputs": [],
   "source": [
    "Circle(Point(0,0), 1)"
   ]
  },
  {
   "cell_type": "code",
   "execution_count": null,
   "metadata": {},
   "outputs": [],
   "source": [
    "Circle(Point(0,0), -1)"
   ]
  },
  {
   "cell_type": "markdown",
   "metadata": {},
   "source": [
    "## Q: How can I define a custom string representation for my `struct`?\n",
    "\n",
    "I want to override the default representation and define how the struct is rendered as text."
   ]
  },
  {
   "cell_type": "code",
   "execution_count": null,
   "metadata": {},
   "outputs": [],
   "source": [
    "struct Person\n",
    "    first_name::String\n",
    "    last_name::String\n",
    "    age::Int\n",
    "end\n",
    "\n"
   ]
  },
  {
   "cell_type": "markdown",
   "metadata": {},
   "source": [
    "The default representation:"
   ]
  },
  {
   "cell_type": "code",
   "execution_count": null,
   "metadata": {},
   "outputs": [],
   "source": [
    "Person(\"John\", \"Doe\", 30)"
   ]
  },
  {
   "cell_type": "markdown",
   "metadata": {},
   "source": [
    "In order to override it, define the following function for the custom type:"
   ]
  },
  {
   "cell_type": "code",
   "execution_count": null,
   "metadata": {},
   "outputs": [],
   "source": [
    "# Overload the `show` function for the `Person` type\n",
    "function Base.show(io::IO, person::Person)\n",
    "    print(io, \"$(person.first_name) $(person.last_name), age $(person.age)\")\n",
    "end\n",
    "\n"
   ]
  },
  {
   "cell_type": "code",
   "execution_count": null,
   "metadata": {},
   "outputs": [],
   "source": [
    "jane_doe = Person(\"Jane\", \"Doe\", 30)\n"
   ]
  },
  {
   "cell_type": "code",
   "execution_count": null,
   "metadata": {},
   "outputs": [],
   "source": [
    "println(jane_doe) "
   ]
  },
  {
   "cell_type": "markdown",
   "metadata": {},
   "source": [
    "## Q: How can I modify a dataframe column inplace?"
   ]
  },
  {
   "cell_type": "code",
   "execution_count": 47,
   "metadata": {},
   "outputs": [
    {
     "name": "stderr",
     "output_type": "stream",
     "text": [
      "\u001b[32m\u001b[1m   Resolving\u001b[22m\u001b[39m package versions...\n"
     ]
    },
    {
     "name": "stderr",
     "output_type": "stream",
     "text": [
      "\u001b[32m\u001b[1m  No Changes\u001b[22m\u001b[39m to `~/Documents/Work/Training/point8/data-science-learning-paths/Project.toml`\n",
      "\u001b[32m\u001b[1m  No Changes\u001b[22m\u001b[39m to `~/Documents/Work/Training/point8/data-science-learning-paths/Manifest.toml`\n"
     ]
    },
    {
     "name": "stderr",
     "output_type": "stream",
     "text": [
      "\u001b[32m\u001b[1m   Resolving\u001b[22m\u001b[39m package versions...\n"
     ]
    },
    {
     "name": "stderr",
     "output_type": "stream",
     "text": [
      "\u001b[32m\u001b[1m  No Changes\u001b[22m\u001b[39m to `~/Documents/Work/Training/point8/data-science-learning-paths/Project.toml`\n",
      "\u001b[32m\u001b[1m  No Changes\u001b[22m\u001b[39m to `~/Documents/Work/Training/point8/data-science-learning-paths/Manifest.toml`\n"
     ]
    }
   ],
   "source": [
    "import Pkg\n",
    "Pkg.add(\"DataFrames\") # data frames\n",
    "Pkg.add(\"CSV\")  # reading csv files"
   ]
  },
  {
   "cell_type": "code",
   "execution_count": 48,
   "metadata": {},
   "outputs": [],
   "source": [
    "using DataFrames, CSV"
   ]
  },
  {
   "cell_type": "code",
   "execution_count": 49,
   "metadata": {},
   "outputs": [
    {
     "data": {
      "text/html": [
       "<div><div style = \"float: left;\"><span>21613×21 DataFrame</span></div><div style = \"float: right;\"><span style = \"font-style: italic;\">21588 rows omitted</span></div><div style = \"clear: both;\"></div></div><div class = \"data-frame\" style = \"overflow-x: scroll;\"><table class = \"data-frame\" style = \"margin-bottom: 6px;\"><thead><tr class = \"header\"><th class = \"rowNumber\" style = \"font-weight: bold; text-align: right;\">Row</th><th style = \"text-align: left;\">id</th><th style = \"text-align: left;\">date</th><th style = \"text-align: left;\">price</th><th style = \"text-align: left;\">bedrooms</th><th style = \"text-align: left;\">bathrooms</th><th style = \"text-align: left;\">sqft_living</th><th style = \"text-align: left;\">sqft_lot</th><th style = \"text-align: left;\">floors</th><th style = \"text-align: left;\">waterfront</th><th style = \"text-align: left;\">view</th><th style = \"text-align: left;\">condition</th><th style = \"text-align: left;\">grade</th><th style = \"text-align: left;\">sqft_above</th><th style = \"text-align: left;\">sqft_basement</th><th style = \"text-align: left;\">yr_built</th><th style = \"text-align: left;\">yr_renovated</th><th style = \"text-align: left;\">zipcode</th><th style = \"text-align: left;\">lat</th><th style = \"text-align: left;\">long</th><th style = \"text-align: left;\">sqft_living15</th><th style = \"text-align: left;\">sqft_lot15</th></tr><tr class = \"subheader headerLastRow\"><th class = \"rowNumber\" style = \"font-weight: bold; text-align: right;\"></th><th title = \"Int64\" style = \"text-align: left;\">Int64</th><th title = \"String15\" style = \"text-align: left;\">String15</th><th title = \"Float64\" style = \"text-align: left;\">Float64</th><th title = \"Int64\" style = \"text-align: left;\">Int64</th><th title = \"Float64\" style = \"text-align: left;\">Float64</th><th title = \"Int64\" style = \"text-align: left;\">Int64</th><th title = \"Int64\" style = \"text-align: left;\">Int64</th><th title = \"Float64\" style = \"text-align: left;\">Float64</th><th title = \"Int64\" style = \"text-align: left;\">Int64</th><th title = \"Int64\" style = \"text-align: left;\">Int64</th><th title = \"Int64\" style = \"text-align: left;\">Int64</th><th title = \"Int64\" style = \"text-align: left;\">Int64</th><th title = \"Int64\" style = \"text-align: left;\">Int64</th><th title = \"Int64\" style = \"text-align: left;\">Int64</th><th title = \"Int64\" style = \"text-align: left;\">Int64</th><th title = \"Int64\" style = \"text-align: left;\">Int64</th><th title = \"Int64\" style = \"text-align: left;\">Int64</th><th title = \"Float64\" style = \"text-align: left;\">Float64</th><th title = \"Float64\" style = \"text-align: left;\">Float64</th><th title = \"Int64\" style = \"text-align: left;\">Int64</th><th title = \"Int64\" style = \"text-align: left;\">Int64</th></tr></thead><tbody><tr><td class = \"rowNumber\" style = \"font-weight: bold; text-align: right;\">1</td><td style = \"text-align: right;\">7129300520</td><td style = \"text-align: left;\">20141013T000000</td><td style = \"text-align: right;\">221900.0</td><td style = \"text-align: right;\">3</td><td style = \"text-align: right;\">1.0</td><td style = \"text-align: right;\">1180</td><td style = \"text-align: right;\">5650</td><td style = \"text-align: right;\">1.0</td><td style = \"text-align: right;\">0</td><td style = \"text-align: right;\">0</td><td style = \"text-align: right;\">3</td><td style = \"text-align: right;\">7</td><td style = \"text-align: right;\">1180</td><td style = \"text-align: right;\">0</td><td style = \"text-align: right;\">1955</td><td style = \"text-align: right;\">0</td><td style = \"text-align: right;\">98178</td><td style = \"text-align: right;\">47.5112</td><td style = \"text-align: right;\">-122.257</td><td style = \"text-align: right;\">1340</td><td style = \"text-align: right;\">5650</td></tr><tr><td class = \"rowNumber\" style = \"font-weight: bold; text-align: right;\">2</td><td style = \"text-align: right;\">6414100192</td><td style = \"text-align: left;\">20141209T000000</td><td style = \"text-align: right;\">538000.0</td><td style = \"text-align: right;\">3</td><td style = \"text-align: right;\">2.25</td><td style = \"text-align: right;\">2570</td><td style = \"text-align: right;\">7242</td><td style = \"text-align: right;\">2.0</td><td style = \"text-align: right;\">0</td><td style = \"text-align: right;\">0</td><td style = \"text-align: right;\">3</td><td style = \"text-align: right;\">7</td><td style = \"text-align: right;\">2170</td><td style = \"text-align: right;\">400</td><td style = \"text-align: right;\">1951</td><td style = \"text-align: right;\">1991</td><td style = \"text-align: right;\">98125</td><td style = \"text-align: right;\">47.721</td><td style = \"text-align: right;\">-122.319</td><td style = \"text-align: right;\">1690</td><td style = \"text-align: right;\">7639</td></tr><tr><td class = \"rowNumber\" style = \"font-weight: bold; text-align: right;\">3</td><td style = \"text-align: right;\">5631500400</td><td style = \"text-align: left;\">20150225T000000</td><td style = \"text-align: right;\">180000.0</td><td style = \"text-align: right;\">2</td><td style = \"text-align: right;\">1.0</td><td style = \"text-align: right;\">770</td><td style = \"text-align: right;\">10000</td><td style = \"text-align: right;\">1.0</td><td style = \"text-align: right;\">0</td><td style = \"text-align: right;\">0</td><td style = \"text-align: right;\">3</td><td style = \"text-align: right;\">6</td><td style = \"text-align: right;\">770</td><td style = \"text-align: right;\">0</td><td style = \"text-align: right;\">1933</td><td style = \"text-align: right;\">0</td><td style = \"text-align: right;\">98028</td><td style = \"text-align: right;\">47.7379</td><td style = \"text-align: right;\">-122.233</td><td style = \"text-align: right;\">2720</td><td style = \"text-align: right;\">8062</td></tr><tr><td class = \"rowNumber\" style = \"font-weight: bold; text-align: right;\">4</td><td style = \"text-align: right;\">2487200875</td><td style = \"text-align: left;\">20141209T000000</td><td style = \"text-align: right;\">604000.0</td><td style = \"text-align: right;\">4</td><td style = \"text-align: right;\">3.0</td><td style = \"text-align: right;\">1960</td><td style = \"text-align: right;\">5000</td><td style = \"text-align: right;\">1.0</td><td style = \"text-align: right;\">0</td><td style = \"text-align: right;\">0</td><td style = \"text-align: right;\">5</td><td style = \"text-align: right;\">7</td><td style = \"text-align: right;\">1050</td><td style = \"text-align: right;\">910</td><td style = \"text-align: right;\">1965</td><td style = \"text-align: right;\">0</td><td style = \"text-align: right;\">98136</td><td style = \"text-align: right;\">47.5208</td><td style = \"text-align: right;\">-122.393</td><td style = \"text-align: right;\">1360</td><td style = \"text-align: right;\">5000</td></tr><tr><td class = \"rowNumber\" style = \"font-weight: bold; text-align: right;\">5</td><td style = \"text-align: right;\">1954400510</td><td style = \"text-align: left;\">20150218T000000</td><td style = \"text-align: right;\">510000.0</td><td style = \"text-align: right;\">3</td><td style = \"text-align: right;\">2.0</td><td style = \"text-align: right;\">1680</td><td style = \"text-align: right;\">8080</td><td style = \"text-align: right;\">1.0</td><td style = \"text-align: right;\">0</td><td style = \"text-align: right;\">0</td><td style = \"text-align: right;\">3</td><td style = \"text-align: right;\">8</td><td style = \"text-align: right;\">1680</td><td style = \"text-align: right;\">0</td><td style = \"text-align: right;\">1987</td><td style = \"text-align: right;\">0</td><td style = \"text-align: right;\">98074</td><td style = \"text-align: right;\">47.6168</td><td style = \"text-align: right;\">-122.045</td><td style = \"text-align: right;\">1800</td><td style = \"text-align: right;\">7503</td></tr><tr><td class = \"rowNumber\" style = \"font-weight: bold; text-align: right;\">6</td><td style = \"text-align: right;\">7237550310</td><td style = \"text-align: left;\">20140512T000000</td><td style = \"text-align: right;\">1.225e6</td><td style = \"text-align: right;\">4</td><td style = \"text-align: right;\">4.5</td><td style = \"text-align: right;\">5420</td><td style = \"text-align: right;\">101930</td><td style = \"text-align: right;\">1.0</td><td style = \"text-align: right;\">0</td><td style = \"text-align: right;\">0</td><td style = \"text-align: right;\">3</td><td style = \"text-align: right;\">11</td><td style = \"text-align: right;\">3890</td><td style = \"text-align: right;\">1530</td><td style = \"text-align: right;\">2001</td><td style = \"text-align: right;\">0</td><td style = \"text-align: right;\">98053</td><td style = \"text-align: right;\">47.6561</td><td style = \"text-align: right;\">-122.005</td><td style = \"text-align: right;\">4760</td><td style = \"text-align: right;\">101930</td></tr><tr><td class = \"rowNumber\" style = \"font-weight: bold; text-align: right;\">7</td><td style = \"text-align: right;\">1321400060</td><td style = \"text-align: left;\">20140627T000000</td><td style = \"text-align: right;\">257500.0</td><td style = \"text-align: right;\">3</td><td style = \"text-align: right;\">2.25</td><td style = \"text-align: right;\">1715</td><td style = \"text-align: right;\">6819</td><td style = \"text-align: right;\">2.0</td><td style = \"text-align: right;\">0</td><td style = \"text-align: right;\">0</td><td style = \"text-align: right;\">3</td><td style = \"text-align: right;\">7</td><td style = \"text-align: right;\">1715</td><td style = \"text-align: right;\">0</td><td style = \"text-align: right;\">1995</td><td style = \"text-align: right;\">0</td><td style = \"text-align: right;\">98003</td><td style = \"text-align: right;\">47.3097</td><td style = \"text-align: right;\">-122.327</td><td style = \"text-align: right;\">2238</td><td style = \"text-align: right;\">6819</td></tr><tr><td class = \"rowNumber\" style = \"font-weight: bold; text-align: right;\">8</td><td style = \"text-align: right;\">2008000270</td><td style = \"text-align: left;\">20150115T000000</td><td style = \"text-align: right;\">291850.0</td><td style = \"text-align: right;\">3</td><td style = \"text-align: right;\">1.5</td><td style = \"text-align: right;\">1060</td><td style = \"text-align: right;\">9711</td><td style = \"text-align: right;\">1.0</td><td style = \"text-align: right;\">0</td><td style = \"text-align: right;\">0</td><td style = \"text-align: right;\">3</td><td style = \"text-align: right;\">7</td><td style = \"text-align: right;\">1060</td><td style = \"text-align: right;\">0</td><td style = \"text-align: right;\">1963</td><td style = \"text-align: right;\">0</td><td style = \"text-align: right;\">98198</td><td style = \"text-align: right;\">47.4095</td><td style = \"text-align: right;\">-122.315</td><td style = \"text-align: right;\">1650</td><td style = \"text-align: right;\">9711</td></tr><tr><td class = \"rowNumber\" style = \"font-weight: bold; text-align: right;\">9</td><td style = \"text-align: right;\">2414600126</td><td style = \"text-align: left;\">20150415T000000</td><td style = \"text-align: right;\">229500.0</td><td style = \"text-align: right;\">3</td><td style = \"text-align: right;\">1.0</td><td style = \"text-align: right;\">1780</td><td style = \"text-align: right;\">7470</td><td style = \"text-align: right;\">1.0</td><td style = \"text-align: right;\">0</td><td style = \"text-align: right;\">0</td><td style = \"text-align: right;\">3</td><td style = \"text-align: right;\">7</td><td style = \"text-align: right;\">1050</td><td style = \"text-align: right;\">730</td><td style = \"text-align: right;\">1960</td><td style = \"text-align: right;\">0</td><td style = \"text-align: right;\">98146</td><td style = \"text-align: right;\">47.5123</td><td style = \"text-align: right;\">-122.337</td><td style = \"text-align: right;\">1780</td><td style = \"text-align: right;\">8113</td></tr><tr><td class = \"rowNumber\" style = \"font-weight: bold; text-align: right;\">10</td><td style = \"text-align: right;\">3793500160</td><td style = \"text-align: left;\">20150312T000000</td><td style = \"text-align: right;\">323000.0</td><td style = \"text-align: right;\">3</td><td style = \"text-align: right;\">2.5</td><td style = \"text-align: right;\">1890</td><td style = \"text-align: right;\">6560</td><td style = \"text-align: right;\">2.0</td><td style = \"text-align: right;\">0</td><td style = \"text-align: right;\">0</td><td style = \"text-align: right;\">3</td><td style = \"text-align: right;\">7</td><td style = \"text-align: right;\">1890</td><td style = \"text-align: right;\">0</td><td style = \"text-align: right;\">2003</td><td style = \"text-align: right;\">0</td><td style = \"text-align: right;\">98038</td><td style = \"text-align: right;\">47.3684</td><td style = \"text-align: right;\">-122.031</td><td style = \"text-align: right;\">2390</td><td style = \"text-align: right;\">7570</td></tr><tr><td class = \"rowNumber\" style = \"font-weight: bold; text-align: right;\">11</td><td style = \"text-align: right;\">1736800520</td><td style = \"text-align: left;\">20150403T000000</td><td style = \"text-align: right;\">662500.0</td><td style = \"text-align: right;\">3</td><td style = \"text-align: right;\">2.5</td><td style = \"text-align: right;\">3560</td><td style = \"text-align: right;\">9796</td><td style = \"text-align: right;\">1.0</td><td style = \"text-align: right;\">0</td><td style = \"text-align: right;\">0</td><td style = \"text-align: right;\">3</td><td style = \"text-align: right;\">8</td><td style = \"text-align: right;\">1860</td><td style = \"text-align: right;\">1700</td><td style = \"text-align: right;\">1965</td><td style = \"text-align: right;\">0</td><td style = \"text-align: right;\">98007</td><td style = \"text-align: right;\">47.6007</td><td style = \"text-align: right;\">-122.145</td><td style = \"text-align: right;\">2210</td><td style = \"text-align: right;\">8925</td></tr><tr><td class = \"rowNumber\" style = \"font-weight: bold; text-align: right;\">12</td><td style = \"text-align: right;\">9212900260</td><td style = \"text-align: left;\">20140527T000000</td><td style = \"text-align: right;\">468000.0</td><td style = \"text-align: right;\">2</td><td style = \"text-align: right;\">1.0</td><td style = \"text-align: right;\">1160</td><td style = \"text-align: right;\">6000</td><td style = \"text-align: right;\">1.0</td><td style = \"text-align: right;\">0</td><td style = \"text-align: right;\">0</td><td style = \"text-align: right;\">4</td><td style = \"text-align: right;\">7</td><td style = \"text-align: right;\">860</td><td style = \"text-align: right;\">300</td><td style = \"text-align: right;\">1942</td><td style = \"text-align: right;\">0</td><td style = \"text-align: right;\">98115</td><td style = \"text-align: right;\">47.69</td><td style = \"text-align: right;\">-122.292</td><td style = \"text-align: right;\">1330</td><td style = \"text-align: right;\">6000</td></tr><tr><td class = \"rowNumber\" style = \"font-weight: bold; text-align: right;\">13</td><td style = \"text-align: right;\">114101516</td><td style = \"text-align: left;\">20140528T000000</td><td style = \"text-align: right;\">310000.0</td><td style = \"text-align: right;\">3</td><td style = \"text-align: right;\">1.0</td><td style = \"text-align: right;\">1430</td><td style = \"text-align: right;\">19901</td><td style = \"text-align: right;\">1.5</td><td style = \"text-align: right;\">0</td><td style = \"text-align: right;\">0</td><td style = \"text-align: right;\">4</td><td style = \"text-align: right;\">7</td><td style = \"text-align: right;\">1430</td><td style = \"text-align: right;\">0</td><td style = \"text-align: right;\">1927</td><td style = \"text-align: right;\">0</td><td style = \"text-align: right;\">98028</td><td style = \"text-align: right;\">47.7558</td><td style = \"text-align: right;\">-122.229</td><td style = \"text-align: right;\">1780</td><td style = \"text-align: right;\">12697</td></tr><tr><td style = \"text-align: right;\">&vellip;</td><td style = \"text-align: right;\">&vellip;</td><td style = \"text-align: right;\">&vellip;</td><td style = \"text-align: right;\">&vellip;</td><td style = \"text-align: right;\">&vellip;</td><td style = \"text-align: right;\">&vellip;</td><td style = \"text-align: right;\">&vellip;</td><td style = \"text-align: right;\">&vellip;</td><td style = \"text-align: right;\">&vellip;</td><td style = \"text-align: right;\">&vellip;</td><td style = \"text-align: right;\">&vellip;</td><td style = \"text-align: right;\">&vellip;</td><td style = \"text-align: right;\">&vellip;</td><td style = \"text-align: right;\">&vellip;</td><td style = \"text-align: right;\">&vellip;</td><td style = \"text-align: right;\">&vellip;</td><td style = \"text-align: right;\">&vellip;</td><td style = \"text-align: right;\">&vellip;</td><td style = \"text-align: right;\">&vellip;</td><td style = \"text-align: right;\">&vellip;</td><td style = \"text-align: right;\">&vellip;</td><td style = \"text-align: right;\">&vellip;</td></tr><tr><td class = \"rowNumber\" style = \"font-weight: bold; text-align: right;\">21602</td><td style = \"text-align: right;\">5100403806</td><td style = \"text-align: left;\">20150407T000000</td><td style = \"text-align: right;\">467000.0</td><td style = \"text-align: right;\">3</td><td style = \"text-align: right;\">2.5</td><td style = \"text-align: right;\">1425</td><td style = \"text-align: right;\">1179</td><td style = \"text-align: right;\">3.0</td><td style = \"text-align: right;\">0</td><td style = \"text-align: right;\">0</td><td style = \"text-align: right;\">3</td><td style = \"text-align: right;\">8</td><td style = \"text-align: right;\">1425</td><td style = \"text-align: right;\">0</td><td style = \"text-align: right;\">2008</td><td style = \"text-align: right;\">0</td><td style = \"text-align: right;\">98125</td><td style = \"text-align: right;\">47.6963</td><td style = \"text-align: right;\">-122.318</td><td style = \"text-align: right;\">1285</td><td style = \"text-align: right;\">1253</td></tr><tr><td class = \"rowNumber\" style = \"font-weight: bold; text-align: right;\">21603</td><td style = \"text-align: right;\">844000965</td><td style = \"text-align: left;\">20140626T000000</td><td style = \"text-align: right;\">224000.0</td><td style = \"text-align: right;\">3</td><td style = \"text-align: right;\">1.75</td><td style = \"text-align: right;\">1500</td><td style = \"text-align: right;\">11968</td><td style = \"text-align: right;\">1.0</td><td style = \"text-align: right;\">0</td><td style = \"text-align: right;\">0</td><td style = \"text-align: right;\">3</td><td style = \"text-align: right;\">6</td><td style = \"text-align: right;\">1500</td><td style = \"text-align: right;\">0</td><td style = \"text-align: right;\">2014</td><td style = \"text-align: right;\">0</td><td style = \"text-align: right;\">98010</td><td style = \"text-align: right;\">47.3095</td><td style = \"text-align: right;\">-122.002</td><td style = \"text-align: right;\">1320</td><td style = \"text-align: right;\">11303</td></tr><tr><td class = \"rowNumber\" style = \"font-weight: bold; text-align: right;\">21604</td><td style = \"text-align: right;\">7852140040</td><td style = \"text-align: left;\">20140825T000000</td><td style = \"text-align: right;\">507250.0</td><td style = \"text-align: right;\">3</td><td style = \"text-align: right;\">2.5</td><td style = \"text-align: right;\">2270</td><td style = \"text-align: right;\">5536</td><td style = \"text-align: right;\">2.0</td><td style = \"text-align: right;\">0</td><td style = \"text-align: right;\">0</td><td style = \"text-align: right;\">3</td><td style = \"text-align: right;\">8</td><td style = \"text-align: right;\">2270</td><td style = \"text-align: right;\">0</td><td style = \"text-align: right;\">2003</td><td style = \"text-align: right;\">0</td><td style = \"text-align: right;\">98065</td><td style = \"text-align: right;\">47.5389</td><td style = \"text-align: right;\">-121.881</td><td style = \"text-align: right;\">2270</td><td style = \"text-align: right;\">5731</td></tr><tr><td class = \"rowNumber\" style = \"font-weight: bold; text-align: right;\">21605</td><td style = \"text-align: right;\">9834201367</td><td style = \"text-align: left;\">20150126T000000</td><td style = \"text-align: right;\">429000.0</td><td style = \"text-align: right;\">3</td><td style = \"text-align: right;\">2.0</td><td style = \"text-align: right;\">1490</td><td style = \"text-align: right;\">1126</td><td style = \"text-align: right;\">3.0</td><td style = \"text-align: right;\">0</td><td style = \"text-align: right;\">0</td><td style = \"text-align: right;\">3</td><td style = \"text-align: right;\">8</td><td style = \"text-align: right;\">1490</td><td style = \"text-align: right;\">0</td><td style = \"text-align: right;\">2014</td><td style = \"text-align: right;\">0</td><td style = \"text-align: right;\">98144</td><td style = \"text-align: right;\">47.5699</td><td style = \"text-align: right;\">-122.288</td><td style = \"text-align: right;\">1400</td><td style = \"text-align: right;\">1230</td></tr><tr><td class = \"rowNumber\" style = \"font-weight: bold; text-align: right;\">21606</td><td style = \"text-align: right;\">3448900210</td><td style = \"text-align: left;\">20141014T000000</td><td style = \"text-align: right;\">610685.0</td><td style = \"text-align: right;\">4</td><td style = \"text-align: right;\">2.5</td><td style = \"text-align: right;\">2520</td><td style = \"text-align: right;\">6023</td><td style = \"text-align: right;\">2.0</td><td style = \"text-align: right;\">0</td><td style = \"text-align: right;\">0</td><td style = \"text-align: right;\">3</td><td style = \"text-align: right;\">9</td><td style = \"text-align: right;\">2520</td><td style = \"text-align: right;\">0</td><td style = \"text-align: right;\">2014</td><td style = \"text-align: right;\">0</td><td style = \"text-align: right;\">98056</td><td style = \"text-align: right;\">47.5137</td><td style = \"text-align: right;\">-122.167</td><td style = \"text-align: right;\">2520</td><td style = \"text-align: right;\">6023</td></tr><tr><td class = \"rowNumber\" style = \"font-weight: bold; text-align: right;\">21607</td><td style = \"text-align: right;\">7936000429</td><td style = \"text-align: left;\">20150326T000000</td><td style = \"text-align: right;\">1.0075e6</td><td style = \"text-align: right;\">4</td><td style = \"text-align: right;\">3.5</td><td style = \"text-align: right;\">3510</td><td style = \"text-align: right;\">7200</td><td style = \"text-align: right;\">2.0</td><td style = \"text-align: right;\">0</td><td style = \"text-align: right;\">0</td><td style = \"text-align: right;\">3</td><td style = \"text-align: right;\">9</td><td style = \"text-align: right;\">2600</td><td style = \"text-align: right;\">910</td><td style = \"text-align: right;\">2009</td><td style = \"text-align: right;\">0</td><td style = \"text-align: right;\">98136</td><td style = \"text-align: right;\">47.5537</td><td style = \"text-align: right;\">-122.398</td><td style = \"text-align: right;\">2050</td><td style = \"text-align: right;\">6200</td></tr><tr><td class = \"rowNumber\" style = \"font-weight: bold; text-align: right;\">21608</td><td style = \"text-align: right;\">2997800021</td><td style = \"text-align: left;\">20150219T000000</td><td style = \"text-align: right;\">475000.0</td><td style = \"text-align: right;\">3</td><td style = \"text-align: right;\">2.5</td><td style = \"text-align: right;\">1310</td><td style = \"text-align: right;\">1294</td><td style = \"text-align: right;\">2.0</td><td style = \"text-align: right;\">0</td><td style = \"text-align: right;\">0</td><td style = \"text-align: right;\">3</td><td style = \"text-align: right;\">8</td><td style = \"text-align: right;\">1180</td><td style = \"text-align: right;\">130</td><td style = \"text-align: right;\">2008</td><td style = \"text-align: right;\">0</td><td style = \"text-align: right;\">98116</td><td style = \"text-align: right;\">47.5773</td><td style = \"text-align: right;\">-122.409</td><td style = \"text-align: right;\">1330</td><td style = \"text-align: right;\">1265</td></tr><tr><td class = \"rowNumber\" style = \"font-weight: bold; text-align: right;\">21609</td><td style = \"text-align: right;\">263000018</td><td style = \"text-align: left;\">20140521T000000</td><td style = \"text-align: right;\">360000.0</td><td style = \"text-align: right;\">3</td><td style = \"text-align: right;\">2.5</td><td style = \"text-align: right;\">1530</td><td style = \"text-align: right;\">1131</td><td style = \"text-align: right;\">3.0</td><td style = \"text-align: right;\">0</td><td style = \"text-align: right;\">0</td><td style = \"text-align: right;\">3</td><td style = \"text-align: right;\">8</td><td style = \"text-align: right;\">1530</td><td style = \"text-align: right;\">0</td><td style = \"text-align: right;\">2009</td><td style = \"text-align: right;\">0</td><td style = \"text-align: right;\">98103</td><td style = \"text-align: right;\">47.6993</td><td style = \"text-align: right;\">-122.346</td><td style = \"text-align: right;\">1530</td><td style = \"text-align: right;\">1509</td></tr><tr><td class = \"rowNumber\" style = \"font-weight: bold; text-align: right;\">21610</td><td style = \"text-align: right;\">6600060120</td><td style = \"text-align: left;\">20150223T000000</td><td style = \"text-align: right;\">400000.0</td><td style = \"text-align: right;\">4</td><td style = \"text-align: right;\">2.5</td><td style = \"text-align: right;\">2310</td><td style = \"text-align: right;\">5813</td><td style = \"text-align: right;\">2.0</td><td style = \"text-align: right;\">0</td><td style = \"text-align: right;\">0</td><td style = \"text-align: right;\">3</td><td style = \"text-align: right;\">8</td><td style = \"text-align: right;\">2310</td><td style = \"text-align: right;\">0</td><td style = \"text-align: right;\">2014</td><td style = \"text-align: right;\">0</td><td style = \"text-align: right;\">98146</td><td style = \"text-align: right;\">47.5107</td><td style = \"text-align: right;\">-122.362</td><td style = \"text-align: right;\">1830</td><td style = \"text-align: right;\">7200</td></tr><tr><td class = \"rowNumber\" style = \"font-weight: bold; text-align: right;\">21611</td><td style = \"text-align: right;\">1523300141</td><td style = \"text-align: left;\">20140623T000000</td><td style = \"text-align: right;\">402101.0</td><td style = \"text-align: right;\">2</td><td style = \"text-align: right;\">0.75</td><td style = \"text-align: right;\">1020</td><td style = \"text-align: right;\">1350</td><td style = \"text-align: right;\">2.0</td><td style = \"text-align: right;\">0</td><td style = \"text-align: right;\">0</td><td style = \"text-align: right;\">3</td><td style = \"text-align: right;\">7</td><td style = \"text-align: right;\">1020</td><td style = \"text-align: right;\">0</td><td style = \"text-align: right;\">2009</td><td style = \"text-align: right;\">0</td><td style = \"text-align: right;\">98144</td><td style = \"text-align: right;\">47.5944</td><td style = \"text-align: right;\">-122.299</td><td style = \"text-align: right;\">1020</td><td style = \"text-align: right;\">2007</td></tr><tr><td class = \"rowNumber\" style = \"font-weight: bold; text-align: right;\">21612</td><td style = \"text-align: right;\">291310100</td><td style = \"text-align: left;\">20150116T000000</td><td style = \"text-align: right;\">400000.0</td><td style = \"text-align: right;\">3</td><td style = \"text-align: right;\">2.5</td><td style = \"text-align: right;\">1600</td><td style = \"text-align: right;\">2388</td><td style = \"text-align: right;\">2.0</td><td style = \"text-align: right;\">0</td><td style = \"text-align: right;\">0</td><td style = \"text-align: right;\">3</td><td style = \"text-align: right;\">8</td><td style = \"text-align: right;\">1600</td><td style = \"text-align: right;\">0</td><td style = \"text-align: right;\">2004</td><td style = \"text-align: right;\">0</td><td style = \"text-align: right;\">98027</td><td style = \"text-align: right;\">47.5345</td><td style = \"text-align: right;\">-122.069</td><td style = \"text-align: right;\">1410</td><td style = \"text-align: right;\">1287</td></tr><tr><td class = \"rowNumber\" style = \"font-weight: bold; text-align: right;\">21613</td><td style = \"text-align: right;\">1523300157</td><td style = \"text-align: left;\">20141015T000000</td><td style = \"text-align: right;\">325000.0</td><td style = \"text-align: right;\">2</td><td style = \"text-align: right;\">0.75</td><td style = \"text-align: right;\">1020</td><td style = \"text-align: right;\">1076</td><td style = \"text-align: right;\">2.0</td><td style = \"text-align: right;\">0</td><td style = \"text-align: right;\">0</td><td style = \"text-align: right;\">3</td><td style = \"text-align: right;\">7</td><td style = \"text-align: right;\">1020</td><td style = \"text-align: right;\">0</td><td style = \"text-align: right;\">2008</td><td style = \"text-align: right;\">0</td><td style = \"text-align: right;\">98144</td><td style = \"text-align: right;\">47.5941</td><td style = \"text-align: right;\">-122.299</td><td style = \"text-align: right;\">1020</td><td style = \"text-align: right;\">1357</td></tr></tbody></table></div>"
      ],
      "text/latex": [
       "\\begin{tabular}{r|cccccccc}\n",
       "\t& id & date & price & bedrooms & bathrooms & sqft\\_living & sqft\\_lot & \\\\\n",
       "\t\\hline\n",
       "\t& Int64 & String15 & Float64 & Int64 & Float64 & Int64 & Int64 & \\\\\n",
       "\t\\hline\n",
       "\t1 & 7129300520 & 20141013T000000 & 221900.0 & 3 & 1.0 & 1180 & 5650 & $\\dots$ \\\\\n",
       "\t2 & 6414100192 & 20141209T000000 & 538000.0 & 3 & 2.25 & 2570 & 7242 & $\\dots$ \\\\\n",
       "\t3 & 5631500400 & 20150225T000000 & 180000.0 & 2 & 1.0 & 770 & 10000 & $\\dots$ \\\\\n",
       "\t4 & 2487200875 & 20141209T000000 & 604000.0 & 4 & 3.0 & 1960 & 5000 & $\\dots$ \\\\\n",
       "\t5 & 1954400510 & 20150218T000000 & 510000.0 & 3 & 2.0 & 1680 & 8080 & $\\dots$ \\\\\n",
       "\t6 & 7237550310 & 20140512T000000 & 1.225e6 & 4 & 4.5 & 5420 & 101930 & $\\dots$ \\\\\n",
       "\t7 & 1321400060 & 20140627T000000 & 257500.0 & 3 & 2.25 & 1715 & 6819 & $\\dots$ \\\\\n",
       "\t8 & 2008000270 & 20150115T000000 & 291850.0 & 3 & 1.5 & 1060 & 9711 & $\\dots$ \\\\\n",
       "\t9 & 2414600126 & 20150415T000000 & 229500.0 & 3 & 1.0 & 1780 & 7470 & $\\dots$ \\\\\n",
       "\t10 & 3793500160 & 20150312T000000 & 323000.0 & 3 & 2.5 & 1890 & 6560 & $\\dots$ \\\\\n",
       "\t11 & 1736800520 & 20150403T000000 & 662500.0 & 3 & 2.5 & 3560 & 9796 & $\\dots$ \\\\\n",
       "\t12 & 9212900260 & 20140527T000000 & 468000.0 & 2 & 1.0 & 1160 & 6000 & $\\dots$ \\\\\n",
       "\t13 & 114101516 & 20140528T000000 & 310000.0 & 3 & 1.0 & 1430 & 19901 & $\\dots$ \\\\\n",
       "\t14 & 6054650070 & 20141007T000000 & 400000.0 & 3 & 1.75 & 1370 & 9680 & $\\dots$ \\\\\n",
       "\t15 & 1175000570 & 20150312T000000 & 530000.0 & 5 & 2.0 & 1810 & 4850 & $\\dots$ \\\\\n",
       "\t16 & 9297300055 & 20150124T000000 & 650000.0 & 4 & 3.0 & 2950 & 5000 & $\\dots$ \\\\\n",
       "\t17 & 1875500060 & 20140731T000000 & 395000.0 & 3 & 2.0 & 1890 & 14040 & $\\dots$ \\\\\n",
       "\t18 & 6865200140 & 20140529T000000 & 485000.0 & 4 & 1.0 & 1600 & 4300 & $\\dots$ \\\\\n",
       "\t19 & 16000397 & 20141205T000000 & 189000.0 & 2 & 1.0 & 1200 & 9850 & $\\dots$ \\\\\n",
       "\t20 & 7983200060 & 20150424T000000 & 230000.0 & 3 & 1.0 & 1250 & 9774 & $\\dots$ \\\\\n",
       "\t21 & 6300500875 & 20140514T000000 & 385000.0 & 4 & 1.75 & 1620 & 4980 & $\\dots$ \\\\\n",
       "\t22 & 2524049179 & 20140826T000000 & 2.0e6 & 3 & 2.75 & 3050 & 44867 & $\\dots$ \\\\\n",
       "\t23 & 7137970340 & 20140703T000000 & 285000.0 & 5 & 2.5 & 2270 & 6300 & $\\dots$ \\\\\n",
       "\t24 & 8091400200 & 20140516T000000 & 252700.0 & 2 & 1.5 & 1070 & 9643 & $\\dots$ \\\\\n",
       "\t$\\dots$ & $\\dots$ & $\\dots$ & $\\dots$ & $\\dots$ & $\\dots$ & $\\dots$ & $\\dots$ &  \\\\\n",
       "\\end{tabular}\n"
      ],
      "text/plain": [
       "\u001b[1m21613×21 DataFrame\u001b[0m\n",
       "\u001b[1m   Row \u001b[0m│\u001b[1m id         \u001b[0m\u001b[1m date            \u001b[0m\u001b[1m price         \u001b[0m\u001b[1m bedrooms \u001b[0m\u001b[1m bathrooms \u001b[0m\u001b[1m sqft\u001b[0m ⋯\n",
       "       │\u001b[90m Int64      \u001b[0m\u001b[90m String15        \u001b[0m\u001b[90m Float64       \u001b[0m\u001b[90m Int64    \u001b[0m\u001b[90m Float64   \u001b[0m\u001b[90m Int6\u001b[0m ⋯\n",
       "───────┼────────────────────────────────────────────────────────────────────────\n",
       "     1 │ 7129300520  20141013T000000  221900.0              3       1.0        ⋯\n",
       "     2 │ 6414100192  20141209T000000  538000.0              3       2.25\n",
       "     3 │ 5631500400  20150225T000000  180000.0              2       1.0\n",
       "     4 │ 2487200875  20141209T000000  604000.0              4       3.0\n",
       "     5 │ 1954400510  20150218T000000  510000.0              3       2.0        ⋯\n",
       "     6 │ 7237550310  20140512T000000       1.225e6          4       4.5\n",
       "     7 │ 1321400060  20140627T000000  257500.0              3       2.25\n",
       "     8 │ 2008000270  20150115T000000  291850.0              3       1.5\n",
       "   ⋮   │     ⋮              ⋮               ⋮           ⋮          ⋮           ⋱\n",
       " 21607 │ 7936000429  20150326T000000       1.0075e6         4       3.5        ⋯\n",
       " 21608 │ 2997800021  20150219T000000  475000.0              3       2.5\n",
       " 21609 │  263000018  20140521T000000  360000.0              3       2.5\n",
       " 21610 │ 6600060120  20150223T000000  400000.0              4       2.5\n",
       " 21611 │ 1523300141  20140623T000000  402101.0              2       0.75       ⋯\n",
       " 21612 │  291310100  20150116T000000  400000.0              3       2.5\n",
       " 21613 │ 1523300157  20141015T000000  325000.0              2       0.75\n",
       "\u001b[36m                                               16 columns and 21598 rows omitted\u001b[0m"
      ]
     },
     "metadata": {},
     "output_type": "display_data"
    }
   ],
   "source": [
    "data = CSV.read(joinpath(\"../.assets/data/\", \"houses_seattle\", \"kc_house_data.csv\"), DataFrame)"
   ]
  },
  {
   "cell_type": "markdown",
   "metadata": {},
   "source": [
    "Multiplying a column with a factor like this..."
   ]
  },
  {
   "cell_type": "code",
   "execution_count": null,
   "metadata": {},
   "outputs": [],
   "source": [
    "data[!, :price] .* 2"
   ]
  },
  {
   "cell_type": "markdown",
   "metadata": {},
   "source": [
    "... does not modify the original dataframe:"
   ]
  },
  {
   "cell_type": "code",
   "execution_count": 51,
   "metadata": {},
   "outputs": [
    {
     "data": {
      "text/html": [
       "<div><div style = \"float: left;\"><span>21613×1 DataFrame</span></div><div style = \"float: right;\"><span style = \"font-style: italic;\">21588 rows omitted</span></div><div style = \"clear: both;\"></div></div><div class = \"data-frame\" style = \"overflow-x: scroll;\"><table class = \"data-frame\" style = \"margin-bottom: 6px;\"><thead><tr class = \"header\"><th class = \"rowNumber\" style = \"font-weight: bold; text-align: right;\">Row</th><th style = \"text-align: left;\">price</th></tr><tr class = \"subheader headerLastRow\"><th class = \"rowNumber\" style = \"font-weight: bold; text-align: right;\"></th><th title = \"Float64\" style = \"text-align: left;\">Float64</th></tr></thead><tbody><tr><td class = \"rowNumber\" style = \"font-weight: bold; text-align: right;\">1</td><td style = \"text-align: right;\">221900.0</td></tr><tr><td class = \"rowNumber\" style = \"font-weight: bold; text-align: right;\">2</td><td style = \"text-align: right;\">538000.0</td></tr><tr><td class = \"rowNumber\" style = \"font-weight: bold; text-align: right;\">3</td><td style = \"text-align: right;\">180000.0</td></tr><tr><td class = \"rowNumber\" style = \"font-weight: bold; text-align: right;\">4</td><td style = \"text-align: right;\">604000.0</td></tr><tr><td class = \"rowNumber\" style = \"font-weight: bold; text-align: right;\">5</td><td style = \"text-align: right;\">510000.0</td></tr><tr><td class = \"rowNumber\" style = \"font-weight: bold; text-align: right;\">6</td><td style = \"text-align: right;\">1.225e6</td></tr><tr><td class = \"rowNumber\" style = \"font-weight: bold; text-align: right;\">7</td><td style = \"text-align: right;\">257500.0</td></tr><tr><td class = \"rowNumber\" style = \"font-weight: bold; text-align: right;\">8</td><td style = \"text-align: right;\">291850.0</td></tr><tr><td class = \"rowNumber\" style = \"font-weight: bold; text-align: right;\">9</td><td style = \"text-align: right;\">229500.0</td></tr><tr><td class = \"rowNumber\" style = \"font-weight: bold; text-align: right;\">10</td><td style = \"text-align: right;\">323000.0</td></tr><tr><td class = \"rowNumber\" style = \"font-weight: bold; text-align: right;\">11</td><td style = \"text-align: right;\">662500.0</td></tr><tr><td class = \"rowNumber\" style = \"font-weight: bold; text-align: right;\">12</td><td style = \"text-align: right;\">468000.0</td></tr><tr><td class = \"rowNumber\" style = \"font-weight: bold; text-align: right;\">13</td><td style = \"text-align: right;\">310000.0</td></tr><tr><td style = \"text-align: right;\">&vellip;</td><td style = \"text-align: right;\">&vellip;</td></tr><tr><td class = \"rowNumber\" style = \"font-weight: bold; text-align: right;\">21602</td><td style = \"text-align: right;\">467000.0</td></tr><tr><td class = \"rowNumber\" style = \"font-weight: bold; text-align: right;\">21603</td><td style = \"text-align: right;\">224000.0</td></tr><tr><td class = \"rowNumber\" style = \"font-weight: bold; text-align: right;\">21604</td><td style = \"text-align: right;\">507250.0</td></tr><tr><td class = \"rowNumber\" style = \"font-weight: bold; text-align: right;\">21605</td><td style = \"text-align: right;\">429000.0</td></tr><tr><td class = \"rowNumber\" style = \"font-weight: bold; text-align: right;\">21606</td><td style = \"text-align: right;\">610685.0</td></tr><tr><td class = \"rowNumber\" style = \"font-weight: bold; text-align: right;\">21607</td><td style = \"text-align: right;\">1.0075e6</td></tr><tr><td class = \"rowNumber\" style = \"font-weight: bold; text-align: right;\">21608</td><td style = \"text-align: right;\">475000.0</td></tr><tr><td class = \"rowNumber\" style = \"font-weight: bold; text-align: right;\">21609</td><td style = \"text-align: right;\">360000.0</td></tr><tr><td class = \"rowNumber\" style = \"font-weight: bold; text-align: right;\">21610</td><td style = \"text-align: right;\">400000.0</td></tr><tr><td class = \"rowNumber\" style = \"font-weight: bold; text-align: right;\">21611</td><td style = \"text-align: right;\">402101.0</td></tr><tr><td class = \"rowNumber\" style = \"font-weight: bold; text-align: right;\">21612</td><td style = \"text-align: right;\">400000.0</td></tr><tr><td class = \"rowNumber\" style = \"font-weight: bold; text-align: right;\">21613</td><td style = \"text-align: right;\">325000.0</td></tr></tbody></table></div>"
      ],
      "text/latex": [
       "\\begin{tabular}{r|c}\n",
       "\t& price\\\\\n",
       "\t\\hline\n",
       "\t& Float64\\\\\n",
       "\t\\hline\n",
       "\t1 & 221900.0 \\\\\n",
       "\t2 & 538000.0 \\\\\n",
       "\t3 & 180000.0 \\\\\n",
       "\t4 & 604000.0 \\\\\n",
       "\t5 & 510000.0 \\\\\n",
       "\t6 & 1.225e6 \\\\\n",
       "\t7 & 257500.0 \\\\\n",
       "\t8 & 291850.0 \\\\\n",
       "\t9 & 229500.0 \\\\\n",
       "\t10 & 323000.0 \\\\\n",
       "\t11 & 662500.0 \\\\\n",
       "\t12 & 468000.0 \\\\\n",
       "\t13 & 310000.0 \\\\\n",
       "\t14 & 400000.0 \\\\\n",
       "\t15 & 530000.0 \\\\\n",
       "\t16 & 650000.0 \\\\\n",
       "\t17 & 395000.0 \\\\\n",
       "\t18 & 485000.0 \\\\\n",
       "\t19 & 189000.0 \\\\\n",
       "\t20 & 230000.0 \\\\\n",
       "\t21 & 385000.0 \\\\\n",
       "\t22 & 2.0e6 \\\\\n",
       "\t23 & 285000.0 \\\\\n",
       "\t24 & 252700.0 \\\\\n",
       "\t$\\dots$ & $\\dots$ \\\\\n",
       "\\end{tabular}\n"
      ],
      "text/plain": [
       "\u001b[1m21613×1 DataFrame\u001b[0m\n",
       "\u001b[1m   Row \u001b[0m│\u001b[1m price         \u001b[0m\n",
       "       │\u001b[90m Float64       \u001b[0m\n",
       "───────┼───────────────\n",
       "     1 │ 221900.0\n",
       "     2 │ 538000.0\n",
       "     3 │ 180000.0\n",
       "     4 │ 604000.0\n",
       "     5 │ 510000.0\n",
       "     6 │      1.225e6\n",
       "     7 │ 257500.0\n",
       "     8 │ 291850.0\n",
       "   ⋮   │       ⋮\n",
       " 21607 │      1.0075e6\n",
       " 21608 │ 475000.0\n",
       " 21609 │ 360000.0\n",
       " 21610 │ 400000.0\n",
       " 21611 │ 402101.0\n",
       " 21612 │ 400000.0\n",
       " 21613 │ 325000.0\n",
       "\u001b[36m     21598 rows omitted\u001b[0m"
      ]
     },
     "metadata": {},
     "output_type": "display_data"
    }
   ],
   "source": [
    "data[!, [:price]]"
   ]
  },
  {
   "cell_type": "markdown",
   "metadata": {},
   "source": [
    "To modify the original dataframe object, use either..."
   ]
  },
  {
   "cell_type": "code",
   "execution_count": 50,
   "metadata": {},
   "outputs": [
    {
     "data": {
      "text/plain": [
       "21613-element Vector{Float64}:\n",
       " 443800.0\n",
       "      1.076e6\n",
       " 360000.0\n",
       "      1.208e6\n",
       "      1.02e6\n",
       "      2.45e6\n",
       " 515000.0\n",
       " 583700.0\n",
       " 459000.0\n",
       " 646000.0\n",
       "      ⋮\n",
       " 858000.0\n",
       "      1.22137e6\n",
       "      2.015e6\n",
       " 950000.0\n",
       " 720000.0\n",
       " 800000.0\n",
       " 804202.0\n",
       " 800000.0\n",
       " 650000.0"
      ]
     },
     "metadata": {},
     "output_type": "display_data"
    }
   ],
   "source": [
    "data[:, :price] .* 2"
   ]
  },
  {
   "cell_type": "code",
   "execution_count": null,
   "metadata": {},
   "outputs": [],
   "source": [
    "data[!, :price] = data[!, :price] .* 2"
   ]
  },
  {
   "cell_type": "code",
   "execution_count": null,
   "metadata": {},
   "outputs": [],
   "source": [
    "data[!, [:price]]"
   ]
  },
  {
   "cell_type": "markdown",
   "metadata": {},
   "source": [
    "...or..."
   ]
  },
  {
   "cell_type": "code",
   "execution_count": null,
   "metadata": {},
   "outputs": [],
   "source": [
    "transform!(\n",
    "    data, \n",
    "    :price => (x -> 2 .* x) => :price\n",
    ")\n"
   ]
  },
  {
   "cell_type": "code",
   "execution_count": null,
   "metadata": {},
   "outputs": [],
   "source": [
    "data"
   ]
  },
  {
   "cell_type": "markdown",
   "metadata": {},
   "source": [
    "Without the !, the function does not modify the original dataframe inplace:"
   ]
  },
  {
   "cell_type": "code",
   "execution_count": null,
   "metadata": {},
   "outputs": [],
   "source": [
    "transform(\n",
    "    data, \n",
    "    :price => (x -> 2 .* x) => :price\n",
    ")\n"
   ]
  },
  {
   "cell_type": "code",
   "execution_count": null,
   "metadata": {},
   "outputs": [],
   "source": [
    "data"
   ]
  },
  {
   "cell_type": "markdown",
   "metadata": {},
   "source": [
    "## Q: How to install a specific version of a package?"
   ]
  },
  {
   "cell_type": "code",
   "execution_count": null,
   "metadata": {},
   "outputs": [],
   "source": [
    "using Pkg\n"
   ]
  },
  {
   "cell_type": "code",
   "execution_count": null,
   "metadata": {},
   "outputs": [],
   "source": [
    "Pkg.rm(\"Example\")"
   ]
  },
  {
   "cell_type": "code",
   "execution_count": null,
   "metadata": {},
   "outputs": [],
   "source": [
    "Pkg.add(\n",
    "    PackageSpec(\n",
    "        name=\"Example\", \n",
    "        version=\"0.5.0\"\n",
    "    )\n",
    ")"
   ]
  },
  {
   "cell_type": "markdown",
   "metadata": {},
   "source": [
    "## Q: Can I use Sparse Matrices?"
   ]
  },
  {
   "cell_type": "code",
   "execution_count": null,
   "metadata": {},
   "outputs": [],
   "source": [
    "using SparseArrays\n"
   ]
  },
  {
   "cell_type": "code",
   "execution_count": null,
   "metadata": {},
   "outputs": [],
   "source": [
    "@doc sparse"
   ]
  },
  {
   "cell_type": "code",
   "execution_count": null,
   "metadata": {},
   "outputs": [],
   "source": [
    "\n",
    "# Create a sparse matrix\n",
    "# SparseArrays.sparse(I, J, V, m, n) creates a sparse matrix with elements V at\n",
    "# positions (I[k], J[k]) for k in 1:length(V), with overall size m x n.\n",
    "I = [1, 2, 4]  # Row indices\n",
    "J = [1, 2, 3]  # Column indices\n",
    "V = [10, 20, 30]  # Values at the above positions\n",
    "A = sparse(I, J, V, 4, 4)  # 4x4 sparse matrix\n"
   ]
  },
  {
   "cell_type": "markdown",
   "metadata": {},
   "source": [
    "Sparse matrix operations are basically the same as dense matrix operations:"
   ]
  },
  {
   "cell_type": "code",
   "execution_count": null,
   "metadata": {},
   "outputs": [],
   "source": [
    "B = A + A  # Add two sparse matrices\n"
   ]
  },
  {
   "cell_type": "code",
   "execution_count": null,
   "metadata": {},
   "outputs": [],
   "source": [
    "C = A * 2  # Scalar multiplication\n"
   ]
  },
  {
   "cell_type": "code",
   "execution_count": null,
   "metadata": {},
   "outputs": [],
   "source": [
    "D = A'  # Transpose of the sparse matrix\n"
   ]
  },
  {
   "cell_type": "code",
   "execution_count": null,
   "metadata": {},
   "outputs": [],
   "source": [
    "x = [1, 0, 0, 0]\n",
    "y = A * x  # Matrix-vector multiplication"
   ]
  },
  {
   "cell_type": "markdown",
   "metadata": {},
   "source": [
    "## Q: Does Julia pass function arguments by value or by reference?\n",
    "\n",
    "_Neither!_\n",
    "\n",
    "The strategy used is _call by sharing_, and it is the same strategy used in other languages such as Python. When an argument is passed to a function, both the caller and the callee have access to the same data object (they \"share\" the argument's data). \n",
    "\n"
   ]
  },
  {
   "cell_type": "code",
   "execution_count": null,
   "metadata": {},
   "outputs": [],
   "source": [
    "function modify_array!(arr)\n",
    "    arr[1] = 99\n",
    "end"
   ]
  },
  {
   "cell_type": "code",
   "execution_count": null,
   "metadata": {},
   "outputs": [],
   "source": [
    "x = [1,2,3]\n",
    "\n",
    "modify_array!(x)\n",
    "\n",
    "x"
   ]
  },
  {
   "cell_type": "markdown",
   "metadata": {},
   "source": [
    "If I want \"call by value\" behavior, I have to make an explicit copy of a (mutable) argument:"
   ]
  },
  {
   "cell_type": "code",
   "execution_count": null,
   "metadata": {},
   "outputs": [],
   "source": [
    "function modify_array_copy(arr)\n",
    "    arr = copy(arr) # Explicitly create a copy of the array\n",
    "    arr[1] = 99\n",
    "    return arr\n",
    "end"
   ]
  },
  {
   "cell_type": "code",
   "execution_count": null,
   "metadata": {},
   "outputs": [],
   "source": [
    "x = [1,2,3]\n",
    "\n",
    "x_mod = modify_array_copy(x)\n",
    "\n",
    "x"
   ]
  },
  {
   "cell_type": "code",
   "execution_count": null,
   "metadata": {},
   "outputs": [],
   "source": [
    "x_mod"
   ]
  },
  {
   "cell_type": "markdown",
   "metadata": {},
   "source": [
    "_Why is this not \"call by reference\"?_\n",
    "\n",
    "If you reassign the parameter within the function to point to a different object, this change will not affect the original reference in the caller's scope. In true \"call by reference\", reassigning the reference would also change the original variable's reference in the caller's context."
   ]
  },
  {
   "cell_type": "code",
   "execution_count": null,
   "metadata": {},
   "outputs": [],
   "source": [
    "function rebind_array(arr)\n",
    "    arr = [99, 99, 99] # This creates a new local array and binds `arr` to it\n",
    "    return arr\n",
    "end"
   ]
  },
  {
   "cell_type": "code",
   "execution_count": null,
   "metadata": {},
   "outputs": [],
   "source": [
    "x = [1,2,3]\n",
    "\n",
    "rebind_array(x)\n",
    "\n",
    "x"
   ]
  },
  {
   "cell_type": "markdown",
   "metadata": {},
   "source": [
    "# Q: Views of Arrays"
   ]
  },
  {
   "cell_type": "markdown",
   "metadata": {},
   "source": [
    "---\n",
    "_This notebook is licensed under a [Creative Commons Attribution-NonCommercial-ShareAlike 4.0 International (CC BY-NC-SA 4.0)](https://creativecommons.org/licenses/by-nc-sa/4.0/). Copyright © 2018-2024 [Point 8 GmbH](https://point-8.de)_^m"
   ]
  }
 ],
 "metadata": {
  "kernelspec": {
   "display_name": "Julia 1.9.4",
   "language": "julia",
   "name": "julia-1.9"
  },
  "language_info": {
   "file_extension": ".jl",
   "mimetype": "application/julia",
   "name": "julia",
   "version": "1.9.4"
  }
 },
 "nbformat": 4,
 "nbformat_minor": 2
}
