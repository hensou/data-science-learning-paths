{
 "cells": [
  {
   "cell_type": "markdown",
   "metadata": {},
   "source": [
    "# Build Your Own Package"
   ]
  },
  {
   "cell_type": "markdown",
   "metadata": {},
   "source": [
    "## Package Structure\n",
    "\n",
    "Have a look at the repository of the Example package on GitHub to understand how a typical Julia package is structured.\n",
    "\n",
    "👉 https://github.com/JuliaLang/Example.jl\n",
    "\n",
    "Note the essential content of a package:\n",
    "1. the `src` folder - containing `.jl` files with the implementation of your package\n",
    "2. the `test` folder - containing `.jl` files with tests for the package's functionality\n",
    "3. the `Project.toml` file - containing package information\n",
    "4. the `README.md` - the starting point into the package's documentation\n",
    "\n",
    "Furthermore note:\n",
    "1. a `.gitignore` file - telling `git` to ignore some temporary files\n",
    "2. a `LICENSE` - important for open source projects"
   ]
  },
  {
   "cell_type": "markdown",
   "metadata": {},
   "source": [
    "## Package Implementation\n",
    "\n",
    "In the following we are going to set up a new Julia Package step by step.\n",
    "\n",
    "We are going to build a package with a collection of functions that generate special mathematical sequences - like the _Fibonacci sequence_ and the _Catalan numbers_."
   ]
  },
  {
   "cell_type": "markdown",
   "metadata": {},
   "source": [
    "<div style=\"border:2px solid gray; padding:10px;\">\n",
    "\n",
    "**ℹ Fibonacci Sequence**\n",
    "\n",
    "The Fibonacci sequence is a series of numbers where each number is the sum of the two preceding ones, usually starting with 0 and 1. The $n$-th Fibonacci number $F_n$ is given by the formula:\n",
    "\n",
    "$$ F_n = F_{n-1} + F_{n-2} $$\n",
    "\n",
    "with initial conditions:\n",
    "\n",
    "$$ F_0 = 0, \\quad F_1 = 1 $$\n",
    "\n",
    "This sequence appears in various aspects of mathematics, art, nature, and computer science.\n",
    "</div>"
   ]
  },
  {
   "cell_type": "markdown",
   "metadata": {},
   "source": [
    "Here is a possible implementation for the Fibonacci numbers:"
   ]
  },
  {
   "cell_type": "code",
   "execution_count": 19,
   "metadata": {},
   "outputs": [
    {
     "data": {
      "text/plain": [
       "fibonacci (generic function with 1 method)"
      ]
     },
     "metadata": {},
     "output_type": "display_data"
    }
   ],
   "source": [
    "function fibonacci(n)\n",
    "    fib_sequence = zeros(Int, n)\n",
    "    fib_sequence[1] = 0\n",
    "    fib_sequence[2] = 1\n",
    "    for i = 3:n\n",
    "        fib_sequence[i] = fib_sequence[i - 1] + fib_sequence[i - 2]\n",
    "    end\n",
    "    return fib_sequencea\n",
    "end"
   ]
  },
  {
   "cell_type": "markdown",
   "metadata": {},
   "source": [
    "<div style=\"border:2px solid gray; padding:10px;\">\n",
    "\n",
    "**ℹ Catalan Numbers**\n",
    "\n",
    "The Catalan numbers are a sequence of natural numbers important in combinatorial mathematics, with the $n$-th Catalan number given by the formula:\n",
    "\n",
    "$$ C_n = \\frac{(2n)!}{(n+1)!n!} $$\n",
    "\n",
    "They count various combinatorial structures, such as the number of proper ways to parenthesize expressions and the number of binary trees with $n$ nodes.\n",
    "\n",
    "</div>"
   ]
  },
  {
   "cell_type": "markdown",
   "metadata": {},
   "source": [
    "- [ ] Implement a function that generates the Catalan numbers for a given $n$"
   ]
  },
  {
   "cell_type": "code",
   "execution_count": 1,
   "metadata": {},
   "outputs": [],
   "source": [
    "# your code here\n"
   ]
  },
  {
   "cell_type": "markdown",
   "metadata": {},
   "source": [
    "No implementation is complete without test code.\n",
    "\n",
    "- [ ] Verify the correctness of the implementation by writing a test suite."
   ]
  },
  {
   "cell_type": "code",
   "execution_count": null,
   "metadata": {},
   "outputs": [],
   "source": [
    "# your test code here"
   ]
  },
  {
   "cell_type": "markdown",
   "metadata": {},
   "source": [
    "Now it's time to place our functions in a module. "
   ]
  },
  {
   "cell_type": "code",
   "execution_count": 3,
   "metadata": {},
   "outputs": [
    {
     "name": "stderr",
     "output_type": "stream",
     "text": [
      "WARNING: replacing module MyModuleName.\n"
     ]
    },
    {
     "data": {
      "text/plain": [
       "Main.MyModuleName"
      ]
     },
     "metadata": {},
     "output_type": "display_data"
    }
   ],
   "source": [
    "# Define the module name\n",
    "module MyModuleName\n",
    "\n",
    "# Import necessary modules. Example: Importing the Base module.\n",
    "# using Base\n",
    "\n",
    "\n",
    "# Define your functions, structs, constants, etc.\n",
    "    \"\"\"\n",
    "        my_function(x)\n",
    "\n",
    "    A simple function that returns the square of its argument.\n",
    "\n",
    "    # Arguments\n",
    "    - `x`: A number to be squared.\n",
    "\n",
    "    # Examples\n",
    "    ```julia\n",
    "    my_function(4) # returns 16\n",
    "    \"\"\"\n",
    "    function my_function(x)\n",
    "        return x^2\n",
    "    end\n",
    "\n",
    "    # Export your functions, types, constants, etc., to make them public.\n",
    "    export my_function\n",
    "\n",
    "# You can include more functions, structs, and other definitions below.\n",
    "end "
   ]
  },
  {
   "cell_type": "markdown",
   "metadata": {},
   "source": [
    "- [ ] Based on this example, create the source file for the `Sequences` package"
   ]
  },
  {
   "cell_type": "markdown",
   "metadata": {},
   "source": [
    "## Setting Up the Package "
   ]
  },
  {
   "cell_type": "code",
   "execution_count": 13,
   "metadata": {},
   "outputs": [
    {
     "data": {
      "text/plain": [
       "\"Sequences\""
      ]
     },
     "metadata": {},
     "output_type": "display_data"
    }
   ],
   "source": [
    "package_name = \"Sequences\""
   ]
  },
  {
   "cell_type": "markdown",
   "metadata": {},
   "source": [
    "- [ ] Create a folder in a location outside of the training material folder\n",
    "- [ ] Create within this folder a `src` folder"
   ]
  },
  {
   "cell_type": "markdown",
   "metadata": {},
   "source": []
  },
  {
   "cell_type": "markdown",
   "metadata": {},
   "source": [
    "- [ ] Create the `Project.toml` file"
   ]
  },
  {
   "cell_type": "code",
   "execution_count": 6,
   "metadata": {},
   "outputs": [
    {
     "data": {
      "text/plain": [
       "\"0.0.1\""
      ]
     },
     "metadata": {},
     "output_type": "display_data"
    }
   ],
   "source": [
    "# Define the full path of the Project.toml file\n",
    "project_file_path = joinpath(package_path, \"Project.toml\")\n",
    "\n",
    "# Define package details\n",
    "authors = [\"Your Name <your.email@example.com>\"]  # Replace with your name and email\n",
    "version = \"0.0.1\"\n"
   ]
  },
  {
   "cell_type": "markdown",
   "metadata": {},
   "source": [
    "<div style=\"border:2px solid gray; padding:10px;\">\n",
    "\n",
    "A UUID (Universally Unique Identifier) is a 128-bit number used to uniquely identify information in computer systems, and a package requires one to ensure global uniqueness, preventing conflicts with packages of the same name across different systems and registries.\n",
    "\n",
    "</div>"
   ]
  },
  {
   "cell_type": "markdown",
   "metadata": {},
   "source": [
    "- [ ] use the `UUIDs` package to create a unique identifier for the new package"
   ]
  },
  {
   "cell_type": "code",
   "execution_count": 7,
   "metadata": {},
   "outputs": [
    {
     "data": {
      "text/plain": [
       "UUID(\"842fe4e9-6814-4cb7-9a02-3acc29608ad5\")"
      ]
     },
     "metadata": {},
     "output_type": "display_data"
    }
   ],
   "source": [
    "using UUIDs\n",
    "\n",
    "# Generate a UUID for your package\n",
    "package_id = uuid4()"
   ]
  },
  {
   "cell_type": "code",
   "execution_count": 8,
   "metadata": {},
   "outputs": [
    {
     "data": {
      "text/plain": [
       "137"
      ]
     },
     "metadata": {},
     "output_type": "display_data"
    }
   ],
   "source": [
    "# Write the Project.toml content\n",
    "toml_content = \"\"\"\n",
    "name = \"$(package_name)\"\n",
    "uuid = \"$(package_id)\"\n",
    "authors = $(authors)\n",
    "version = \"$(version)\"\n",
    "\"\"\"\n",
    "\n",
    "# Write the Project.toml file\n",
    "open(project_file_path, \"w\") do project_file\n",
    "    write(project_file, toml_content)\n",
    "end"
   ]
  },
  {
   "cell_type": "code",
   "execution_count": 16,
   "metadata": {},
   "outputs": [
    {
     "name": "stdout",
     "output_type": "stream",
     "text": [
      "Rational{Int64}[1//1, 1//1, 2//1, 5//1, 14//1, 42//1, 132//1, 429//1, 1430//1, 4862//1, 16796//1]\n"
     ]
    }
   ],
   "source": [
    "function catalan_direct(n::Int)\n",
    "    # Calculating the nth Catalan number using the direct formula\n",
    "    return factorial(2n) // (factorial(n + 1) * factorial(n))\n",
    "end\n",
    "\n",
    "# Example: Calculate the first few Catalan numbers\n",
    "println([catalan_direct(n) for n in 0:10])"
   ]
  },
  {
   "cell_type": "code",
   "execution_count": 17,
   "metadata": {},
   "outputs": [
    {
     "name": "stdout",
     "output_type": "stream",
     "text": [
      "BigInt[1, 1, 2, 5, 14, 42]\n"
     ]
    }
   ],
   "source": [
    "function catalan_dynamic(n::Int)\n",
    "    # Initialize an array to store intermediate results\n",
    "    C = zeros(BigInt, n+1)\n",
    "    C[1] = BigInt(1)\n",
    "\n",
    "    # Fill the array using the dynamic programming approach\n",
    "    for i in 2:n+1\n",
    "        for j in 1:i-1\n",
    "            C[i] += C[j] * C[i-j]\n",
    "        end\n",
    "    end\n",
    "\n",
    "    return C[n+1]\n",
    "end\n",
    "\n",
    "# Example: Calculate the first few Catalan numbers\n",
    "println([catalan_dynamic(n) for n in 0:5])"
   ]
  },
  {
   "cell_type": "markdown",
   "metadata": {},
   "source": [
    "## Generate Package Documentation Pages"
   ]
  },
  {
   "cell_type": "code",
   "execution_count": 20,
   "metadata": {},
   "outputs": [
    {
     "data": {
      "text/plain": [
       "\"    catalan_direct(n::Int)\\n\\nCompute the `n`-th Catalan number using the direct formula involving factorials.\\n\\n# Arguments\\n- `n::Int`: The index of the Catalan number to compute.\\n\\n# Returns\\n- `::BigInt`: The `n`-th Catalan number.\\n\\n# Examples\\n```julia\\ncatalan_direct(4) # returns 14\\n\""
      ]
     },
     "metadata": {},
     "output_type": "display_data"
    }
   ],
   "source": [
    "\"\"\"\n",
    "    catalan_direct(n::Int)\n",
    "\n",
    "Compute the `n`-th Catalan number using the direct formula involving factorials.\n",
    "\n",
    "# Arguments\n",
    "- `n::Int`: The index of the Catalan number to compute.\n",
    "\n",
    "# Returns\n",
    "- `::BigInt`: The `n`-th Catalan number.\n",
    "\n",
    "# Examples\n",
    "```julia\n",
    "catalan_direct(4) # returns 14\n",
    "\"\"\""
   ]
  },
  {
   "cell_type": "code",
   "execution_count": 22,
   "metadata": {},
   "outputs": [
    {
     "data": {
      "text/plain": [
       "\"    catalan_dynamic(n::Int)\\n\\nCalculate the `n`-th Catalan number using a dynamic programming approach.\\n\\n# Arguments\\n- `n::Int`: The index of the Catalan number to compute.\\n\\n# Returns\\n- `::BigInt`: The `n`-th Catalan number.\\n\\n# Examples\\n```julia\\ncatalan_dynamic(4) # returns 14\\n```\\n\""
      ]
     },
     "metadata": {},
     "output_type": "display_data"
    }
   ],
   "source": [
    "\"\"\"\n",
    "    catalan_dynamic(n::Int)\n",
    "\n",
    "Calculate the `n`-th Catalan number using a dynamic programming approach.\n",
    "\n",
    "# Arguments\n",
    "- `n::Int`: The index of the Catalan number to compute.\n",
    "\n",
    "# Returns\n",
    "- `::BigInt`: The `n`-th Catalan number.\n",
    "\n",
    "# Examples\n",
    "```julia\n",
    "catalan_dynamic(4) # returns 14\n",
    "```\n",
    "\"\"\""
   ]
  },
  {
   "cell_type": "code",
   "execution_count": 23,
   "metadata": {},
   "outputs": [
    {
     "data": {
      "text/plain": [
       "\"fibonacci(n)\\n\\nCalculate the Fibonacci sequence up to the nth number.\\n\\nArguments\\n- `n`: The position in the Fibonacci sequence to calculate up to. Must be a positive integer.\\n\\nReturns\\n- An array containing the Fibonacci sequence up to the nth number.\\n\""
      ]
     },
     "metadata": {},
     "output_type": "display_data"
    }
   ],
   "source": [
    "\"\"\"\n",
    "fibonacci(n)\n",
    "\n",
    "Calculate the Fibonacci sequence up to the nth number.\n",
    "\n",
    "Arguments\n",
    "- `n`: The position in the Fibonacci sequence to calculate up to. Must be a positive integer.\n",
    "\n",
    "Returns\n",
    "- An array containing the Fibonacci sequence up to the nth number.\n",
    "\"\"\""
   ]
  },
  {
   "cell_type": "code",
   "execution_count": 9,
   "metadata": {},
   "outputs": [
    {
     "data": {
      "text/plain": [
       "Main.MyPackage"
      ]
     },
     "metadata": {},
     "output_type": "display_data"
    }
   ],
   "source": [
    "module MyPackage\n",
    "\n",
    "\n",
    "    function fibonacci(n)\n",
    "        fib_sequence = zeros(Int, n)\n",
    "        fib_sequence[1] = 0\n",
    "        fib_sequence[2] = 1\n",
    "        for i = 3:n\n",
    "            fib_sequence[i] = fib_sequence[i - 1] + fib_sequence[i - 2]\n",
    "        end\n",
    "        return fib_sequencea\n",
    "    end\n",
    "\n",
    "end"
   ]
  },
  {
   "cell_type": "code",
   "execution_count": 10,
   "metadata": {},
   "outputs": [
    {
     "name": "stderr",
     "output_type": "stream",
     "text": [
      "\u001b[32m\u001b[1m    Updating\u001b[22m\u001b[39m registry at `~/.julia/registries/General.toml`\n"
     ]
    },
    {
     "name": "stderr",
     "output_type": "stream",
     "text": [
      "\u001b[32m\u001b[1m   Resolving\u001b[22m\u001b[39m package versions...\n"
     ]
    },
    {
     "name": "stderr",
     "output_type": "stream",
     "text": [
      "\u001b[32m\u001b[1m  No Changes\u001b[22m\u001b[39m to `~/Documents/Work/Training/point8/data-science-learning-paths/Project.toml`\n",
      "\u001b[32m\u001b[1m  No Changes\u001b[22m\u001b[39m to `~/Documents/Work/Training/point8/data-science-learning-paths/Manifest.toml`\n"
     ]
    },
    {
     "name": "stderr",
     "output_type": "stream",
     "text": [
      "\u001b[32m\u001b[1mPrecompiling\u001b[22m\u001b[39m "
     ]
    },
    {
     "name": "stderr",
     "output_type": "stream",
     "text": [
      "project...\n"
     ]
    },
    {
     "name": "stderr",
     "output_type": "stream",
     "text": [
      "\u001b[32m  ✓ \u001b[39m\u001b[90mMocking\u001b[39m\n"
     ]
    },
    {
     "name": "stderr",
     "output_type": "stream",
     "text": [
      "\u001b[32m  ✓ \u001b[39mPkgTemplates\n"
     ]
    },
    {
     "name": "stderr",
     "output_type": "stream",
     "text": [
      "  2 dependencies successfully precompiled in 4 seconds. 187 already precompiled.\n"
     ]
    }
   ],
   "source": [
    "import Pkg\n",
    "Pkg.add(\"Documenter\")"
   ]
  },
  {
   "cell_type": "code",
   "execution_count": 11,
   "metadata": {},
   "outputs": [
    {
     "name": "stderr",
     "output_type": "stream",
     "text": [
      "┌ Info: SetupBuildDirectory: setting up build directory.\n",
      "└ @ Documenter /Users/cls/.julia/packages/Documenter/1HwWe/src/builder_pipeline.jl:75\n"
     ]
    },
    {
     "ename": "ErrorException",
     "evalue": "source directory '/Users/cls/Documents/Work/Training/point8/data-science-learning-paths/notebooks/julia/src' is missing.",
     "output_type": "error",
     "traceback": [
      "source directory '/Users/cls/Documents/Work/Training/point8/data-science-learning-paths/notebooks/julia/src' is missing.\n",
      "\n",
      "Stacktrace:\n",
      " [1] error(s::String)\n",
      "   @ Base ./error.jl:35\n",
      " [2] runner(#unused#::Type{Documenter.Builder.SetupBuildDirectory}, doc::Documenter.Document)\n",
      "   @ Documenter ~/.julia/packages/Documenter/1HwWe/src/builder_pipeline.jl:83\n",
      " [3] dispatch(#unused#::Type{Documenter.Builder.DocumentPipeline}, x::Documenter.Document)\n",
      "   @ Documenter.Selectors ~/.julia/packages/Documenter/1HwWe/src/utilities/Selectors.jl:170\n",
      " [4] #83\n",
      "   @ ~/.julia/packages/Documenter/1HwWe/src/makedocs.jl:248 [inlined]\n",
      " [5] withenv(::Documenter.var\"#83#85\"{Documenter.Document}, ::Pair{String, Nothing}, ::Vararg{Pair{String, Nothing}})\n",
      "   @ Base ./env.jl:197\n",
      " [6] #82\n",
      "   @ ~/.julia/packages/Documenter/1HwWe/src/makedocs.jl:247 [inlined]\n",
      " [7] cd(f::Documenter.var\"#82#84\"{Documenter.Document}, dir::String)\n",
      "   @ Base.Filesystem ./file.jl:112\n",
      " [8] #makedocs#81\n",
      "   @ ~/.julia/packages/Documenter/1HwWe/src/makedocs.jl:247 [inlined]\n",
      " [9] top-level scope\n",
      "   @ ~/Documents/Work/Training/point8/data-science-learning-paths/notebooks/julia/julia-build-packages.ipynb:3"
     ]
    }
   ],
   "source": [
    "using Documenter\n",
    "\n",
    "makedocs(\n",
    "    sitename = \"My Package\",\n",
    "    modules = [MyPackage],\n",
    ")"
   ]
  }
 ],
 "metadata": {
  "kernelspec": {
   "display_name": "Julia 1.9.4",
   "language": "julia",
   "name": "julia-1.9"
  },
  "language_info": {
   "file_extension": ".jl",
   "mimetype": "application/julia",
   "name": "julia",
   "version": "1.9.4"
  }
 },
 "nbformat": 4,
 "nbformat_minor": 2
}
