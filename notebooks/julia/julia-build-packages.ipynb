{
 "cells": [
  {
   "cell_type": "markdown",
   "metadata": {},
   "source": [
    "# Build Your Own Package"
   ]
  },
  {
   "cell_type": "markdown",
   "metadata": {},
   "source": [
    "## Package Structure\n",
    "\n",
    "Have a look at the repository of the Example package on GitHub to understand how a typical Julia package is structured.\n",
    "\n",
    "👉 https://github.com/JuliaLang/Example.jl\n",
    "\n",
    "Note the essential content of a package:\n",
    "1. the `src` folder - containing `.jl` files with the implementation of your package\n",
    "2. the `test` folder - containing `.jl` files with tests for the package's functionality\n",
    "3. the `Project.toml` file - containing package information\n",
    "4. the `README.md` - the starting point into the package's documentation\n",
    "\n",
    "Furthermore note:\n",
    "1. a `.gitignore` file - telling `git` to ignore some temporary files\n",
    "2. a `LICENSE` - important for open source projects"
   ]
  },
  {
   "cell_type": "markdown",
   "metadata": {},
   "source": [
    "## Package Implementation\n",
    "\n",
    "In the following we are going to set up a new Julia Package step by step.\n",
    "\n",
    "We are going to build a package with a collection of functions that generate special mathematical sequences - like the _Fibonacci sequence_ and the _Catalan numbers_."
   ]
  },
  {
   "cell_type": "markdown",
   "metadata": {},
   "source": [
    "<div style=\"border:2px solid gray; padding:10px;\">\n",
    "\n",
    "**ℹ Fibonacci Sequence**\n",
    "\n",
    "The Fibonacci sequence is a series of numbers where each number is the sum of the two preceding ones, usually starting with 0 and 1. The $n$-th Fibonacci number $F_n$ is given by the formula:\n",
    "\n",
    "$$ F_n = F_{n-1} + F_{n-2} $$\n",
    "\n",
    "with initial conditions:\n",
    "\n",
    "$$ F_0 = 0, \\quad F_1 = 1 $$\n",
    "\n",
    "This sequence appears in various aspects of mathematics, art, nature, and computer science.\n",
    "</div>"
   ]
  },
  {
   "cell_type": "markdown",
   "metadata": {},
   "source": [
    "Here is a possible implementation for the Fibonacci numbers:"
   ]
  },
  {
   "cell_type": "code",
   "execution_count": null,
   "metadata": {},
   "outputs": [],
   "source": [
    "function fibonacci(n)\n",
    "    fib_sequence = zeros(Int, n)\n",
    "    fib_sequence[1] = 0\n",
    "    fib_sequence[2] = 1\n",
    "    for i = 3:n\n",
    "        fib_sequence[i] = fib_sequence[i - 1] + fib_sequence[i - 2]\n",
    "    end\n",
    "    return fib_sequence\n",
    "end"
   ]
  },
  {
   "cell_type": "markdown",
   "metadata": {},
   "source": [
    "<div style=\"border:2px solid gray; padding:10px;\">\n",
    "\n",
    "**ℹ Catalan Numbers**\n",
    "\n",
    "The Catalan numbers are a sequence of natural numbers important in combinatorial mathematics, with the $n$-th Catalan number given by the formula:\n",
    "\n",
    "$$ C_n = \\frac{(2n)!}{(n+1)!n!} $$\n",
    "\n",
    "They count various combinatorial structures, such as the number of proper ways to parenthesize expressions and the number of binary trees with $n$ nodes.\n",
    "\n",
    "</div>"
   ]
  },
  {
   "cell_type": "markdown",
   "metadata": {},
   "source": [
    "- [ ] Implement a function that generates the Catalan numbers for a given $n$"
   ]
  },
  {
   "cell_type": "code",
   "execution_count": null,
   "metadata": {},
   "outputs": [],
   "source": [
    "# your code here\n"
   ]
  },
  {
   "cell_type": "markdown",
   "metadata": {},
   "source": [
    "No implementation is complete without test code.\n",
    "\n",
    "- [ ] Verify the correctness of the implementation by writing a test suite."
   ]
  },
  {
   "cell_type": "code",
   "execution_count": null,
   "metadata": {},
   "outputs": [],
   "source": [
    "# your test code here"
   ]
  },
  {
   "cell_type": "markdown",
   "metadata": {},
   "source": [
    "Now it's time to place our functions in a module. "
   ]
  },
  {
   "cell_type": "code",
   "execution_count": null,
   "metadata": {},
   "outputs": [],
   "source": [
    "# Define the module name\n",
    "module MyModuleName\n",
    "\n",
    "# Import necessary modules. Example: Importing the Base module.\n",
    "# using Base\n",
    "\n",
    "\n",
    "# Define your functions, structs, constants, etc.\n",
    "    \"\"\"\n",
    "        my_function(x)\n",
    "\n",
    "    A simple function that returns the square of its argument.\n",
    "\n",
    "    # Arguments\n",
    "    - `x`: A number to be squared.\n",
    "\n",
    "    # Examples\n",
    "    ```julia\n",
    "    my_function(4) # returns 16\n",
    "    \"\"\"\n",
    "    function my_function(x)\n",
    "        return x^2\n",
    "    end\n",
    "\n",
    "    # Export your functions, types, constants, etc., to make them public.\n",
    "    export my_function\n",
    "\n",
    "# You can include more functions, structs, and other definitions below.\n",
    "end "
   ]
  },
  {
   "cell_type": "markdown",
   "metadata": {},
   "source": [
    "- [ ] Based on this example, create the source file for the `Sequences` package"
   ]
  },
  {
   "cell_type": "markdown",
   "metadata": {},
   "source": [
    "## Setting Up the Package "
   ]
  },
  {
   "cell_type": "code",
   "execution_count": null,
   "metadata": {},
   "outputs": [],
   "source": [
    "package_name = \"Sequences\""
   ]
  },
  {
   "cell_type": "markdown",
   "metadata": {},
   "source": [
    "- [ ] Create a folder in a location outside of the training material folder\n",
    "- [ ] Create within this folder a `src` folder"
   ]
  },
  {
   "cell_type": "markdown",
   "metadata": {},
   "source": []
  },
  {
   "cell_type": "markdown",
   "metadata": {},
   "source": [
    "- [ ] Create the `Project.toml` file"
   ]
  },
  {
   "cell_type": "code",
   "execution_count": null,
   "metadata": {},
   "outputs": [],
   "source": [
    "# Define the full path of the Project.toml file\n",
    "project_file_path = joinpath(package_path, \"Project.toml\")\n",
    "\n",
    "# Define package details\n",
    "authors = [\"Your Name <your.email@example.com>\"]  # Replace with your name and email\n",
    "version = \"0.0.1\"\n"
   ]
  },
  {
   "cell_type": "markdown",
   "metadata": {},
   "source": [
    "<div style=\"border:2px solid gray; padding:10px;\">\n",
    "\n",
    "A UUID (Universally Unique Identifier) is a 128-bit number used to uniquely identify information in computer systems, and a package requires one to ensure global uniqueness, preventing conflicts with packages of the same name across different systems and registries.\n",
    "\n",
    "</div>"
   ]
  },
  {
   "cell_type": "markdown",
   "metadata": {},
   "source": [
    "- [ ] use the `UUIDs` package to create a unique identifier for the new package"
   ]
  },
  {
   "cell_type": "code",
   "execution_count": null,
   "metadata": {},
   "outputs": [],
   "source": [
    "using UUIDs\n",
    "\n",
    "# Generate a UUID for your package\n",
    "package_id = uuid4()"
   ]
  },
  {
   "cell_type": "code",
   "execution_count": null,
   "metadata": {},
   "outputs": [],
   "source": [
    "# Write the Project.toml content\n",
    "toml_content = \"\"\"\n",
    "name = \"$(package_name)\"\n",
    "uuid = \"$(package_id)\"\n",
    "authors = $(authors)\n",
    "version = \"$(version)\"\n",
    "\"\"\"\n",
    "\n",
    "# Write the Project.toml file\n",
    "open(project_file_path, \"w\") do project_file\n",
    "    write(project_file, toml_content)\n",
    "end"
   ]
  },
  {
   "cell_type": "code",
   "execution_count": null,
   "metadata": {},
   "outputs": [],
   "source": [
    "function catalan_direct(n::Int)\n",
    "    # Calculating the nth Catalan number using the direct formula\n",
    "    return factorial(2n) // (factorial(n + 1) * factorial(n))\n",
    "end\n",
    "\n",
    "# Example: Calculate the first few Catalan numbers\n",
    "println([catalan_direct(n) for n in 0:10])"
   ]
  },
  {
   "cell_type": "code",
   "execution_count": null,
   "metadata": {},
   "outputs": [],
   "source": [
    "function catalan_dynamic(n::Int)\n",
    "    # Initialize an array to store intermediate results\n",
    "    C = zeros(BigInt, n+1)\n",
    "    C[1] = BigInt(1)\n",
    "\n",
    "    # Fill the array using the dynamic programming approach\n",
    "    for i in 2:n+1\n",
    "        for j in 1:i-1\n",
    "            C[i] += C[j] * C[i-j]\n",
    "        end\n",
    "    end\n",
    "\n",
    "    return C[n+1]\n",
    "end\n",
    "\n",
    "# Example: Calculate the first few Catalan numbers\n",
    "println([catalan_dynamic(n) for n in 0:5])"
   ]
  },
  {
   "cell_type": "markdown",
   "metadata": {},
   "source": [
    "## Importing the Package"
   ]
  },
  {
   "cell_type": "code",
   "execution_count": 1,
   "metadata": {},
   "outputs": [],
   "source": [
    "using Pkg"
   ]
  },
  {
   "cell_type": "code",
   "execution_count": 17,
   "metadata": {},
   "outputs": [
    {
     "data": {
      "text/plain": [
       "\"../../../Sequences\""
      ]
     },
     "metadata": {},
     "output_type": "display_data"
    }
   ],
   "source": [
    "path_to_package = \"../../../Sequences\""
   ]
  },
  {
   "cell_type": "code",
   "execution_count": 18,
   "metadata": {},
   "outputs": [
    {
     "ename": "Pkg.Types.PkgError",
     "evalue": "Dev path `../../../Sequences` does not exist.",
     "output_type": "error",
     "traceback": [
      "Dev path `../../../Sequences` does not exist.\n",
      "\n",
      "Stacktrace:\n",
      " [1] pkgerror(msg::String)\n",
      "   @ Pkg.Types /opt/homebrew/Cellar/julia/1.9.4/share/julia/stdlib/v1.9/Pkg/src/Types.jl:69\n",
      " [2] handle_repo_develop!(ctx::Pkg.Types.Context, pkg::Pkg.Types.PackageSpec, shared::Bool)\n",
      "   @ Pkg.Types /opt/homebrew/Cellar/julia/1.9.4/share/julia/stdlib/v1.9/Pkg/src/Types.jl:597\n",
      " [3] handle_repos_develop!(ctx::Pkg.Types.Context, pkgs::Vector{Pkg.Types.PackageSpec}, shared::Bool)\n",
      "   @ Pkg.Types /opt/homebrew/Cellar/julia/1.9.4/share/julia/stdlib/v1.9/Pkg/src/Types.jl:676\n",
      " [4] develop(ctx::Pkg.Types.Context, pkgs::Vector{Pkg.Types.PackageSpec}; shared::Bool, preserve::Pkg.Types.PreserveLevel, platform::Base.BinaryPlatforms.Platform, kwargs::Base.Pairs{Symbol, VSCodeServer.IJuliaCore.IJuliaStdio{Base.PipeEndpoint, typeof(VSCodeServer.io_send_callback)}, Tuple{Symbol}, NamedTuple{(:io,), Tuple{VSCodeServer.IJuliaCore.IJuliaStdio{Base.PipeEndpoint, typeof(VSCodeServer.io_send_callback)}}}})\n",
      "   @ Pkg.API /opt/homebrew/Cellar/julia/1.9.4/share/julia/stdlib/v1.9/Pkg/src/API.jl:211\n",
      " [5] develop(pkgs::Vector{Pkg.Types.PackageSpec}; io::VSCodeServer.IJuliaCore.IJuliaStdio{Base.PipeEndpoint, typeof(VSCodeServer.io_send_callback)}, kwargs::Base.Pairs{Symbol, Union{}, Tuple{}, NamedTuple{(), Tuple{}}})\n",
      "   @ Pkg.API /opt/homebrew/Cellar/julia/1.9.4/share/julia/stdlib/v1.9/Pkg/src/API.jl:156\n",
      " [6] develop(pkgs::Vector{Pkg.Types.PackageSpec})\n",
      "   @ Pkg.API /opt/homebrew/Cellar/julia/1.9.4/share/julia/stdlib/v1.9/Pkg/src/API.jl:145\n",
      " [7] develop(; name::Nothing, uuid::Nothing, version::Nothing, url::Nothing, rev::Nothing, path::String, mode::Pkg.Types.PackageMode, subdir::Nothing, kwargs::Base.Pairs{Symbol, Union{}, Tuple{}, NamedTuple{(), Tuple{}}})\n",
      "   @ Pkg.API ./boot.jl:0\n",
      " [8] top-level scope\n",
      "   @ ~/Documents/Work/Training/point8/data-science-learning-paths/notebooks/julia/julia-build-packages.ipynb:1"
     ]
    }
   ],
   "source": [
    "Pkg.develop(path=path_to_package)"
   ]
  },
  {
   "cell_type": "code",
   "execution_count": 3,
   "metadata": {},
   "outputs": [],
   "source": [
    "using Sequences"
   ]
  },
  {
   "cell_type": "code",
   "execution_count": 4,
   "metadata": {},
   "outputs": [
    {
     "data": {
      "text/plain": [
       "10-element Vector{Int64}:\n",
       "  0\n",
       "  1\n",
       "  1\n",
       "  2\n",
       "  3\n",
       "  5\n",
       "  8\n",
       " 13\n",
       " 21\n",
       " 34"
      ]
     },
     "metadata": {},
     "output_type": "display_data"
    }
   ],
   "source": [
    "fibonacci(10)"
   ]
  },
  {
   "cell_type": "code",
   "execution_count": 5,
   "metadata": {},
   "outputs": [
    {
     "data": {
      "text/plain": [
       "10-element Vector{Rational{Int64}}:\n",
       "    1//1\n",
       "    1//1\n",
       "    2//1\n",
       "    5//1\n",
       "   14//1\n",
       "   42//1\n",
       "  132//1\n",
       "  429//1\n",
       " 1430//1\n",
       " 4862//1"
      ]
     },
     "metadata": {},
     "output_type": "display_data"
    }
   ],
   "source": [
    "catalan(10)"
   ]
  },
  {
   "cell_type": "code",
   "execution_count": 10,
   "metadata": {},
   "outputs": [
    {
     "name": "stderr",
     "output_type": "stream",
     "text": [
      "\u001b[32m\u001b[1m   Resolving\u001b[22m\u001b[39m package versions...\n"
     ]
    },
    {
     "name": "stderr",
     "output_type": "stream",
     "text": [
      "\u001b[32m\u001b[1m    Updating\u001b[22m\u001b[39m `~/Documents/Work/Training/point8/data-science-learning-paths/Project.toml`\n",
      "  \u001b[90m[8dfed614] \u001b[39m\u001b[92m+ Test\u001b[39m\n",
      "\u001b[32m\u001b[1m  No Changes\u001b[22m\u001b[39m to `~/Documents/Work/Training/point8/data-science-learning-paths/Manifest.toml`\n"
     ]
    }
   ],
   "source": [
    "Pkg.add(\"Test\")"
   ]
  },
  {
   "cell_type": "code",
   "execution_count": null,
   "metadata": {},
   "outputs": [],
   "source": []
  }
 ],
 "metadata": {
  "kernelspec": {
   "display_name": "Julia 1.9.4",
   "language": "julia",
   "name": "julia-1.9"
  },
  "language_info": {
   "file_extension": ".jl",
   "mimetype": "application/julia",
   "name": "julia",
   "version": "1.9.4"
  }
 },
 "nbformat": 4,
 "nbformat_minor": 2
}
