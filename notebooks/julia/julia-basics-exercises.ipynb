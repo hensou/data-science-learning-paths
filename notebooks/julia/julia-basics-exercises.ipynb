{
 "cells": [
  {
   "cell_type": "markdown",
   "metadata": {},
   "source": [
    "# Basics: Exercise - High School Geometry in Julia\n",
    "\n",
    "This is a practical exercise to help you get familiar with the basics of Julia programming."
   ]
  },
  {
   "cell_type": "markdown",
   "metadata": {},
   "source": [
    "Let's start with a type that implements a point in 2D geometry."
   ]
  },
  {
   "cell_type": "code",
   "execution_count": 1,
   "metadata": {},
   "outputs": [
    {
     "data": {
      "text/plain": [
       "Point"
      ]
     },
     "metadata": {},
     "output_type": "display_data"
    }
   ],
   "source": [
    "\"\"\"\n",
    "Defines a point in a 2D space, where x and y are the coordinates of the point on the x-axis and y-axis, respectively.\n",
    "\"\"\"\n",
    "struct Point\n",
    "    x::Float64\n",
    "    y::Float64\n",
    "end"
   ]
  },
  {
   "cell_type": "markdown",
   "metadata": {},
   "source": [
    "_💡: Remember to add a docstring to each type and function you define, as in the example above._ \n",
    "\n",
    "Let's check the docstring for the `Point` type."
   ]
  },
  {
   "cell_type": "code",
   "execution_count": 2,
   "metadata": {},
   "outputs": [
    {
     "data": {
      "text/latex": [
       "Defines a point in a 2D space, where x and y are the coordinates of the point on the x-axis and y-axis, respectively.\n",
       "\n"
      ],
      "text/markdown": [
       "Defines a point in a 2D space, where x and y are the coordinates of the point on the x-axis and y-axis, respectively.\n"
      ],
      "text/plain": [
       "  Defines a point in a 2D space, where x and y are the coordinates of the\n",
       "  point on the x-axis and y-axis, respectively."
      ]
     },
     "metadata": {},
     "output_type": "display_data"
    }
   ],
   "source": [
    "@doc Point"
   ]
  },
  {
   "cell_type": "markdown",
   "metadata": {},
   "source": [
    "Let's try out the `Point` type:"
   ]
  },
  {
   "cell_type": "code",
   "execution_count": 3,
   "metadata": {},
   "outputs": [
    {
     "name": "stdout",
     "output_type": "stream",
     "text": [
      "Point(1.0, 2.0)\n"
     ]
    }
   ],
   "source": [
    "println(Point(1.0, 2.0))"
   ]
  },
  {
   "cell_type": "markdown",
   "metadata": {},
   "source": [
    "**Task 1**: Implement a function that calculates the (Euclidean) distance between two points in 2D space."
   ]
  },
  {
   "cell_type": "code",
   "execution_count": 4,
   "metadata": {},
   "outputs": [
    {
     "data": {
      "text/plain": [
       "distance"
      ]
     },
     "metadata": {},
     "output_type": "display_data"
    }
   ],
   "source": [
    "\"\"\"\n",
    "The distance function calculates the Euclidean distance between two points, p1 and p2. \n",
    "The points should be of the Point type. The function returns the distance as a floating-point number.\n",
    "\"\"\"\n",
    "function distance(p1::Point, p2::Point)\n",
    "    error(\"Not implemented yet\")\n",
    "end"
   ]
  },
  {
   "cell_type": "code",
   "execution_count": 6,
   "metadata": {},
   "outputs": [
    {
     "ename": "ErrorException",
     "evalue": "Not implemented yet",
     "output_type": "error",
     "traceback": [
      "Not implemented yet\n",
      "\n",
      "Stacktrace:\n",
      " [1] error(s::String)\n",
      "   @ Base ./error.jl:35\n",
      " [2] distance(p1::Point, p2::Point)\n",
      "   @ Main ~/Documents/Work/Training/point8/data-science-learning-paths/notebooks/julia/julia-basics-exercises.ipynb:6\n",
      " [3] top-level scope\n",
      "   @ ~/Documents/Work/Training/point8/data-science-learning-paths/notebooks/julia/julia-basics-exercises.ipynb:1"
     ]
    }
   ],
   "source": [
    "distance(\n",
    "    Point(0.0, 0.0),\n",
    "    Point(1.0, 1.0),\n",
    ")"
   ]
  },
  {
   "cell_type": "code",
   "execution_count": null,
   "metadata": {},
   "outputs": [],
   "source": [
    "# Your code here"
   ]
  },
  {
   "cell_type": "markdown",
   "metadata": {},
   "source": [
    "In the following we are going to use unit tests to check if our implementation is correct. The `Test` module is part of the Julia standard library and provides a simple way to write unit tests."
   ]
  },
  {
   "cell_type": "code",
   "execution_count": 10,
   "metadata": {},
   "outputs": [],
   "source": [
    "using Test"
   ]
  },
  {
   "cell_type": "code",
   "execution_count": 11,
   "metadata": {},
   "outputs": [
    {
     "name": "stdout",
     "output_type": "stream",
     "text": [
      "Test the distance function: \u001b[91m\u001b[1mError During Test\u001b[22m\u001b[39m at "
     ]
    },
    {
     "name": "stdout",
     "output_type": "stream",
     "text": [
      "\u001b[39m\u001b[1m/Users/cls/Documents/Work/Training/point8/data-science-learning-paths/notebooks/julia/julia-basics-exercises.ipynb:6\u001b[22m\n",
      "  Test threw exception\n",
      "  Expression: distance(p1, p2) ≈ 5.0\n",
      "  Not implemented yet\n",
      "  Stacktrace:\n",
      "   [1] \u001b[0m\u001b[1merror\u001b[22m\u001b[0m\u001b[1m(\u001b[22m\u001b[90ms\u001b[39m::\u001b[0mString\u001b[0m\u001b[1m)\u001b[22m\n",
      "  \u001b[90m   @\u001b[39m \u001b[90mBase\u001b[39m \u001b[90m./\u001b[39m\u001b[90m\u001b[4merror.jl:35\u001b[24m\u001b[39m\n",
      "   [2] \u001b[0m\u001b[1mdistance\u001b[22m\u001b[0m\u001b[1m(\u001b[22m\u001b[90mp1\u001b[39m::\u001b[0mPoint, \u001b[90mp2\u001b[39m::\u001b[0mPoint\u001b[0m\u001b[1m)\u001b[22m\n",
      "  \u001b[90m   @\u001b[39m \u001b[35mMain\u001b[39m \u001b[90m~/Documents/Work/Training/point8/data-science-learning-paths/notebooks/julia/\u001b[39m\u001b[90m\u001b[4mjulia-basics-exercises.ipynb:6\u001b[24m\u001b[39m\n",
      "   [3] \u001b[0m\u001b[1mmacro expansion\u001b[22m\n",
      "  \u001b[90m   @\u001b[39m \u001b[90m/opt/homebrew/Cellar/julia/1.9.4/share/julia/stdlib/v1.9/Test/src/\u001b[39m\u001b[90m\u001b[4mTest.jl:478\u001b[24m\u001b[39m\u001b[90m [inlined]\u001b[39m\n",
      "   [4] \u001b[0m\u001b[1mmacro expansion\u001b[22m\n",
      "  \u001b[90m   @\u001b[39m \u001b[90m~/Documents/Work/Training/point8/data-science-learning-paths/notebooks/julia/\u001b[39m\u001b[90m\u001b[4mjulia-basics-exercises.ipynb:6\u001b[24m\u001b[39m\u001b[90m [inlined]\u001b[39m\n",
      "   [5] \u001b[0m\u001b[1mmacro expansion\u001b[22m\n",
      "  \u001b[90m   @\u001b[39m \u001b[90m/opt/homebrew/Cellar/julia/1.9.4/share/julia/stdlib/v1.9/Test/src/\u001b[39m\u001b[90m\u001b[4mTest.jl:1498\u001b[24m\u001b[39m\u001b[90m [inlined]\u001b[39m\n",
      "   [6] top-level scope\n",
      "  \u001b[90m   @\u001b[39m \u001b[90m~/Documents/Work/Training/point8/data-science-learning-paths/notebooks/julia/\u001b[39m\u001b[90m\u001b[4mjulia-basics-exercises.ipynb:3\u001b[24m\u001b[39m\n",
      "Test the distance function: \u001b[91m\u001b[1mError During Test\u001b[22m\u001b[39m at \u001b[39m\u001b[1m/Users/cls/Documents/Work/Training/point8/data-science-learning-paths/notebooks/julia/julia-basics-exercises.ipynb:7\u001b[22m\n",
      "  Test threw exception\n",
      "  Expression: distance(p2, p2) ≈ 0.0\n",
      "  Not implemented yet\n",
      "  Stacktrace:\n",
      "   [1] \u001b[0m\u001b[1merror\u001b[22m\u001b[0m\u001b[1m(\u001b[22m\u001b[90ms\u001b[39m::\u001b[0mString\u001b[0m\u001b[1m)\u001b[22m\n",
      "  \u001b[90m   @\u001b[39m \u001b[90mBase\u001b[39m \u001b[90m./\u001b[39m\u001b[90m\u001b[4merror.jl:35\u001b[24m\u001b[39m\n",
      "   [2] \u001b[0m\u001b[1mdistance\u001b[22m\u001b[0m\u001b[1m(\u001b[22m\u001b[90mp1\u001b[39m::\u001b[0mPoint, \u001b[90mp2\u001b[39m::\u001b[0mPoint\u001b[0m\u001b[1m)\u001b[22m\n",
      "  \u001b[90m   @\u001b[39m \u001b[35mMain\u001b[39m \u001b[90m~/Documents/Work/Training/point8/data-science-learning-paths/notebooks/julia/\u001b[39m\u001b[90m\u001b[4mjulia-basics-exercises.ipynb:6\u001b[24m\u001b[39m\n",
      "   [3] \u001b[0m\u001b[1mmacro expansion\u001b[22m\n",
      "  \u001b[90m   @\u001b[39m \u001b[90m/opt/homebrew/Cellar/julia/1.9.4/share/julia/stdlib/v1.9/Test/src/\u001b[39m\u001b[90m\u001b[4mTest.jl:478\u001b[24m\u001b[39m\u001b[90m [inlined]\u001b[39m\n",
      "   [4] \u001b[0m\u001b[1mmacro expansion\u001b[22m\n",
      "  \u001b[90m   @\u001b[39m \u001b[90m~/Documents/Work/Training/point8/data-science-learning-paths/notebooks/julia/\u001b[39m\u001b[90m\u001b[4mjulia-basics-exercises.ipynb:7\u001b[24m\u001b[39m\u001b[90m [inlined]\u001b[39m\n",
      "   [5] \u001b[0m\u001b[1mmacro expansion\u001b[22m\n",
      "  \u001b[90m   @\u001b[39m \u001b[90m/opt/homebrew/Cellar/julia/1.9.4/share/julia/stdlib/v1.9/Test/src/\u001b[39m\u001b[90m\u001b[4mTest.jl:1498\u001b[24m\u001b[39m\u001b[90m [inlined]\u001b[39m\n",
      "   [6] top-level scope\n",
      "  \u001b[90m   @\u001b[39m \u001b[90m~/Documents/Work/Training/point8/data-science-learning-paths/notebooks/julia/\u001b[39m\u001b[90m\u001b[4mjulia-basics-exercises.ipynb:3\u001b[24m\u001b[39m\n"
     ]
    },
    {
     "name": "stdout",
     "output_type": "stream",
     "text": [
      "\u001b[0m\u001b[1mTest Summary:              | \u001b[22m\u001b[91m\u001b[1mError  \u001b[22m\u001b[39m\u001b[36m\u001b[1mTotal  \u001b[22m\u001b[39m\u001b[0m\u001b[1mTime\u001b[22m\n",
      "Test the distance function | \u001b[91m    2  \u001b[39m\u001b[36m    2  \u001b[39m\u001b[0m0.4s\n"
     ]
    },
    {
     "ename": "TestSetException",
     "evalue": "Some tests did not pass: 0 passed, 0 failed, 2 errored, 0 broken.",
     "output_type": "error",
     "traceback": [
      "Some tests did not pass: 0 passed, 0 failed, 2 errored, 0 broken.\n",
      "\n",
      "Stacktrace:\n",
      " [1] finish(ts::Test.DefaultTestSet)\n",
      "   @ Test /opt/homebrew/Cellar/julia/1.9.4/share/julia/stdlib/v1.9/Test/src/Test.jl:1151\n",
      " [2] macro expansion\n",
      "   @ /opt/homebrew/Cellar/julia/1.9.4/share/julia/stdlib/v1.9/Test/src/Test.jl:1514 [inlined]\n",
      " [3] top-level scope\n",
      "   @ ~/Documents/Work/Training/point8/data-science-learning-paths/notebooks/julia/julia-basics-exercises.ipynb:3"
     ]
    }
   ],
   "source": [
    "@testset \"Test the distance function\" begin\n",
    "    # Define some points\n",
    "    p1 = Point(0.0, 0.0)\n",
    "    p2 = Point(3.0, 4.0)\n",
    "\n",
    "    @test distance(p1, p2) ≈ 5.0\n",
    "    @test distance(p2, p2) ≈ 0.0\n",
    "end\n"
   ]
  },
  {
   "cell_type": "markdown",
   "metadata": {},
   "source": [
    "We continue with defining types for basic geometric shapes. First, let's have an abstract type `Shape` as a base type for all shapes."
   ]
  },
  {
   "cell_type": "code",
   "execution_count": 12,
   "metadata": {},
   "outputs": [],
   "source": [
    "# Define an abstract type for shapes in Euclidean space\n",
    "abstract type Shape end\n"
   ]
  },
  {
   "cell_type": "markdown",
   "metadata": {},
   "source": [
    "**Task 2:** _Implement types for the following shapes:_ \n",
    "- `Circle`\n",
    "- `Rectangle`\n",
    "- `Triangle`"
   ]
  },
  {
   "cell_type": "code",
   "execution_count": null,
   "metadata": {},
   "outputs": [],
   "source": [
    "# Your code here"
   ]
  },
  {
   "cell_type": "markdown",
   "metadata": {},
   "source": [
    "The following test set checks if your shapes can be constructed. "
   ]
  },
  {
   "cell_type": "code",
   "execution_count": null,
   "metadata": {},
   "outputs": [],
   "source": [
    "@testset \"Test the instantiation of shapes\" begin\n",
    "    # Define some points\n",
    "    p1 = Point(0.0, 0.0)\n",
    "    p2 = Point(3.0, 4.0)\n",
    "    p3 = Point(5.0, 6.0)\n",
    "\n",
    "    # Define some shapes\n",
    "    s1 = Circle(p1, 1.0)\n",
    "    s2 = Rectangle(p1, p2)\n",
    "    s3 = Triangle(p1, p2, p3)\n",
    "\n",
    "    @test s1 isa Shape\n",
    "    @test s2 isa Shape\n",
    "    @test s3 isa Shape\n",
    "end\n"
   ]
  },
  {
   "cell_type": "markdown",
   "metadata": {},
   "source": [
    "**Task 3**: _Implement functions that calculate the area and perimeter for each of the the shapes._"
   ]
  },
  {
   "cell_type": "code",
   "execution_count": null,
   "metadata": {},
   "outputs": [],
   "source": [
    "# Your code here"
   ]
  },
  {
   "cell_type": "markdown",
   "metadata": {},
   "source": [
    "The following test set checks if your area and perimeter functions are correct."
   ]
  },
  {
   "cell_type": "code",
   "execution_count": null,
   "metadata": {},
   "outputs": [],
   "source": [
    "@testset \"Test area and perimeter functions\" begin\n",
    "    TOL = 1e-2 # tolerance for approximate equality\n",
    "    \n",
    "    p1 = Point(0.0, 0.0)\n",
    "    p2 = Point(3.0, 4.0)\n",
    "    p3 = Point(5.0, 6.0)\n",
    "\n",
    "    c1 = Circle(p1, 1.0)\n",
    "    @test area(c1) ≈ π atol=TOL\n",
    "    @test perimeter(c1) ≈ 2π atol=TOL\n",
    "\n",
    "    r1 = Rectangle(p1, p2)\n",
    "    @test area(r1) ≈ 12.0 atol=TOL\n",
    "    @test perimeter(r1) ≈ 14.0 atol=TOL\n",
    "\n",
    "    t1 = Triangle(p1, p2, p3)\n",
    "    @test area(t1) ≈ 6.0 atol=TOL\n",
    "    @test perimeter(t1) ≈ 8.47 atol=TOL\n",
    "\n",
    "end"
   ]
  },
  {
   "cell_type": "markdown",
   "metadata": {},
   "source": [
    "**Task 4**: _Implement a type that represents an (infinite) line. Then implement a function that calculates the intersection point (if any) between two lines._\n"
   ]
  },
  {
   "cell_type": "code",
   "execution_count": null,
   "metadata": {},
   "outputs": [],
   "source": [
    "# your code here"
   ]
  },
  {
   "cell_type": "markdown",
   "metadata": {},
   "source": [
    "Make sure those tests are passing:"
   ]
  },
  {
   "cell_type": "code",
   "execution_count": null,
   "metadata": {},
   "outputs": [],
   "source": [
    "@testset \"Line tests\" begin\n",
    "    # Test line construction from slope and intercept\n",
    "    l1 = Line(1.0, 0.0)\n",
    "    @test l1.slope == 1.0\n",
    "    @test l1.intercept == 0.0\n",
    "    \n",
    "    # Test line construction from two points\n",
    "    p1 = Point(0.0, 0.0)\n",
    "    p2 = Point(1.0, 1.0)\n",
    "    l2 = Line(p1, p2)\n",
    "    @test l2.slope == 1.0\n",
    "    @test l2.intercept == 0.0\n",
    "    \n",
    "    # Test intersection point calculation\n",
    "    p3 = Point(0.0, 1.0)\n",
    "    p4 = Point(1.0, 0.0)\n",
    "    l3 = Line(p3, p4)\n",
    "    intersect = intersection(l2, l3)\n",
    "    @test intersect.x == 0.5\n",
    "    @test intersect.y == 0.5\n",
    "\n",
    "    # Test parallel lines\n",
    "    p5 = Point(0.0, 2.0)\n",
    "    p6 = Point(1.0, 3.0)\n",
    "    l4 = Line(p5, p6)\n",
    "    @test intersection(l2, l4) == nothing\n",
    "end"
   ]
  },
  {
   "cell_type": "markdown",
   "metadata": {},
   "source": [
    "---\n",
    "_This notebook is licensed under a [Creative Commons Attribution-NonCommercial-ShareAlike 4.0 International (CC BY-NC-SA 4.0)](https://creativecommons.org/licenses/by-nc-sa/4.0/). Copyright © 2018-2024 [Point 8 GmbH](https://point-8.de)_"
   ]
  }
 ],
 "metadata": {
  "kernelspec": {
   "display_name": "Julia 1.9.4",
   "language": "julia",
   "name": "julia-1.9"
  },
  "language_info": {
   "file_extension": ".jl",
   "mimetype": "application/julia",
   "name": "julia",
   "version": "1.9.4"
  }
 },
 "nbformat": 4,
 "nbformat_minor": 2
}
