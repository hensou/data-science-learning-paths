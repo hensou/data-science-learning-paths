{
 "cells": [
  {
   "cell_type": "markdown",
   "metadata": {},
   "source": [
    "## Exercise Solution: Parallelization with Distributed"
   ]
  },
  {
   "cell_type": "code",
   "execution_count": null,
   "metadata": {},
   "outputs": [],
   "source": [
    "using Distributed\n"
   ]
  },
  {
   "cell_type": "code",
   "execution_count": null,
   "metadata": {},
   "outputs": [],
   "source": [
    "\n",
    "# Function to find prime numbers in a range using @distributed\n",
    "function find_primes(start, stop)\n",
    "    @everywhere function is_prime(n)\n",
    "        if n <= 1\n",
    "            return false\n",
    "        end\n",
    "\n",
    "        for i = 2:isqrt(n)\n",
    "            if n % i == 0\n",
    "                return false\n",
    "            end\n",
    "        end\n",
    "\n",
    "        return true\n",
    "    end\n",
    "\n",
    "    results = @distributed (vcat) for n = start:stop\n",
    "        if is_prime(n)\n",
    "            [n]\n",
    "        else\n",
    "            Int[]\n",
    "        end\n",
    "    end\n",
    "\n",
    "    return sort(unique(vcat(results...)))\n",
    "end\n",
    "\n"
   ]
  },
  {
   "cell_type": "code",
   "execution_count": null,
   "metadata": {},
   "outputs": [],
   "source": [
    "# Set up the parallel workers\n",
    "addprocs(4)\n",
    "\n",
    "# Define the range to search for primes\n",
    "start = 1\n",
    "stop = 1000\n",
    "\n",
    "# Perform the parallel prime number search\n",
    "@time result = find_primes(start, stop)\n",
    "\n",
    "# Print the result\n",
    "println(result)"
   ]
  },
  {
   "cell_type": "markdown",
   "metadata": {},
   "source": [
    "---\n",
    "_This notebook is licensed under a [Creative Commons Attribution-NonCommercial-ShareAlike 4.0 International (CC BY-NC-SA 4.0)](https://creativecommons.org/licenses/by-nc-sa/4.0/). Copyright © 2018-2024 [Point 8 GmbH](https://point-8.de)_"
   ]
  }
 ],
 "metadata": {
  "kernelspec": {
   "display_name": "Julia 1.9.4",
   "language": "julia",
   "name": "julia-1.9"
  },
  "language_info": {
   "file_extension": ".jl",
   "mimetype": "application/julia",
   "name": "julia",
   "version": "1.9.4"
  }
 },
 "nbformat": 4,
 "nbformat_minor": 2
}
