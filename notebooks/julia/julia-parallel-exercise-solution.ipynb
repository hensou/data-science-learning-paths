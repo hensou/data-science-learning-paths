{
 "cells": [
  {
   "cell_type": "markdown",
   "metadata": {},
   "source": [
    "## Exercise Solution: Parallelization with Distributed"
   ]
  },
  {
   "cell_type": "code",
   "execution_count": null,
   "metadata": {},
   "outputs": [],
   "source": [
    "using Distributed\n"
   ]
  },
  {
   "cell_type": "code",
   "execution_count": null,
   "metadata": {},
   "outputs": [],
   "source": [
    "\n",
    "# Function to find prime numbers in a range using @distributed\n",
    "function find_primes(start, stop)\n",
    "    @everywhere function is_prime(n)\n",
    "        if n <= 1\n",
    "            return false\n",
    "        end\n",
    "\n",
    "        for i = 2:isqrt(n)\n",
    "            if n % i == 0\n",
    "                return false\n",
    "            end\n",
    "        end\n",
    "\n",
    "        return true\n",
    "    end\n",
    "\n",
    "    results = @distributed (vcat) for n = start:stop\n",
    "        if is_prime(n)\n",
    "            [n]\n",
    "        else\n",
    "            Int[]\n",
    "        end\n",
    "    end\n",
    "\n",
    "    return results\n",
    "end\n",
    "\n"
   ]
  },
  {
   "cell_type": "code",
   "execution_count": null,
   "metadata": {},
   "outputs": [],
   "source": [
    "# Set up the parallel workers\n",
    "addprocs(4)\n",
    "\n",
    "# Define the range to search for primes\n",
    "start = 1\n",
    "stop = 1000\n",
    "\n",
    "# Perform the parallel prime number search\n",
    "@time result = find_primes(start, stop)\n",
    "\n",
    "# Print the result\n",
    "println(result)"
   ]
  },
  {
   "cell_type": "markdown",
   "metadata": {},
   "source": [
    "# Q: Is there a more elegant parallelized solution for the $\\pi$ approximation?"
   ]
  },
  {
   "cell_type": "code",
   "execution_count": null,
   "metadata": {},
   "outputs": [],
   "source": [
    "using Distributed\n",
    "addprocs(4)"
   ]
  },
  {
   "cell_type": "code",
   "execution_count": null,
   "metadata": {},
   "outputs": [],
   "source": [
    "\"\"\"\n",
    "    calculate_pi_parallel_direct(total_points::Int) -> Float64\n",
    "\n",
    "Calculate an estimate of π using the Monte Carlo method, in parallel, by directly distributing the random point generation across workers.\n",
    "\n",
    "Instead of assigning a fixed number of points to each worker, this function parallelizes the task of generating and checking each point. Each iteration of the internal loop can be run on any available worker, which allows for improved load balancing.\n",
    "\n",
    "# Arguments\n",
    "- `total_points::Int`: The total number of random points to use for the estimation.\n",
    "\n",
    "# Returns\n",
    "- `Float64`: An estimate of π.\n",
    "\"\"\"\n",
    "function calculate_pi_parallel_direct(total_points::Int)\n",
    "    # Use @distributed for parallel reduction with a (+) operator, iterating over each point\n",
    "    inside_total = @distributed (+) for i = 1:total_points\n",
    "        x = rand()\n",
    "        y = rand()\n",
    "        (x^2 + y^2) <= 1.0 ? 1 : 0\n",
    "    end\n",
    "    \n",
    "    # Calculate pi using the aggregated result\n",
    "    return 4 * inside_total / total_points\n",
    "end"
   ]
  },
  {
   "cell_type": "code",
   "execution_count": null,
   "metadata": {},
   "outputs": [],
   "source": [
    "calculate_pi_parallel_direct(Int(1e10))"
   ]
  },
  {
   "cell_type": "markdown",
   "metadata": {},
   "source": [
    "---\n",
    "_This notebook is licensed under a [Creative Commons Attribution-NonCommercial-ShareAlike 4.0 International (CC BY-NC-SA 4.0)](https://creativecommons.org/licenses/by-nc-sa/4.0/). Copyright © 2018-2024 [Point 8 GmbH](https://point-8.de)_"
   ]
  }
 ],
 "metadata": {
  "kernelspec": {
   "display_name": "Julia 1.9.4",
   "language": "julia",
   "name": "julia-1.9"
  },
  "language_info": {
   "file_extension": ".jl",
   "mimetype": "application/julia",
   "name": "julia",
   "version": "1.9.4"
  }
 },
 "nbformat": 4,
 "nbformat_minor": 2
}
