{
 "cells": [
  {
   "cell_type": "markdown",
   "metadata": {},
   "source": [
    "# Julia Basics\n",
    "\n",
    "In this notebook, we'll cover some of the foundational concepts of Julia.\n",
    "\n"
   ]
  },
  {
   "cell_type": "markdown",
   "metadata": {},
   "source": [
    "## Types\n",
    "\n",
    "Julia is a dynamically typed language, but it highly benefits from declaring types for performance reasons"
   ]
  },
  {
   "cell_type": "markdown",
   "metadata": {},
   "source": [
    "### Basic Types"
   ]
  },
  {
   "cell_type": "code",
   "execution_count": 1,
   "metadata": {},
   "outputs": [
    {
     "name": "stdout",
     "output_type": "stream",
     "text": [
      "Int64\n",
      "Float64\n",
      "Complex{Int64}\n",
      "String\n"
     ]
    }
   ],
   "source": [
    "# Integers\n",
    "int_val = 42\n",
    "println(typeof(int_val))  # Outputs: Int64 on a 64-bit system\n",
    "\n",
    "# Floating point numbers\n",
    "float_val = 3.14\n",
    "println(typeof(float_val))  # Outputs: Float64\n",
    "\n",
    "# Complex numbers\n",
    "complex_val = 3 + 4im\n",
    "println(typeof(complex_val))  # Outputs: Complex{Int64}\n",
    "\n",
    "# Strings\n",
    "str_val = \"Hello, Julia!\"\n",
    "println(typeof(str_val))  # Outputs: String\n"
   ]
  },
  {
   "cell_type": "markdown",
   "metadata": {},
   "source": [
    "### Composite Types (Structs)\n",
    "\n",
    "You can create custom types using struct. These are similar to classes in other languages but without methods attached."
   ]
  },
  {
   "cell_type": "code",
   "execution_count": 2,
   "metadata": {},
   "outputs": [
    {
     "name": "stdout",
     "output_type": "stream",
     "text": [
      "John Doe\n"
     ]
    }
   ],
   "source": [
    "struct Person\n",
    "    name::String\n",
    "    age::Int\n",
    "end\n",
    "\n",
    "john = Person(\"John Doe\", 30)\n",
    "println(john.name)  # Outputs: John Doe\n"
   ]
  },
  {
   "cell_type": "markdown",
   "metadata": {},
   "source": [
    "### Parametric Types\n",
    "Julia allows types to be parameterized."
   ]
  },
  {
   "cell_type": "code",
   "execution_count": 3,
   "metadata": {},
   "outputs": [
    {
     "name": "stdout",
     "output_type": "stream",
     "text": [
      "Point{Int64}\n",
      "Point{Float64}\n"
     ]
    }
   ],
   "source": [
    "struct Point{T}\n",
    "    x::T\n",
    "    y::T\n",
    "end\n",
    "\n",
    "p1 = Point(1, 2)               # Infers Point{Int64}\n",
    "p2 = Point(1.0, 2.5)          # Infers Point{Float64}\n",
    "println(typeof(p1))            # Outputs: Point{Int64}\n",
    "println(typeof(p2))            # Outputs: Point{Float64}\n"
   ]
  },
  {
   "cell_type": "markdown",
   "metadata": {},
   "source": [
    "### Unions\n",
    "Union types are a way to specify that a value can be of any of several types."
   ]
  },
  {
   "cell_type": "code",
   "execution_count": 4,
   "metadata": {},
   "outputs": [
    {
     "name": "stdout",
     "output_type": "stream",
     "text": [
      "5\n",
      "Five\n"
     ]
    }
   ],
   "source": [
    "Union{Int64, String}\n",
    "\n",
    "function print_it(val::Union{Int64, String})\n",
    "    println(val)\n",
    "end\n",
    "\n",
    "print_it(5)        # Outputs: 5\n",
    "print_it(\"Five\")   # Outputs: Five\n"
   ]
  },
  {
   "cell_type": "markdown",
   "metadata": {},
   "source": [
    "### Arrays and Tuples\n",
    "Arrays are mutable, while tuples are immutable."
   ]
  },
  {
   "cell_type": "code",
   "execution_count": 5,
   "metadata": {},
   "outputs": [
    {
     "name": "stdout",
     "output_type": "stream",
     "text": [
      "Vector{"
     ]
    },
    {
     "name": "stdout",
     "output_type": "stream",
     "text": [
      "Int64}\n",
      "Tuple{Int64, String, Float64}\n"
     ]
    }
   ],
   "source": [
    "# Array of integers\n",
    "arr = [1, 2, 3, 4, 5]\n",
    "println(typeof(arr))  # Outputs: Vector{Int64}\n",
    "\n",
    "# Tuple\n",
    "tup = (1, \"two\", 3.0)\n",
    "println(typeof(tup))  # Outputs: Tuple{Int64, String, Float64}\n"
   ]
  },
  {
   "cell_type": "markdown",
   "metadata": {},
   "source": [
    "### Dictionaries\n",
    "\n",
    "Dictionaries in Julia are collections of key-value pairs, allowing efficient value lookup by key. They are mutable, allowing addition, removal, or modification of pairs post-creation"
   ]
  },
  {
   "cell_type": "code",
   "execution_count": 26,
   "metadata": {},
   "outputs": [
    {
     "data": {
      "text/plain": [
       "Dict{String, String} with 3 entries:\n",
       "  \"Jane Doe\"  => \"098-765-4321\"\n",
       "  \"Jim Smith\" => \"555-555-5555\"\n",
       "  \"John Doe\"  => \"123-456-7890\""
      ]
     },
     "metadata": {},
     "output_type": "display_data"
    }
   ],
   "source": [
    "phone_numbers = Dict(\n",
    "    \"John Doe\" => \"123-456-7890\",\n",
    "    \"Jane Doe\" => \"098-765-4321\",\n",
    "    \"Jim Smith\" => \"555-555-5555\"\n",
    ")"
   ]
  },
  {
   "cell_type": "markdown",
   "metadata": {},
   "source": [
    "### 💡 Checking and Converting Types\n",
    "\n",
    "You can check the type of a variable and convert between types.\n",
    "\n"
   ]
  },
  {
   "cell_type": "code",
   "execution_count": 6,
   "metadata": {},
   "outputs": [
    {
     "name": "stdout",
     "output_type": "stream",
     "text": [
      "true\n"
     ]
    },
    {
     "name": "stdout",
     "output_type": "stream",
     "text": [
      "42.0\n"
     ]
    }
   ],
   "source": [
    "# Checking type\n",
    "println(isa(int_val, Int64))   # Outputs: true\n",
    "\n",
    "# Type conversion\n",
    "new_float = convert(Float64, int_val)\n",
    "println(new_float)             # Outputs: 42.0\n"
   ]
  },
  {
   "cell_type": "markdown",
   "metadata": {},
   "source": [
    "## Operators\n",
    "\n",
    "Julia offers a comprehensive set of operators, much like other languages.\n",
    "\n"
   ]
  },
  {
   "cell_type": "code",
   "execution_count": 7,
   "metadata": {},
   "outputs": [
    {
     "name": "stdout",
     "output_type": "stream",
     "text": [
      "30\n",
      "-10\n",
      "200\n",
      "0.5\n",
      "10\n",
      "7766279631452241920\n",
      "\n",
      "false\n",
      "true\n",
      "false\n",
      "true\n",
      "false\n",
      "true\n"
     ]
    }
   ],
   "source": [
    "a = 10\n",
    "b = 20\n",
    "\n",
    "# Arithmetic operators\n",
    "println(a + b)  # addition\n",
    "println(a - b)  # subtraction\n",
    "println(a * b)  # multiplication\n",
    "println(a / b)  # division\n",
    "println(a % b)  # Modulus (remainder)\n",
    "println(a^b)   # Exponentiation\n",
    "\n",
    "println()\n",
    "\n",
    "# Comparison operators\n",
    "println(a > b)  # Outputs: false\n",
    "println(a < b)  # Outputs: true\n",
    "println(a >= b) # Outputs: false\n",
    "println(a <= b) # Outputs: true\n",
    "println(a == b) # Outputs: false\n",
    "println(a != b) # Outputs: true\n"
   ]
  },
  {
   "cell_type": "code",
   "execution_count": 8,
   "metadata": {},
   "outputs": [
    {
     "name": "stdout",
     "output_type": "stream",
     "text": [
      "false\n",
      "true\n",
      "false\n"
     ]
    }
   ],
   "source": [
    "a = true\n",
    "b = false\n",
    "\n",
    "println(a && b)  # Logical AND: false\n",
    "println(a || b)  # Logical OR: true\n",
    "println(!a)      # Logical NOT: false\n"
   ]
  },
  {
   "cell_type": "markdown",
   "metadata": {},
   "source": [
    "## Syntax and Control Flow\n",
    "\n",
    "Julia's syntax is similar to other languages like MATLAB and Python.\n",
    "\n"
   ]
  },
  {
   "cell_type": "markdown",
   "metadata": {},
   "source": [
    "### Variables\n",
    "\n",
    "Variables in Julia do not require type declarations. You can simply assign a value to a variable:"
   ]
  },
  {
   "cell_type": "code",
   "execution_count": 9,
   "metadata": {},
   "outputs": [
    {
     "data": {
      "text/plain": [
       "\"Julia\""
      ]
     },
     "metadata": {},
     "output_type": "display_data"
    }
   ],
   "source": [
    "x = 10\n",
    "y = 3.14\n",
    "name = \"Julia\"\n"
   ]
  },
  {
   "cell_type": "markdown",
   "metadata": {},
   "source": [
    "### Conditional Statements\n",
    "\n"
   ]
  },
  {
   "cell_type": "code",
   "execution_count": 10,
   "metadata": {},
   "outputs": [
    {
     "name": "stdout",
     "output_type": "stream",
     "text": [
      "x is less than y\n"
     ]
    }
   ],
   "source": [
    "x = 10\n",
    "y = 20\n",
    "\n",
    "if x > y\n",
    "    println(\"x is greater than y\")\n",
    "elseif x < y\n",
    "    println(\"x is less than y\")\n",
    "else\n",
    "    println(\"x is equal to y\")\n",
    "end\n"
   ]
  },
  {
   "cell_type": "markdown",
   "metadata": {},
   "source": [
    "### Loops"
   ]
  },
  {
   "cell_type": "code",
   "execution_count": 11,
   "metadata": {},
   "outputs": [
    {
     "name": "stdout",
     "output_type": "stream",
     "text": [
      "1\n",
      "2\n",
      "3\n",
      "4\n",
      "5\n"
     ]
    }
   ],
   "source": [
    "for i in 1:5\n",
    "    println(i)\n",
    "end\n",
    "\n"
   ]
  },
  {
   "cell_type": "code",
   "execution_count": 12,
   "metadata": {},
   "outputs": [
    {
     "name": "stdout",
     "output_type": "stream",
     "text": [
      "apple\n",
      "banana\n",
      "cherry\n"
     ]
    }
   ],
   "source": [
    "# Or iterate over arrays\n",
    "fruits = [\"apple\", \"banana\", \"cherry\"]\n",
    "for fruit in fruits\n",
    "    println(fruit)\n",
    "end\n"
   ]
  },
  {
   "cell_type": "code",
   "execution_count": 13,
   "metadata": {},
   "outputs": [
    {
     "name": "stdout",
     "output_type": "stream",
     "text": [
      "5\n",
      "4\n",
      "3\n",
      "2\n",
      "1\n"
     ]
    }
   ],
   "source": [
    "n = 5\n",
    "while n > 0\n",
    "    println(n)\n",
    "    n -= 1\n",
    "end\n"
   ]
  },
  {
   "cell_type": "markdown",
   "metadata": {},
   "source": [
    "### Exceptions\n"
   ]
  },
  {
   "cell_type": "code",
   "execution_count": 14,
   "metadata": {},
   "outputs": [
    {
     "name": "stdout",
     "output_type": "stream",
     "text": [
      "An error occurred!\n"
     ]
    }
   ],
   "source": [
    "x = 42\n",
    "y = \"Test\"\n",
    "\n",
    "\n",
    "try\n",
    "    return x / y\n",
    "catch\n",
    "    println(\"An error occurred!\")\n",
    "end\n",
    "\n"
   ]
  },
  {
   "cell_type": "markdown",
   "metadata": {},
   "source": [
    "## Functions"
   ]
  },
  {
   "cell_type": "markdown",
   "metadata": {},
   "source": [
    "### Function Definitions\n",
    "\n",
    "You can define a function using the function keyword followed by the function name, arguments, and body. The function body is closed with the end keyword."
   ]
  },
  {
   "cell_type": "code",
   "execution_count": 15,
   "metadata": {},
   "outputs": [
    {
     "name": "stdout",
     "output_type": "stream",
     "text": [
      "Hello, Alice\n"
     ]
    }
   ],
   "source": [
    "function greet(name)\n",
    "    println(\"Hello, $name\")\n",
    "end\n",
    "\n",
    "greet(\"Alice\") \n"
   ]
  },
  {
   "cell_type": "markdown",
   "metadata": {},
   "source": [
    "### Return Values\n",
    "\n",
    "In Julia, the value of the last expression in a function is returned by default. This is known as an implicit return."
   ]
  },
  {
   "cell_type": "code",
   "execution_count": 16,
   "metadata": {},
   "outputs": [
    {
     "data": {
      "text/plain": [
       "7"
      ]
     },
     "metadata": {},
     "output_type": "display_data"
    }
   ],
   "source": [
    "function add(x, y)\n",
    "    result = x + y\n",
    "end\n",
    "\n",
    "result1 = add(3, 4)  # The value 7 is implicitly returned\n",
    "result1\n"
   ]
  },
  {
   "cell_type": "markdown",
   "metadata": {},
   "source": [
    "If you want to make the return value explicit or if you wish to return a value before the last expression in the function, you can use the return keyword."
   ]
  },
  {
   "cell_type": "code",
   "execution_count": 17,
   "metadata": {},
   "outputs": [
    {
     "data": {
      "text/plain": [
       "11"
      ]
     },
     "metadata": {},
     "output_type": "display_data"
    }
   ],
   "source": [
    "function add(x, y)\n",
    "    result = x + y\n",
    "    return result\n",
    "    println(\"This line will not be executed\")  \n",
    "end\n",
    "\n",
    "result2 = add(5, 6)  \n",
    "result2"
   ]
  },
  {
   "cell_type": "markdown",
   "metadata": {},
   "source": [
    "### Single-line Functions\n",
    "\n",
    "For simple functions, Julia offers a more concise syntax:\n"
   ]
  },
  {
   "cell_type": "code",
   "execution_count": 18,
   "metadata": {},
   "outputs": [
    {
     "data": {
      "text/plain": [
       "25"
      ]
     },
     "metadata": {},
     "output_type": "display_data"
    }
   ],
   "source": [
    "square(x) = x^2\n",
    "\n",
    "square(5)"
   ]
  },
  {
   "cell_type": "markdown",
   "metadata": {},
   "source": [
    "### Anonymous Functions (Lambdas)\n",
    "\n",
    "You can define functions without a name, often referred to as \"lambda functions\" or \"anonymous functions\". These are useful for short operations that you don't want to name."
   ]
  },
  {
   "cell_type": "code",
   "execution_count": 19,
   "metadata": {},
   "outputs": [
    {
     "data": {
      "text/plain": [
       "#11 (generic function with 1 method)"
      ]
     },
     "metadata": {},
     "output_type": "display_data"
    }
   ],
   "source": [
    "x -> x^2\n",
    "\n"
   ]
  },
  {
   "cell_type": "code",
   "execution_count": 20,
   "metadata": {},
   "outputs": [
    {
     "data": {
      "text/plain": [
       "25"
      ]
     },
     "metadata": {},
     "output_type": "display_data"
    }
   ],
   "source": [
    "(x -> x^2)(5)"
   ]
  },
  {
   "cell_type": "markdown",
   "metadata": {},
   "source": [
    "### Multiple Dispatch\n",
    "\n",
    "Julia can call different function methods depending on the types of all the arguments. The choice is made dynamically / at runtime, based on the types of all the arguments.\n",
    "\n",
    "⚠: This makes it different from **function overloading** in languages like C++ and Java, where the choice is made statically / at compile-time, based on the type of the object on which the function is called."
   ]
  },
  {
   "cell_type": "code",
   "execution_count": 21,
   "metadata": {},
   "outputs": [
    {
     "name": "stdout",
     "output_type": "stream",
     "text": [
      "4\n",
      "1.0\n",
      "HelloWorld\n"
     ]
    }
   ],
   "source": [
    "add(a::Int, b::Int) = a + b\n",
    "add(a::Float64, b::Float64) = a + b\n",
    "add(a::String, b::String) = string(a, b)\n",
    "\n",
    "println(add(1, 3))\n",
    "println(add(0.2, 0.8))\n",
    "println(add(\"Hello\", \"World\"))\n"
   ]
  },
  {
   "cell_type": "markdown",
   "metadata": {},
   "source": [
    "### Keyword Arguments\n",
    "Functions in Julia can also accept keyword arguments. These are defined using a semicolon in the function definition."
   ]
  },
  {
   "cell_type": "code",
   "execution_count": 22,
   "metadata": {},
   "outputs": [
    {
     "name": "stdout",
     "output_type": "stream",
     "text": [
      "Name: Bob, Age: 30\n"
     ]
    }
   ],
   "source": [
    "function print_info(;name=\"Unknown\", age=0)\n",
    "    println(\"Name: $name, Age: $age\")\n",
    "end\n",
    "\n",
    "print_info(name=\"Bob\", age=30)  # Outputs: Name: Bob, Age: 30\n"
   ]
  },
  {
   "cell_type": "markdown",
   "metadata": {},
   "source": [
    "### Varargs: Variable Number of Arguments\n",
    "\n",
    "You can define functions that accept a variable number of arguments using the ... notation.\n",
    "\n"
   ]
  },
  {
   "cell_type": "code",
   "execution_count": 23,
   "metadata": {},
   "outputs": [
    {
     "data": {
      "text/plain": [
       "15"
      ]
     },
     "metadata": {},
     "output_type": "display_data"
    }
   ],
   "source": [
    "function sum_all(nums...)\n",
    "    return sum(nums)\n",
    "end\n",
    "\n",
    "sum_all(1, 2, 3, 4, 5)  # Outputs: 15\n"
   ]
  },
  {
   "cell_type": "markdown",
   "metadata": {},
   "source": [
    "### Exceptions\n"
   ]
  },
  {
   "cell_type": "markdown",
   "metadata": {},
   "source": []
  }
 ],
 "metadata": {
  "kernelspec": {
   "display_name": "Julia 1.9.4",
   "language": "julia",
   "name": "julia-1.9"
  },
  "language_info": {
   "file_extension": ".jl",
   "mimetype": "application/julia",
   "name": "julia",
   "version": "1.9.4"
  }
 },
 "nbformat": 4,
 "nbformat_minor": 2
}
