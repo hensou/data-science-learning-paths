{
 "cells": [
  {
   "cell_type": "markdown",
   "metadata": {},
   "source": [
    "# Testing Julia Code\n",
    "\n",
    "Testing plays a crucial role in software development. It helps to ensure that your code works as expected and allows you to make changes to your code with confidence. Julia's standard library includes a Test module for creating and running tests."
   ]
  },
  {
   "cell_type": "markdown",
   "metadata": {},
   "source": [
    "# A Simple Test\n"
   ]
  },
  {
   "cell_type": "markdown",
   "metadata": {},
   "source": [
    "In Julia, you can write a test using the @test macro followed by an expression that should evaluate to true."
   ]
  },
  {
   "cell_type": "markdown",
   "metadata": {},
   "source": [
    "**Passing Test**"
   ]
  },
  {
   "cell_type": "code",
   "execution_count": 5,
   "metadata": {},
   "outputs": [
    {
     "data": {
      "text/plain": [
       "\u001b[32m\u001b[1mTest Passed\u001b[22m\u001b[39m"
      ]
     },
     "metadata": {},
     "output_type": "display_data"
    }
   ],
   "source": [
    "using Test\n",
    "\n",
    "@test 1 + 1 == 2  # This is a simple test case\n"
   ]
  },
  {
   "cell_type": "markdown",
   "metadata": {},
   "source": [
    "**Failing Test**"
   ]
  },
  {
   "cell_type": "code",
   "execution_count": 4,
   "metadata": {},
   "outputs": [
    {
     "name": "stdout",
     "output_type": "stream",
     "text": [
      "\u001b[91m\u001b[1mTest Failed\u001b[22m\u001b[39m at \u001b[39m\u001b[1m/Users/cls/Documents/Work/Training/point8/data-science-learning-paths/notebooks/julia/julia-testing.ipynb:1\u001b[22m\n",
      "  Expression: 1 + 1 == 3\n",
      "   Evaluated: 2 == 3\n",
      "\n"
     ]
    },
    {
     "ename": "Test.FallbackTestSetException",
     "evalue": "Test.FallbackTestSetException(\"There was an error during testing\")",
     "output_type": "error",
     "traceback": [
      "Test.FallbackTestSetException(\"There was an error during testing\")\n",
      "\n",
      "Stacktrace:\n",
      " [1] record(ts::Test.FallbackTestSet, t::Union{Test.Error, Test.Fail})\n",
      "   @ Test /opt/homebrew/Cellar/julia/1.9.4/share/julia/stdlib/v1.9/Test/src/Test.jl:960\n",
      " [2] do_test(result::Test.ExecutionResult, orig_expr::Any)\n",
      "   @ Test /opt/homebrew/Cellar/julia/1.9.4/share/julia/stdlib/v1.9/Test/src/Test.jl:670\n",
      " [3] top-level scope\n",
      "   @ /opt/homebrew/Cellar/julia/1.9.4/share/julia/stdlib/v1.9/Test/src/Test.jl:478"
     ]
    }
   ],
   "source": [
    "@test 1 + 1 == 3  # This is a failing test case"
   ]
  },
  {
   "cell_type": "markdown",
   "metadata": {},
   "source": [
    "**Testing Approximate Equality**\n",
    "\n",
    "In most cases, you may want to check that two floating point numbers are approximately equal to each other."
   ]
  },
  {
   "cell_type": "code",
   "execution_count": 14,
   "metadata": {},
   "outputs": [
    {
     "name": "stdout",
     "output_type": "stream",
     "text": [
      "\u001b[0m\u001b[1mTest Summary:              | \u001b[22m\u001b[32m\u001b[1mPass  \u001b[22m\u001b[39m\u001b[36m\u001b[1mTotal  \u001b[22m\u001b[39m\u001b[0m\u001b[1mTime\u001b[22m\n",
      "Approximate equality tests | \u001b[32m   1  \u001b[39m\u001b[36m    1  \u001b[39m\u001b[0m0.0s\n"
     ]
    },
    {
     "data": {
      "text/plain": [
       "Test.DefaultTestSet(\"Approximate equality tests\", Any[], 1, false, false, true, 1.701092159398575e9, 1.701092159398641e9, false)"
      ]
     },
     "metadata": {},
     "output_type": "display_data"
    }
   ],
   "source": [
    "using Test\n",
    "\n",
    "@testset \"Approximate equality tests\" begin\n",
    "    @test 0.1 + 0.2 ≈ 0.3 atol=1e-8\n",
    "end"
   ]
  },
  {
   "cell_type": "markdown",
   "metadata": {},
   "source": [
    "## Test Sets"
   ]
  },
  {
   "cell_type": "markdown",
   "metadata": {},
   "source": [
    "For more complex code, you'll want to organize your tests into \"test sets\". A test set is a group of tests that are related to each other. Test sets can be created using the @testset macro.  If any test within the test set fails, the entire test set is marked as failed."
   ]
  },
  {
   "cell_type": "code",
   "execution_count": 6,
   "metadata": {},
   "outputs": [
    {
     "name": "stdout",
     "output_type": "stream",
     "text": [
      "\u001b[0m\u001b[1mTest Summary:    | \u001b[22m\u001b[32m\u001b[1mPass  \u001b[22m\u001b[39m\u001b[36m\u001b[1mTotal  \u001b[22m\u001b[39m\u001b[0m\u001b[1mTime\u001b[22m\n",
      "Arithmetic tests | \u001b[32m   3  \u001b[39m\u001b[36m    3  \u001b[39m\u001b[0m0.2s\n"
     ]
    },
    {
     "data": {
      "text/plain": [
       "Test.DefaultTestSet(\"Arithmetic tests\", Any[], 3, false, false, true, 1.701091785761387e9, 1.701091785923194e9, false)"
      ]
     },
     "metadata": {},
     "output_type": "display_data"
    }
   ],
   "source": [
    "using Test\n",
    "\n",
    "@testset \"Arithmetic tests\" begin\n",
    "    @test 1 + 1 == 2\n",
    "    @test 2 * 2 == 4\n",
    "    @test 2 - 1 == 1\n",
    "end"
   ]
  },
  {
   "cell_type": "markdown",
   "metadata": {},
   "source": [
    "## Testing Exceptions"
   ]
  },
  {
   "cell_type": "code",
   "execution_count": 12,
   "metadata": {},
   "outputs": [
    {
     "name": "stdout",
     "output_type": "stream",
     "text": [
      "Exception tests: \u001b[91m\u001b[1mTest Failed\u001b[22m\u001b[39m at \u001b[39m\u001b[1m/Users/cls/Documents/Work/Training/point8/data-science-learning-paths/notebooks/julia/julia-testing.ipynb:4\u001b[22m\n",
      "  Expression: 1 / 0\n",
      "    Expected: DivideError\n",
      "  No exception thrown\n",
      "\n",
      "Stacktrace:\n",
      " [1] \u001b[0m\u001b[1mmacro expansion\u001b[22m\n",
      "\u001b[90m   @\u001b[39m \u001b[90m~/Documents/Work/Training/point8/data-science-learning-paths/notebooks/julia/\u001b[39m\u001b[90m\u001b[4mjulia-testing.ipynb:4\u001b[24m\u001b[39m\u001b[90m [inlined]\u001b[39m\n",
      " [2] \u001b[0m\u001b[1mmacro expansion\u001b[22m\n",
      "\u001b[90m   @\u001b[39m \u001b[90m/opt/homebrew/Cellar/julia/1.9.4/share/julia/stdlib/v1.9/Test/src/\u001b[39m\u001b[90m\u001b[4mTest.jl:1498\u001b[24m\u001b[39m\u001b[90m [inlined]\u001b[39m\n",
      " [3] top-level scope\n",
      "\u001b[90m   @\u001b[39m \u001b[90m~/Documents/Work/Training/point8/data-science-learning-paths/notebooks/julia/\u001b[39m\u001b[90m\u001b[4mjulia-testing.ipynb:3\u001b[24m\u001b[39m\n",
      "\u001b[0m\u001b[1mTest Summary:   | \u001b[22m\u001b[32m\u001b[1mPass  \u001b[22m\u001b[39m\u001b[91m\u001b[1mFail  \u001b[22m\u001b[39m\u001b[36m\u001b[1mTotal  \u001b[22m\u001b[39m\u001b[0m\u001b[1mTime\u001b[22m\n",
      "Exception tests | \u001b[32m   1  \u001b[39m\u001b[91m   1  \u001b[39m\u001b[36m    2  \u001b[39m\u001b[0m0.0s\n"
     ]
    },
    {
     "ename": "TestSetException",
     "evalue": "Some tests did not pass: 1 passed, 1 failed, 0 errored, 0 broken.",
     "output_type": "error",
     "traceback": [
      "Some tests did not pass: 1 passed, 1 failed, 0 errored, 0 broken.\n",
      "\n",
      "Stacktrace:\n",
      " [1] finish(ts::Test.DefaultTestSet)\n",
      "   @ Test /opt/homebrew/Cellar/julia/1.9.4/share/julia/stdlib/v1.9/Test/src/Test.jl:1151\n",
      " [2] macro expansion\n",
      "   @ /opt/homebrew/Cellar/julia/1.9.4/share/julia/stdlib/v1.9/Test/src/Test.jl:1514 [inlined]\n",
      " [3] top-level scope\n",
      "   @ ~/Documents/Work/Training/point8/data-science-learning-paths/notebooks/julia/julia-testing.ipynb:3"
     ]
    }
   ],
   "source": [
    "\n",
    "@testset \"Exception tests\" begin\n",
    "    @test_throws DivideError  1 ÷ 0  # integer division by zero\n",
    "    @test_throws DivideError 1 / 0  # floating-point division by zero\n",
    "end"
   ]
  },
  {
   "cell_type": "markdown",
   "metadata": {},
   "source": [
    "## Performance Testing\n",
    "Performance testing is important to ensure that your code runs efficiently. In Julia, you can use the `@time` and `@allocated`` macros to measure how long a piece of code takes to run and how much memory it uses.\n"
   ]
  },
  {
   "cell_type": "code",
   "execution_count": 17,
   "metadata": {},
   "outputs": [
    {
     "name": "stdout",
     "output_type": "stream",
     "text": [
      "\u001b[0m\u001b[1mTest Summary:       | \u001b[22m\u001b[32m\u001b[1mPass  \u001b[22m\u001b[39m\u001b[36m\u001b[1mTotal  \u001b[22m\u001b[39m\u001b[0m\u001b[1mTime\u001b[22m\n",
      "Performance testing | \u001b[32m   2  \u001b[39m\u001b[36m    2  \u001b[39m\u001b[0m0.1s\n"
     ]
    },
    {
     "data": {
      "text/plain": [
       "Test.DefaultTestSet(\"Performance testing\", Any[], 2, false, false, true, 1.701092375126325e9, 1.701092375180553e9, false)"
      ]
     },
     "metadata": {},
     "output_type": "display_data"
    }
   ],
   "source": [
    "using Test\n",
    "\n",
    "@testset \"Performance testing\" begin\n",
    "    @test @allocated(collect(1:1_000_000)) < 10_000_000  # Check that it allocates less than 10MB\n",
    "    @test @elapsed(sum(1:1_000_000)) < 0.01  # Check that it runs in less than 0.01s\n",
    "end"
   ]
  },
  {
   "cell_type": "code",
   "execution_count": null,
   "metadata": {},
   "outputs": [],
   "source": []
  }
 ],
 "metadata": {
  "kernelspec": {
   "display_name": "Julia 1.9.4",
   "language": "julia",
   "name": "julia-1.9"
  },
  "language_info": {
   "file_extension": ".jl",
   "mimetype": "application/julia",
   "name": "julia",
   "version": "1.9.4"
  }
 },
 "nbformat": 4,
 "nbformat_minor": 2
}
