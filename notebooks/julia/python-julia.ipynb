{
 "cells": [
  {
   "cell_type": "markdown",
   "metadata": {},
   "source": [
    "## Calling Julia from Python \n",
    "\n",
    "PyJulia is a Python package that enables you to call Julia functions and libraries directly from Python. "
   ]
  },
  {
   "cell_type": "code",
   "execution_count": null,
   "metadata": {},
   "outputs": [],
   "source": [
    "import julia"
   ]
  },
  {
   "cell_type": "code",
   "execution_count": null,
   "metadata": {},
   "outputs": [],
   "source": [
    "from julia import Main\n",
    "\n",
    "Main.eval(\"\"\"\n",
    "using JuMP, GLPK\n",
    "\n",
    "function solve_optimization()\n",
    "    model = Model(GLPK.Optimizer)\n",
    "    \n",
    "    @variable(model, 0 <= x <= 2)\n",
    "    @variable(model, 0 <= y <= 30)\n",
    "\n",
    "    @objective(model, Max, 5x + 3*y)\n",
    "    @constraint(model, 1x + 5y <= 3.0)\n",
    "\n",
    "    optimize!(model)\n",
    "    \n",
    "    return value(x), value(y), objective_value(model)\n",
    "end\n",
    "\n",
    "solve_optimization()\n",
    "\"\"\")\n",
    "\n",
    "# Get the result\n",
    "x_value, y_value, objective_value = Main.solve_optimization()\n",
    "print(f\"x: {x_value}, y: {y_value}, objective value: {objective_value}\")"
   ]
  },
  {
   "cell_type": "code",
   "execution_count": null,
   "metadata": {},
   "outputs": [],
   "source": []
  }
 ],
 "metadata": {
  "kernelspec": {
   "display_name": "data-science-learning-paths",
   "language": "python",
   "name": "python3"
  },
  "language_info": {
   "codemirror_mode": {
    "name": "ipython",
    "version": 3
   },
   "file_extension": ".py",
   "mimetype": "text/x-python",
   "name": "python",
   "nbconvert_exporter": "python",
   "pygments_lexer": "ipython3",
   "version": "3.9.18"
  }
 },
 "nbformat": 4,
 "nbformat_minor": 2
}
