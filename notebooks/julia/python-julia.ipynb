{
 "cells": [
  {
   "cell_type": "markdown",
   "metadata": {},
   "source": [
    "## Calling Julia from Python \n",
    "\n",
    "PyJulia is a Python package that enables you to call Julia functions and libraries directly from Python. "
   ]
  },
  {
   "cell_type": "code",
   "execution_count": 1,
   "metadata": {},
   "outputs": [],
   "source": [
    "import julia"
   ]
  },
  {
   "cell_type": "code",
   "execution_count": 2,
   "metadata": {},
   "outputs": [
    {
     "ename": "UnsupportedPythonError",
     "evalue": "It seems your Julia and PyJulia setup are not supported.\n\nJulia executable:\n    julia\nPython interpreter and libpython used by PyCall.jl:\n    /Users/cls/.julia/conda/3/aarch64/bin/python\n    /Users/cls/.julia/conda/3/aarch64/lib/libpython3.10.dylib\nPython interpreter used to import PyJulia and its libpython.\n    /Users/cls/miniforge3/envs/pyjulia/bin/python\n    /Users/cls/miniforge3/envs/pyjulia/lib/libpython3.9.dylib\n\nYour Python interpreter \"/Users/cls/miniforge3/envs/pyjulia/bin/python\"\nis statically linked to libpython.  Currently, PyJulia does not fully\nsupport such Python interpreter.\n\nThe easiest workaround is to pass `compiled_modules=False` to `Julia`\nconstructor.  To do so, first *reboot* your Python REPL (if this happened\ninside an interactive session) and then evaluate:\n\n    >>> from julia.api import Julia\n    >>> jl = Julia(compiled_modules=False)\n\nAnother workaround is to run your Python script with `python-jl`\ncommand bundled in PyJulia.  You can simply do:\n\n    $ python-jl PATH/TO/YOUR/SCRIPT.py\n\nSee `python-jl --help` for more information.\n\nFor more information, see:\n\n    https://pyjulia.readthedocs.io/en/latest/troubleshooting.html\n",
     "output_type": "error",
     "traceback": [
      "\u001b[0;31m---------------------------------------------------------------------------\u001b[0m",
      "\u001b[0;31mUnsupportedPythonError\u001b[0m                    Traceback (most recent call last)",
      "\u001b[1;32m/Users/cls/Documents/Work/Training/point8/data-science-learning-paths/notebooks/julia/python-julia.ipynb Cell 3\u001b[0m line \u001b[0;36m1\n\u001b[0;32m----> <a href='vscode-notebook-cell:/Users/cls/Documents/Work/Training/point8/data-science-learning-paths/notebooks/julia/python-julia.ipynb#W2sZmlsZQ%3D%3D?line=0'>1</a>\u001b[0m \u001b[39mfrom\u001b[39;00m \u001b[39mjulia\u001b[39;00m \u001b[39mimport\u001b[39;00m Main\n\u001b[1;32m      <a href='vscode-notebook-cell:/Users/cls/Documents/Work/Training/point8/data-science-learning-paths/notebooks/julia/python-julia.ipynb#W2sZmlsZQ%3D%3D?line=2'>3</a>\u001b[0m Main\u001b[39m.\u001b[39meval(\u001b[39m\"\"\"\u001b[39m\n\u001b[1;32m      <a href='vscode-notebook-cell:/Users/cls/Documents/Work/Training/point8/data-science-learning-paths/notebooks/julia/python-julia.ipynb#W2sZmlsZQ%3D%3D?line=3'>4</a>\u001b[0m \u001b[39musing JuMP, GLPK\u001b[39m\n\u001b[1;32m      <a href='vscode-notebook-cell:/Users/cls/Documents/Work/Training/point8/data-science-learning-paths/notebooks/julia/python-julia.ipynb#W2sZmlsZQ%3D%3D?line=4'>5</a>\u001b[0m \n\u001b[0;32m   (...)\u001b[0m\n\u001b[1;32m     <a href='vscode-notebook-cell:/Users/cls/Documents/Work/Training/point8/data-science-learning-paths/notebooks/julia/python-julia.ipynb#W2sZmlsZQ%3D%3D?line=19'>20</a>\u001b[0m \u001b[39msolve_optimization()\u001b[39m\n\u001b[1;32m     <a href='vscode-notebook-cell:/Users/cls/Documents/Work/Training/point8/data-science-learning-paths/notebooks/julia/python-julia.ipynb#W2sZmlsZQ%3D%3D?line=20'>21</a>\u001b[0m \u001b[39m\"\"\"\u001b[39m)\n\u001b[1;32m     <a href='vscode-notebook-cell:/Users/cls/Documents/Work/Training/point8/data-science-learning-paths/notebooks/julia/python-julia.ipynb#W2sZmlsZQ%3D%3D?line=22'>23</a>\u001b[0m \u001b[39m# Get the result\u001b[39;00m\n",
      "File \u001b[0;32m<frozen importlib._bootstrap>:1007\u001b[0m, in \u001b[0;36m_find_and_load\u001b[0;34m(name, import_)\u001b[0m\n",
      "File \u001b[0;32m<frozen importlib._bootstrap>:986\u001b[0m, in \u001b[0;36m_find_and_load_unlocked\u001b[0;34m(name, import_)\u001b[0m\n",
      "File \u001b[0;32m<frozen importlib._bootstrap>:664\u001b[0m, in \u001b[0;36m_load_unlocked\u001b[0;34m(spec)\u001b[0m\n",
      "File \u001b[0;32m<frozen importlib._bootstrap>:627\u001b[0m, in \u001b[0;36m_load_backward_compatible\u001b[0;34m(spec)\u001b[0m\n",
      "File \u001b[0;32m~/miniforge3/envs/pyjulia/lib/python3.9/site-packages/julia/core.py:247\u001b[0m, in \u001b[0;36mJuliaModuleLoader.load_module\u001b[0;34m(self, fullname)\u001b[0m\n\u001b[1;32m    244\u001b[0m juliapath \u001b[39m=\u001b[39m remove_prefix(fullname, \u001b[39m\"\u001b[39m\u001b[39mjulia.\u001b[39m\u001b[39m\"\u001b[39m)\n\u001b[1;32m    245\u001b[0m \u001b[39mif\u001b[39;00m juliapath \u001b[39m==\u001b[39m \u001b[39m'\u001b[39m\u001b[39mMain\u001b[39m\u001b[39m'\u001b[39m:\n\u001b[1;32m    246\u001b[0m     \u001b[39mreturn\u001b[39;00m sys\u001b[39m.\u001b[39mmodules\u001b[39m.\u001b[39msetdefault(fullname,\n\u001b[0;32m--> 247\u001b[0m                                   JuliaMainModule(\u001b[39mself\u001b[39;49m, fullname))\n\u001b[1;32m    248\u001b[0m \u001b[39melif\u001b[39;00m \u001b[39mself\u001b[39m\u001b[39m.\u001b[39mjulia\u001b[39m.\u001b[39misafunction(juliapath):\n\u001b[1;32m    249\u001b[0m     \u001b[39mreturn\u001b[39;00m \u001b[39mself\u001b[39m\u001b[39m.\u001b[39mjulia\u001b[39m.\u001b[39meval(juliapath)\n",
      "File \u001b[0;32m~/miniforge3/envs/pyjulia/lib/python3.9/site-packages/julia/core.py:149\u001b[0m, in \u001b[0;36mJuliaModule.__init__\u001b[0;34m(self, loader, *args, **kwargs)\u001b[0m\n\u001b[1;32m    147\u001b[0m \u001b[39mdef\u001b[39;00m \u001b[39m__init__\u001b[39m(\u001b[39mself\u001b[39m, loader, \u001b[39m*\u001b[39margs, \u001b[39m*\u001b[39m\u001b[39m*\u001b[39mkwargs):\n\u001b[1;32m    148\u001b[0m     \u001b[39msuper\u001b[39m(JuliaModule, \u001b[39mself\u001b[39m)\u001b[39m.\u001b[39m\u001b[39m__init__\u001b[39m(\u001b[39m*\u001b[39margs, \u001b[39m*\u001b[39m\u001b[39m*\u001b[39mkwargs)\n\u001b[0;32m--> 149\u001b[0m     \u001b[39mself\u001b[39m\u001b[39m.\u001b[39m_julia \u001b[39m=\u001b[39m loader\u001b[39m.\u001b[39;49mjulia\n\u001b[1;32m    150\u001b[0m     \u001b[39mself\u001b[39m\u001b[39m.\u001b[39m__loader__ \u001b[39m=\u001b[39m loader\n",
      "File \u001b[0;32m~/miniforge3/envs/pyjulia/lib/python3.9/site-packages/julia/core.py:239\u001b[0m, in \u001b[0;36mJuliaModuleLoader.julia\u001b[0;34m(self)\u001b[0m\n\u001b[1;32m    237\u001b[0m \u001b[39m@property\u001b[39m\n\u001b[1;32m    238\u001b[0m \u001b[39mdef\u001b[39;00m \u001b[39mjulia\u001b[39m(\u001b[39mself\u001b[39m):\n\u001b[0;32m--> 239\u001b[0m     \u001b[39mself\u001b[39m\u001b[39m.\u001b[39m\u001b[39m__class__\u001b[39m\u001b[39m.\u001b[39mjulia \u001b[39m=\u001b[39m julia \u001b[39m=\u001b[39m Julia()\n\u001b[1;32m    240\u001b[0m     \u001b[39mreturn\u001b[39;00m julia\n",
      "File \u001b[0;32m~/miniforge3/envs/pyjulia/lib/python3.9/site-packages/julia/core.py:489\u001b[0m, in \u001b[0;36mJulia.__init__\u001b[0;34m(self, init_julia, jl_init_path, runtime, jl_runtime_path, debug, **julia_options)\u001b[0m\n\u001b[1;32m    483\u001b[0m logger\u001b[39m.\u001b[39mdebug(\u001b[39m\"\u001b[39m\u001b[39mcompiled_modules = \u001b[39m\u001b[39m%r\u001b[39;00m\u001b[39m\"\u001b[39m, options\u001b[39m.\u001b[39mcompiled_modules)\n\u001b[1;32m    484\u001b[0m \u001b[39mif\u001b[39;00m \u001b[39mnot\u001b[39;00m (\n\u001b[1;32m    485\u001b[0m     options\u001b[39m.\u001b[39mcompiled_modules \u001b[39m==\u001b[39m \u001b[39m\"\u001b[39m\u001b[39mno\u001b[39m\u001b[39m\"\u001b[39m\n\u001b[1;32m    486\u001b[0m     \u001b[39mor\u001b[39;00m is_compatible_python\n\u001b[1;32m    487\u001b[0m     \u001b[39mor\u001b[39;00m use_custom_sysimage\n\u001b[1;32m    488\u001b[0m ):\n\u001b[0;32m--> 489\u001b[0m     \u001b[39mraise\u001b[39;00m UnsupportedPythonError(jlinfo)\n\u001b[1;32m    491\u001b[0m \u001b[39mself\u001b[39m\u001b[39m.\u001b[39mapi\u001b[39m.\u001b[39minit_julia(options)\n\u001b[1;32m    493\u001b[0m \u001b[39m# We are assuming that `jl_is_initialized()` was true only\u001b[39;00m\n\u001b[1;32m    494\u001b[0m \u001b[39m# if this process was a Julia process (hence PyCall had\u001b[39;00m\n\u001b[1;32m    495\u001b[0m \u001b[39m# already called `atexit(Py_Finalize)`).  This is not true\u001b[39;00m\n\u001b[0;32m   (...)\u001b[0m\n\u001b[1;32m    500\u001b[0m \u001b[39m# not register the atexit hook), let's play on the safer\u001b[39;00m\n\u001b[1;32m    501\u001b[0m \u001b[39m# side for now.\u001b[39;00m\n",
      "\u001b[0;31mUnsupportedPythonError\u001b[0m: It seems your Julia and PyJulia setup are not supported.\n\nJulia executable:\n    julia\nPython interpreter and libpython used by PyCall.jl:\n    /Users/cls/.julia/conda/3/aarch64/bin/python\n    /Users/cls/.julia/conda/3/aarch64/lib/libpython3.10.dylib\nPython interpreter used to import PyJulia and its libpython.\n    /Users/cls/miniforge3/envs/pyjulia/bin/python\n    /Users/cls/miniforge3/envs/pyjulia/lib/libpython3.9.dylib\n\nYour Python interpreter \"/Users/cls/miniforge3/envs/pyjulia/bin/python\"\nis statically linked to libpython.  Currently, PyJulia does not fully\nsupport such Python interpreter.\n\nThe easiest workaround is to pass `compiled_modules=False` to `Julia`\nconstructor.  To do so, first *reboot* your Python REPL (if this happened\ninside an interactive session) and then evaluate:\n\n    >>> from julia.api import Julia\n    >>> jl = Julia(compiled_modules=False)\n\nAnother workaround is to run your Python script with `python-jl`\ncommand bundled in PyJulia.  You can simply do:\n\n    $ python-jl PATH/TO/YOUR/SCRIPT.py\n\nSee `python-jl --help` for more information.\n\nFor more information, see:\n\n    https://pyjulia.readthedocs.io/en/latest/troubleshooting.html\n"
     ]
    }
   ],
   "source": [
    "from julia import Main\n",
    "\n",
    "Main.eval(\"\"\"\n",
    "using JuMP, GLPK\n",
    "\n",
    "function solve_optimization()\n",
    "    model = Model(GLPK.Optimizer)\n",
    "    \n",
    "    @variable(model, 0 <= x <= 2)\n",
    "    @variable(model, 0 <= y <= 30)\n",
    "\n",
    "    @objective(model, Max, 5x + 3*y)\n",
    "    @constraint(model, 1x + 5y <= 3.0)\n",
    "\n",
    "    optimize!(model)\n",
    "    \n",
    "    return value(x), value(y), objective_value(model)\n",
    "end\n",
    "\n",
    "solve_optimization()\n",
    "\"\"\")\n",
    "\n",
    "# Get the result\n",
    "x_value, y_value, objective_value = Main.solve_optimization()\n",
    "print(f\"x: {x_value}, y: {y_value}, objective value: {objective_value}\")"
   ]
  },
  {
   "cell_type": "code",
   "execution_count": null,
   "metadata": {},
   "outputs": [],
   "source": []
  }
 ],
 "metadata": {
  "kernelspec": {
   "display_name": "data-science-learning-paths",
   "language": "python",
   "name": "python3"
  },
  "language_info": {
   "codemirror_mode": {
    "name": "ipython",
    "version": 3
   },
   "file_extension": ".py",
   "mimetype": "text/x-python",
   "name": "python",
   "nbconvert_exporter": "python",
   "pygments_lexer": "ipython3",
   "version": "3.9.18"
  }
 },
 "nbformat": 4,
 "nbformat_minor": 2
}
