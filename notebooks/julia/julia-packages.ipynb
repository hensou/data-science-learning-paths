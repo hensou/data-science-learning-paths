{
 "cells": [
  {
   "cell_type": "markdown",
   "metadata": {},
   "source": [
    "# Packages\n",
    "\n",
    "In this chapter, we explore the concept of packages in Julia, including the standard library and package management with `Pkg``.\n"
   ]
  },
  {
   "cell_type": "markdown",
   "metadata": {},
   "source": [
    "## What is a Package?\n",
    "\n",
    "A package in Julia is a reusable module of code. These packages are used to add new functionalities to the Julia programming language. "
   ]
  },
  {
   "cell_type": "markdown",
   "metadata": {},
   "source": [
    "## The Standard Library\n",
    "\n",
    "The standard library in Julia is a collection of packages that come pre-installed with Julia. They provide a rich set of features and functionalities. Some of the most popular standard library packages include:\n",
    "\n",
    "- `Base`: The core functionality of Julia.\n",
    "- `Core`: The minimal functionality of Julia, upon which everything else is built.\n",
    "- `LinearAlgebra`: Provides linear algebra functionalities.\n",
    "- `Random`: Provides random number generation.\n",
    "- `Test`: Provides unit testing functionalities."
   ]
  },
  {
   "cell_type": "code",
   "execution_count": 1,
   "metadata": {},
   "outputs": [
    {
     "data": {
      "text/plain": [
       "\"30lrGtcl\""
      ]
     },
     "metadata": {},
     "output_type": "display_data"
    }
   ],
   "source": [
    "using Random\n",
    "\n",
    "randstring()"
   ]
  },
  {
   "cell_type": "code",
   "execution_count": 29,
   "metadata": {},
   "outputs": [
    {
     "name": "stdout",
     "output_type": "stream",
     "text": [
      "\u001b[0m\u001b[1mTest Summary: | \u001b[22m\u001b[32m\u001b[1mPass  \u001b[22m\u001b[39m\u001b[36m\u001b[1mTotal  \u001b[22m\u001b[39m\u001b[0m\u001b[1mTime\u001b[22m\n",
      "LinearAlgebra | \u001b[32m   2  \u001b[39m\u001b[36m    2  \u001b[39m\u001b[0m0.3s\n"
     ]
    },
    {
     "data": {
      "text/plain": [
       "Test.DefaultTestSet(\"LinearAlgebra\", Any[], 2, false, false, true, 1.700834963208711e9, 1.700834963498004e9, false)"
      ]
     },
     "metadata": {},
     "output_type": "display_data"
    }
   ],
   "source": [
    "using Test\n",
    "using LinearAlgebra\n",
    "\n",
    "@testset \"some linear algebra\" begin\n",
    "    @test dot([1, 2, 3], [4, 5, 6]) == 32\n",
    "    @test norm([1, 2, 3]) == sqrt(14)\n",
    "end"
   ]
  },
  {
   "cell_type": "markdown",
   "metadata": {},
   "source": [
    "## Pkg: Julia's Package Manager\n",
    "\n",
    "Pkg is Julia's built-in package manager. It allows you to add, update, or remove packages in your Julia environment. Here's a quick guide to some common Pkg commands.\n"
   ]
  },
  {
   "cell_type": "markdown",
   "metadata": {},
   "source": [
    "### Adding a Package\n",
    "\n",
    "To add a package, use the `add` command:"
   ]
  },
  {
   "cell_type": "code",
   "execution_count": 19,
   "metadata": {},
   "outputs": [
    {
     "name": "stderr",
     "output_type": "stream",
     "text": [
      "\u001b[32m\u001b[1m   Resolving\u001b[22m\u001b[39m package versions...\n",
      "\u001b[32m\u001b[1m  No Changes\u001b[22m\u001b[39m to `~/Documents/Work/Training/point8/Julia/env/tmp/Project.toml`\n",
      "\u001b[32m\u001b[1m  No Changes\u001b[22m\u001b[39m to `~/Documents/Work/Training/point8/Julia/env/tmp/Manifest.toml`\n"
     ]
    }
   ],
   "source": [
    "using Pkg\n",
    "Pkg.add(\"Example\")"
   ]
  },
  {
   "cell_type": "markdown",
   "metadata": {},
   "source": [
    "The Example package in Julia is a basic package that comes pre-installed with every Julia installation. It's meant to serve as a demonstration or template for how to structure a Julia package.\n",
    "\n",
    "The Example package includes a single exported function, hello, which returns a greeting to the user. "
   ]
  },
  {
   "cell_type": "code",
   "execution_count": 20,
   "metadata": {},
   "outputs": [
    {
     "data": {
      "text/plain": [
       "\"Hello, Julia\""
      ]
     },
     "metadata": {},
     "output_type": "display_data"
    }
   ],
   "source": [
    "using Example\n",
    "Example.hello(\"Julia\")"
   ]
  },
  {
   "cell_type": "markdown",
   "metadata": {},
   "source": [
    "### Updating Packages\n",
    "\n",
    "\n"
   ]
  },
  {
   "cell_type": "markdown",
   "metadata": {},
   "source": [
    "To update a specific package:"
   ]
  },
  {
   "cell_type": "code",
   "execution_count": 21,
   "metadata": {},
   "outputs": [
    {
     "name": "stderr",
     "output_type": "stream",
     "text": [
      "\u001b[32m\u001b[1m    Updating\u001b[22m\u001b[39m registry at `~/.julia/registries/General.toml`\n"
     ]
    },
    {
     "name": "stderr",
     "output_type": "stream",
     "text": [
      "\u001b[32m\u001b[1m  No Changes\u001b[22m\u001b[39m to `~/Documents/Work/Training/point8/Julia/env/tmp/Project.toml`\n",
      "\u001b[32m\u001b[1m  No Changes\u001b[22m\u001b[39m to `~/Documents/Work/Training/point8/Julia/env/tmp/Manifest.toml`\n"
     ]
    }
   ],
   "source": [
    "Pkg.update(\"Example\")"
   ]
  },
  {
   "cell_type": "markdown",
   "metadata": {},
   "source": [
    "### Removing a Package\n",
    "\n",
    "To remove a package, use the rm command:\n"
   ]
  },
  {
   "cell_type": "code",
   "execution_count": 22,
   "metadata": {},
   "outputs": [
    {
     "name": "stderr",
     "output_type": "stream",
     "text": [
      "\u001b[32m\u001b[1m    Updating\u001b[22m\u001b[39m `~/Documents/Work/Training/point8/Julia/env/tmp/Project.toml`\n",
      "  \u001b[90m[7876af07] \u001b[39m\u001b[91m- Example v0.5.3\u001b[39m\n",
      "\u001b[32m\u001b[1m    Updating\u001b[22m\u001b[39m `~/Documents/Work/Training/point8/Julia/env/tmp/Manifest.toml`\n",
      "  \u001b[90m[7876af07] \u001b[39m\u001b[91m- Example v0.5.3\u001b[39m\n"
     ]
    }
   ],
   "source": [
    "Pkg.rm(\"Example\")"
   ]
  },
  {
   "cell_type": "markdown",
   "metadata": {},
   "source": [
    "### Checking Installed Packages\n",
    "\n",
    "To see a list of all installed packages, use the status command:\n",
    "\n"
   ]
  },
  {
   "cell_type": "code",
   "execution_count": 23,
   "metadata": {},
   "outputs": [
    {
     "name": "stdout",
     "output_type": "stream",
     "text": [
      "\u001b[32m\u001b[1mStatus\u001b[22m\u001b[39m `~/Documents/Work/Training/point8/Julia/env/tmp/Project.toml` (empty project)\n"
     ]
    }
   ],
   "source": [
    "using Pkg\n",
    "Pkg.status()"
   ]
  },
  {
   "cell_type": "markdown",
   "metadata": {},
   "source": [
    "### Where are packages installed?\n",
    "When you add a package in Julia, it gets installed into a directory on your machine that's controlled by the Julia package manager, Pkg. \n",
    "\n",
    "Each package is placed in its own subdirectory within the packages directory. The actual code of the package is found in the src/ subdirectory within the package's directory."
   ]
  },
  {
   "cell_type": "code",
   "execution_count": 25,
   "metadata": {},
   "outputs": [
    {
     "data": {
      "text/plain": [
       "248-element Vector{String}:\n",
       " \"AbstractFFTs\"\n",
       " \"Adapt\"\n",
       " \"ArnoldiMethod\"\n",
       " \"ArrayInterface\"\n",
       " \"AxisAlgorithms\"\n",
       " \"AxisArrays\"\n",
       " \"BinaryProvider\"\n",
       " \"BitFlags\"\n",
       " \"BitTwiddlingConvenienceFunctions\"\n",
       " \"Bzip2_jll\"\n",
       " ⋮\n",
       " \"libass_jll\"\n",
       " \"libfdk_aac_jll\"\n",
       " \"libpng_jll\"\n",
       " \"libsixel_jll\"\n",
       " \"libsodium_jll\"\n",
       " \"libvorbis_jll\"\n",
       " \"x264_jll\"\n",
       " \"x265_jll\"\n",
       " \"xkbcommon_jll\""
      ]
     },
     "metadata": {},
     "output_type": "display_data"
    }
   ],
   "source": [
    "using Pkg\n",
    "readdir(Pkg.depots()[1] * \"/packages\")"
   ]
  },
  {
   "cell_type": "markdown",
   "metadata": {},
   "source": [
    "### How to manage environments?\n",
    "\n",
    "In Julia, an environment is a collection of packages that Pkg manages together. You can think of an environment as a project's workspace, with its own specific set of package dependencies.\n",
    "\n",
    "By default, when you add a package, it gets added to your current active environment (which is typically the default environment, located at ~/.julia/environments/v#.#, where #.# is your Julia version).\n",
    "\n",
    "However, you can create and manage **multiple environments**. This is particularly useful when different projects require different sets of packages or different versions of the same package. Here's how you can manage environments in Julia:\n",
    "\n",
    "1. Creating a New Environment: To create a new environment, you can use the Pkg.activate() function and provide a new path:"
   ]
  },
  {
   "cell_type": "code",
   "execution_count": 26,
   "metadata": {},
   "outputs": [
    {
     "name": "stderr",
     "output_type": "stream",
     "text": [
      "\u001b[32m\u001b[1m  Activating\u001b[22m\u001b[39m project at `~/Documents/Work/Training/point8/Julia/env/tmp`\n"
     ]
    }
   ],
   "source": [
    "using Pkg\n",
    "Pkg.activate(\"../env/tmp\")  # replace with your preferred path"
   ]
  },
  {
   "cell_type": "markdown",
   "metadata": {},
   "source": [
    "This command creates a new environment in the specified directory. Any packages you add after running this command will be added to this new environment, and won't affect any other environments.\n",
    "\n",
    "2. Switching Environments: To switch between environments, you just use Pkg.activate() with the path to the desired environment. If you want to switch back to the default environment, you can call Pkg.activate() with no arguments.\n",
    "\n",
    "3. Installing Packages in the Current Environment: To install a package in the current environment:\n",
    "\n"
   ]
  },
  {
   "cell_type": "code",
   "execution_count": 27,
   "metadata": {},
   "outputs": [
    {
     "name": "stderr",
     "output_type": "stream",
     "text": [
      "\u001b[32m\u001b[1m   Resolving\u001b[22m\u001b[39m package versions...\n",
      "\u001b[32m\u001b[1m    Updating\u001b[22m\u001b[39m `~/Documents/Work/Training/point8/Julia/env/tmp/Project.toml`\n",
      "  \u001b[90m[7876af07] \u001b[39m\u001b[92m+ Example v0.5.3\u001b[39m\n",
      "\u001b[32m\u001b[1m    Updating\u001b[22m\u001b[39m `~/Documents/Work/Training/point8/Julia/env/tmp/Manifest.toml`\n",
      "  \u001b[90m[7876af07] \u001b[39m\u001b[92m+ Example v0.5.3\u001b[39m\n"
     ]
    }
   ],
   "source": [
    "Pkg.add(\"Example\")"
   ]
  },
  {
   "cell_type": "markdown",
   "metadata": {},
   "source": [
    "1. Listing Packages in the Current Environment: To see which packages are in the current environment:"
   ]
  },
  {
   "cell_type": "code",
   "execution_count": 28,
   "metadata": {},
   "outputs": [
    {
     "name": "stdout",
     "output_type": "stream",
     "text": [
      "\u001b[32m\u001b[1mStatus\u001b[22m\u001b[39m `~/Documents/Work/Training/point8/Julia/env/tmp/Project.toml`\n",
      "  \u001b[90m[7876af07] \u001b[39mExample v0.5.3\n"
     ]
    }
   ],
   "source": [
    "Pkg.status()"
   ]
  },
  {
   "cell_type": "markdown",
   "metadata": {},
   "source": [
    "💡 Managing environments is an essential part of package management as it allows for isolation between projects, ensuring that package updates or new installations don't conflict with each other."
   ]
  },
  {
   "cell_type": "markdown",
   "metadata": {},
   "source": [
    "---\n",
    "_This notebook is licensed under a [Creative Commons Attribution-NonCommercial-ShareAlike 4.0 International (CC BY-NC-SA 4.0)](https://creativecommons.org/licenses/by-nc-sa/4.0/). Copyright © 2018-2024 [Point 8 GmbH](https://point-8.de)_"
   ]
  }
 ],
 "metadata": {
  "kernelspec": {
   "display_name": "Julia 1.9.4",
   "language": "julia",
   "name": "julia-1.9"
  },
  "language_info": {
   "file_extension": ".jl",
   "mimetype": "application/julia",
   "name": "julia",
   "version": "1.9.4"
  }
 },
 "nbformat": 4,
 "nbformat_minor": 2
}
