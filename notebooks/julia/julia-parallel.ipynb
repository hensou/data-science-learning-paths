{
 "cells": [
  {
   "cell_type": "markdown",
   "metadata": {},
   "source": [
    "# Parallel and Distributed Computing"
   ]
  },
  {
   "cell_type": "code",
   "execution_count": 1,
   "metadata": {},
   "outputs": [
    {
     "data": {
      "text/plain": [
       "calculate_pi (generic function with 1 method)"
      ]
     },
     "metadata": {},
     "output_type": "display_data"
    }
   ],
   "source": [
    "function calculate_pi(n)\n",
    "    inside = 0\n",
    "    for i = 1:n\n",
    "        x = rand()\n",
    "        y = rand()\n",
    "        inside += (x^2 + y^2) <= 1.0 ? 1 : 0\n",
    "    end\n",
    "    return 4 * inside / n\n",
    "end"
   ]
  },
  {
   "cell_type": "code",
   "execution_count": 2,
   "metadata": {},
   "outputs": [
    {
     "data": {
      "text/plain": [
       "3.1415561152"
      ]
     },
     "metadata": {},
     "output_type": "display_data"
    }
   ],
   "source": [
    "calculate_pi(1e10)"
   ]
  },
  {
   "cell_type": "code",
   "execution_count": 3,
   "metadata": {},
   "outputs": [
    {
     "data": {
      "text/plain": [
       "4-element Vector{Int64}:\n",
       " 2\n",
       " 3\n",
       " 4\n",
       " 5"
      ]
     },
     "metadata": {},
     "output_type": "display_data"
    }
   ],
   "source": [
    "using Distributed\n",
    "\n",
    "# Add worker processes equal to the number of available cores\n",
    "addprocs(Sys.CPU_THREADS)\n"
   ]
  },
  {
   "cell_type": "code",
   "execution_count": 4,
   "metadata": {},
   "outputs": [],
   "source": [
    "@everywhere function calculate_pi(n)\n",
    "    inside = 0\n",
    "    for i = 1:n\n",
    "        x = rand()\n",
    "        y = rand()\n",
    "        inside += (x^2 + y^2) <= 1.0 ? 1 : 0\n",
    "    end\n",
    "    return 4 * inside / n\n",
    "end"
   ]
  },
  {
   "cell_type": "code",
   "execution_count": 5,
   "metadata": {},
   "outputs": [
    {
     "name": "stdout",
     "output_type": "stream",
     "text": [
      "Estimate of π: 3.1415866864\n"
     ]
    }
   ],
   "source": [
    "using Statistics\n",
    "\n",
    "# Each worker will calculate π using n points\n",
    "n = 2.5 * 10^9\n",
    "pies = @distributed (vcat) for i in 1:nworkers()\n",
    "    calculate_pi(n)\n",
    "end\n",
    "\n",
    "pi_estimate = mean(pies)\n",
    "\n",
    "println(\"Estimate of π: $pi_estimate\")\n"
   ]
  },
  {
   "cell_type": "code",
   "execution_count": 6,
   "metadata": {},
   "outputs": [],
   "source": []
  },
  {
   "cell_type": "code",
   "execution_count": 7,
   "metadata": {},
   "outputs": [],
   "source": []
  },
  {
   "cell_type": "markdown",
   "metadata": {},
   "source": [
    "## GPU Programming"
   ]
  },
  {
   "cell_type": "code",
   "execution_count": 9,
   "metadata": {},
   "outputs": [
    {
     "name": "stderr",
     "output_type": "stream",
     "text": [
      "\u001b[32m\u001b[1m   Resolving\u001b[22m\u001b[39m package versions...\n"
     ]
    },
    {
     "name": "stderr",
     "output_type": "stream",
     "text": [
      "\u001b[32m\u001b[1m   Installed\u001b[22m\u001b[39m XZ_jll ─────────────── v5.4.5+0\n",
      "\u001b[32m\u001b[1m   Installed\u001b[22m\u001b[39m UnsafeAtomicsLLVM ──── v0.1.3\n",
      "\u001b[32m\u001b[1m   Installed\u001b[22m\u001b[39m TimerOutputs ───────── v0.5.23\n"
     ]
    },
    {
     "name": "stderr",
     "output_type": "stream",
     "text": [
      "\u001b[32m\u001b[1m   Installed\u001b[22m\u001b[39m Metal_LLVM_Tools_jll ─ v0.5.1+0\n",
      "\u001b[32m\u001b[1m   Installed\u001b[22m\u001b[39m ExprTools ──────────── v0.1.10\n",
      "\u001b[32m\u001b[1m   Installed\u001b[22m\u001b[39m Python_jll ─────────── v3.10.8+1\n",
      "\u001b[32m\u001b[1m   Installed\u001b[22m\u001b[39m GPUArrays ──────────── v9.1.0\n"
     ]
    },
    {
     "name": "stderr",
     "output_type": "stream",
     "text": [
      "\u001b[32m\u001b[1m   Installed\u001b[22m\u001b[39m LLVMExtra_jll ──────── v0.0.27+1\n",
      "\u001b[32m\u001b[1m   Installed\u001b[22m\u001b[39m GPUArraysCore ──────── v0.1.5\n",
      "\u001b[32m\u001b[1m   Installed\u001b[22m\u001b[39m UnsafeAtomics ──────── v0.2.1\n",
      "\u001b[32m\u001b[1m   Installed\u001b[22m\u001b[39m KernelAbstractions ─── v0.9.13\n",
      "\u001b[32m\u001b[1m   Installed\u001b[22m\u001b[39m Atomix ─────────────── v0.1.0\n"
     ]
    },
    {
     "name": "stderr",
     "output_type": "stream",
     "text": [
      "\u001b[32m\u001b[1m   Installed\u001b[22m\u001b[39m SQLite_jll ─────────── v3.43.0+0\n",
      "\u001b[32m\u001b[1m   Installed\u001b[22m\u001b[39m LLVM ───────────────── v6.4.0\n",
      "\u001b[32m\u001b[1m   Installed\u001b[22m\u001b[39m GPUCompiler ────────── v0.24.5\n"
     ]
    },
    {
     "name": "stderr",
     "output_type": "stream",
     "text": [
      "\u001b[32m\u001b[1m   Installed\u001b[22m\u001b[39m StructIO ───────────── v0.3.0\n",
      "\u001b[32m\u001b[1m   Installed\u001b[22m\u001b[39m LibMPDec_jll ───────── v2.5.1+0\n",
      "\u001b[32m\u001b[1m   Installed\u001b[22m\u001b[39m ObjectiveC ─────────── v1.0.0\n",
      "\u001b[32m\u001b[1m   Installed\u001b[22m\u001b[39m Metal ──────────────── v0.5.1\n",
      "\u001b[32m\u001b[1m   Installed\u001b[22m\u001b[39m ObjectFile ─────────── v0.4.1\n"
     ]
    },
    {
     "name": "stderr",
     "output_type": "stream",
     "text": [
      "\u001b[32m\u001b[1m    Updating\u001b[22m\u001b[39m `~/.julia/environments/v1.9/Project.toml`\n",
      "  \u001b[90m[dde4c033] \u001b[39m\u001b[92m+ Metal v0.5.1\u001b[39m\n",
      "\u001b[32m\u001b[1m    Updating\u001b[22m\u001b[39m `~/.julia/environments/v1.9/Manifest.toml`\n"
     ]
    },
    {
     "name": "stderr",
     "output_type": "stream",
     "text": [
      "  \u001b[90m[a9b6321e] \u001b[39m\u001b[92m+ Atomix v0.1.0\u001b[39m\n",
      "  \u001b[90m[e2ba6199] \u001b[39m\u001b[92m+ ExprTools v0.1.10\u001b[39m\n",
      "  \u001b[90m[0c68f7d7] \u001b[39m\u001b[92m+ GPUArrays v9.1.0\u001b[39m\n",
      "  \u001b[90m[46192b85] \u001b[39m\u001b[92m+ GPUArraysCore v0.1.5\u001b[39m\n",
      "\u001b[33m⌅\u001b[39m \u001b[90m[61eb1bfa] \u001b[39m\u001b[92m+ GPUCompiler v0.24.5\u001b[39m\n",
      "  \u001b[90m[63c18a36] \u001b[39m\u001b[92m+ KernelAbstractions v0.9.13\u001b[39m\n",
      "  \u001b[90m[929cbde3] \u001b[39m\u001b[92m+ LLVM v6.4.0\u001b[39m\n",
      "  \u001b[90m[dde4c033] \u001b[39m\u001b[92m+ Metal v0.5.1\u001b[39m\n",
      "  \u001b[90m[d8793406] \u001b[39m\u001b[92m+ ObjectFile v0.4.1\u001b[39m\n",
      "  \u001b[90m[e86c9b32] \u001b[39m\u001b[92m+ ObjectiveC v1.0.0\u001b[39m\n",
      "  \u001b[90m[53d494c1] \u001b[39m\u001b[92m+ StructIO v0.3.0\u001b[39m\n",
      "  \u001b[90m[a759f4b9] \u001b[39m\u001b[92m+ TimerOutputs v0.5.23\u001b[39m\n",
      "  \u001b[90m[013be700] \u001b[39m\u001b[92m+ UnsafeAtomics v0.2.1\u001b[39m\n",
      "  \u001b[90m[d80eeb9a] \u001b[39m\u001b[92m+ UnsafeAtomicsLLVM v0.1.3\u001b[39m\n",
      "  \u001b[90m[dad2f222] \u001b[39m\u001b[92m+ LLVMExtra_jll v0.0.27+1\u001b[39m\n",
      "  \u001b[90m[7106de7a] \u001b[39m\u001b[92m+ LibMPDec_jll v2.5.1+0\u001b[39m\n",
      "  \u001b[90m[0418c028] \u001b[39m\u001b[92m+ Metal_LLVM_Tools_jll v0.5.1+0\u001b[39m\n",
      "  \u001b[90m[93d3a430] \u001b[39m\u001b[92m+ Python_jll v3.10.8+1\u001b[39m\n",
      "  \u001b[90m[76ed43ae] \u001b[39m\u001b[92m+ SQLite_jll v3.43.0+0\u001b[39m\n",
      "  \u001b[90m[ffd25f8a] \u001b[39m\u001b[92m+ XZ_jll v5.4.5+0\u001b[39m\n",
      "\u001b[36m\u001b[1m        Info\u001b[22m\u001b[39m Packages marked with \u001b[33m⌅\u001b[39m have new versions available but compatibility constraints restrict them from upgrading. To see why use `status --outdated -m`\n"
     ]
    },
    {
     "name": "stderr",
     "output_type": "stream",
     "text": [
      "\u001b[32m\u001b[1mPrecompiling\u001b[22m\u001b[39m "
     ]
    },
    {
     "name": "stderr",
     "output_type": "stream",
     "text": [
      "project...\n"
     ]
    },
    {
     "name": "stderr",
     "output_type": "stream",
     "text": [
      "\u001b[32m  ✓ \u001b[39m\u001b[90mStructIO\u001b[39m\n",
      "\u001b[32m  ✓ \u001b[39m\u001b[90mExprTools\u001b[39m\n"
     ]
    },
    {
     "name": "stderr",
     "output_type": "stream",
     "text": [
      "\u001b[32m  ✓ \u001b[39m\u001b[90mMetal_LLVM_Tools_jll\u001b[39m\n"
     ]
    },
    {
     "name": "stderr",
     "output_type": "stream",
     "text": [
      "\u001b[32m  ✓ \u001b[39m\u001b[90mLibMPDec_jll\u001b[39m\n"
     ]
    },
    {
     "name": "stderr",
     "output_type": "stream",
     "text": [
      "\u001b[32m  ✓ \u001b[39m\u001b[90mSQLite_jll\u001b[39m\n",
      "\u001b[32m  ✓ \u001b[39m\u001b[90mLLVMExtra_jll\u001b[39m\n",
      "\u001b[32m  ✓ \u001b[39m\u001b[90mUnsafeAtomics\u001b[39m\n"
     ]
    },
    {
     "name": "stderr",
     "output_type": "stream",
     "text": [
      "\u001b[32m  ✓ \u001b[39m\u001b[90mXZ_jll\u001b[39m\n",
      "\u001b[32m  ✓ \u001b[39m\u001b[90mGPUArraysCore\u001b[39m\n"
     ]
    },
    {
     "name": "stderr",
     "output_type": "stream",
     "text": [
      "\u001b[32m  ✓ \u001b[39m\u001b[90mAtomix\u001b[39m\n"
     ]
    },
    {
     "name": "stderr",
     "output_type": "stream",
     "text": [
      "\u001b[32m  ✓ \u001b[39m\u001b[90mObjectiveC\u001b[39m\n"
     ]
    },
    {
     "name": "stderr",
     "output_type": "stream",
     "text": [
      "\u001b[32m  ✓ \u001b[39m\u001b[90mObjectFile\u001b[39m\n"
     ]
    },
    {
     "name": "stderr",
     "output_type": "stream",
     "text": [
      "\u001b[32m  ✓ \u001b[39m\u001b[90mArrayInterface → ArrayInterfaceGPUArraysCoreExt\u001b[39m\n"
     ]
    },
    {
     "name": "stderr",
     "output_type": "stream",
     "text": [
      "\u001b[32m  ✓ \u001b[39m\u001b[90mTimerOutputs\u001b[39m\n"
     ]
    },
    {
     "name": "stderr",
     "output_type": "stream",
     "text": [
      "\u001b[32m  ✓ \u001b[39m\u001b[90mPython_jll\u001b[39m\n"
     ]
    },
    {
     "name": "stderr",
     "output_type": "stream",
     "text": [
      "\u001b[32m  ✓ \u001b[39m\u001b[90mLLVM\u001b[39m\n"
     ]
    },
    {
     "name": "stderr",
     "output_type": "stream",
     "text": [
      "\u001b[32m  ✓ \u001b[39m\u001b[90mUnsafeAtomicsLLVM\u001b[39m\n",
      "\u001b[32m  ✓ \u001b[39m\u001b[90mGPUArrays\u001b[39m\n"
     ]
    },
    {
     "name": "stderr",
     "output_type": "stream",
     "text": [
      "\u001b[32m  ✓ \u001b[39m\u001b[90mKernelAbstractions\u001b[39m\n"
     ]
    },
    {
     "name": "stderr",
     "output_type": "stream",
     "text": [
      "\u001b[32m  ✓ \u001b[39m\u001b[90mGPUCompiler\u001b[39m\n"
     ]
    },
    {
     "name": "stderr",
     "output_type": "stream",
     "text": [
      "\u001b[32m  ✓ \u001b[39mMetal\n"
     ]
    },
    {
     "name": "stderr",
     "output_type": "stream",
     "text": [
      "\u001b[32m  ✓ \u001b[39m\u001b[90mMetal → SpecialFunctionsExt\u001b[39m\n",
      "  22 dependencies successfully precompiled in 32 seconds. 321 already precompiled.\n"
     ]
    }
   ],
   "source": [
    "import Pkg\n",
    "Pkg.add(\"Metal\")"
   ]
  },
  {
   "cell_type": "code",
   "execution_count": 14,
   "metadata": {},
   "outputs": [],
   "source": [
    "using Metal\n",
    "\n",
    "function pi_approximation_kernel(xs, ys, inside)\n",
    "    i = thread_position_in_grid_1d()\n",
    "    x = xs[i]\n",
    "    y = ys[i]\n",
    "    if x^2 + y^2 <= 1.0\n",
    "        @inbounds inside[i] = 1\n",
    "    else\n",
    "        @inbounds inside[i] = 0\n",
    "    end\n",
    "    return\n",
    "end\n",
    "\n",
    "# Use a large number of points\n",
    "n = 10^10\n",
    "\n",
    "# Create arrays on the GPU\n",
    "xs = MtlArray(rand(Float32, n))\n",
    "ys = MtlArray(rand(Float32, n))\n",
    "inside = MtlArray(zeros(Int32, n))\n",
    "\n",
    "# Define thread configuration\n",
    "threads_per_group = 256\n",
    "num_groups = ceil(Int, n / threads_per_group)\n",
    "\n",
    "# Launch the kernel\n",
    "@metal threads=threads_per_group groups=num_groups pi_approximation_kernel(xs, ys, inside)\n",
    "\n",
    "# Copy the result back to the CPU and calculate π\n",
    "inside_cpu = Array(inside)\n",
    "pi_estimate = 4 * sum(inside_cpu) / n\n",
    "\n",
    "println(\"Estimate of π: $pi_estimate\")"
   ]
  },
  {
   "cell_type": "code",
   "execution_count": null,
   "metadata": {},
   "outputs": [],
   "source": []
  }
 ],
 "metadata": {
  "kernelspec": {
   "display_name": "Julia 1.9.4",
   "language": "julia",
   "name": "julia-1.9"
  },
  "language_info": {
   "file_extension": ".jl",
   "mimetype": "application/julia",
   "name": "julia",
   "version": "1.9.4"
  }
 },
 "nbformat": 4,
 "nbformat_minor": 2
}
