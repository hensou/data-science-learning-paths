{
 "cells": [
  {
   "cell_type": "markdown",
   "metadata": {},
   "source": [
    "# <span style=\"color:black\">Data Science Learning Paths</span>\n",
    "\n",
    "\n",
    "![](data-science-learning-paths-concept.png)"
   ]
  },
  {
   "cell_type": "markdown",
   "metadata": {},
   "source": [
    "# Start with the <span style=\"color:gray\">_Python basics_</span>"
   ]
  },
  {
   "cell_type": "markdown",
   "metadata": {},
   "source": [
    "## Data Analysis with Python [DAP]\n",
    "\n",
    "A 2-day intensive course covering the essentials for getting started with data analysis in Python. From the Python programming language to an ecosystem of powerful tools for data handling, analysis and visualization.\n",
    "\n",
    "- **Level**: Beginner\n",
    "- **Duration**: 2 day\n",
    "- **Prerequisites**: basic programming skills\n",
    "- **Index notebook**: [📓 Start course](index/dap2-data-analysis-python.ipynb)"
   ]
  },
  {
   "cell_type": "markdown",
   "metadata": {},
   "source": [
    "# Continue on the <span style=\"color:#DD841E\">_Python Path_</span>"
   ]
  },
  {
   "cell_type": "markdown",
   "metadata": {},
   "source": [
    "## Machine Learning with Python [MLP]\n",
    "\n",
    "A 2-day intensive course enabling the participants to build machine learning applications with Python and the scikit-learn framework. We work on typical machine learning cases using hands-on examples.\n",
    "\n",
    "- **Level**: Intermediate\n",
    "- **Duration**: 2 days\n",
    "- **Prerequisites**: DAP\n",
    "- **Index notebook**: [📓 Start course](index/mlp2-machine-learning-python-2day.ipynb)"
   ]
  },
  {
   "cell_type": "markdown",
   "metadata": {},
   "source": [
    "## Deep Learning with TensorFlow [DLT]\n",
    "\n",
    "Get started with neural networks and deep learning, applying the TensorFlow and Keras libraries.\n",
    "\n",
    "- **Level**: Advanced\n",
    "- **Duration**: 2 days\n",
    "- **Prerequisites**: DAP+MLP\n",
    "- **Index notebook**: [📓 Start course](index/dlt2-intro-dl-tensorflow-2day.ipynb)"
   ]
  },
  {
   "cell_type": "markdown",
   "metadata": {},
   "source": [
    "## Machine Learning on Time Series [MLTS]\n",
    "\n",
    "A 2-day advanced course on the application of machine learning to time series analytics and forecasting.\n",
    "\n",
    "- **Level**: Advanced\n",
    "- **Duration**: 2 days\n",
    "- **Prerequisites**: DAP+MLP+DLT\n",
    "- **Index notebook**: [📓Machine Learning on Time Series](index/mlts-machine-learning-time-series.ipynb)"
   ]
  },
  {
   "cell_type": "markdown",
   "metadata": {},
   "source": [
    "# Continue on the <span style=\"color:#138d75  \">_PySpark Path_</span>"
   ]
  },
  {
   "cell_type": "markdown",
   "metadata": {},
   "source": [
    "## Big Data Analysis with PySpark [BDAS]\n",
    "\n",
    "This course gets you started with scaling data analysis methods to large amounts of data, using PySpark to control distributed computing on a cluster, and gives you first insights on the building blocks of ML with PySpark.\n",
    "\n",
    "- **Level**: Intermediate\n",
    "- **Duration**: 2 days\n",
    "- **Prerequisites**: DAP\n",
    "- **Index notebook**: [📓 Start course](index/bdas2-big-data-analysis-pyspark.ipynb)"
   ]
  },
  {
   "cell_type": "markdown",
   "metadata": {},
   "source": [
    "# Continue on the <span style=\"color:#9258a2\">_Julia Path_</span>"
   ]
  },
  {
   "cell_type": "markdown",
   "metadata": {},
   "source": [
    "<div style=\"display: flex; align-items: start; margin-bottom: 20px; padding: 20px;  border-radius: 10px;\">\n",
    "    <img src=\".assets/images/art-computing-for-engineers-with-julia.png\" alt=\"Course Title\" style=\"width: 30%; margin-right: 20px; border-radius: 10px;\">\n",
    "    <div style=\"width: 65%;\">\n",
    "        <h2>Computing for Engineers with Julia [CEJ]</h2>\n",
    "        <p>\n",
    "            A 2-day intensive course covering the essentials of the Julia programming language. From the basics of the language to an ecosystem of powerful tools for data handling and fast computation.\n",
    "        </p>\n",
    "        <ul>\n",
    "            <li><strong>Level:</strong> Intermediate</li>\n",
    "            <li><strong>Duration:</strong> 2 days</li>\n",
    "            <li><strong>Prerequisites:</strong> Basic programming skills</li>\n",
    "            <li><strong>Index notebook:</strong> <a href=\"index/cej-computing-for-engineers-julia.ipynb\">📓 Start course</a></li>\n",
    "        </ul>\n",
    "    </div>\n",
    "</div>\n"
   ]
  },
  {
   "cell_type": "markdown",
   "metadata": {},
   "source": [
    "---\n",
    "_This notebook is licensed under a [Creative Commons Attribution-NonCommercial-ShareAlike 4.0 International (CC BY-NC-SA 4.0)](https://creativecommons.org/licenses/by-nc-sa/4.0/). Copyright © 2018-2022 [Point 8 GmbH](https://point-8.de)_"
   ]
  }
 ],
 "metadata": {
  "kernelspec": {
   "display_name": "Python 3.10.8 64-bit",
   "language": "python",
   "name": "python3"
  },
  "language_info": {
   "codemirror_mode": {
    "name": "ipython",
    "version": 3
   },
   "file_extension": ".py",
   "mimetype": "text/x-python",
   "name": "python",
   "nbconvert_exporter": "python",
   "pygments_lexer": "ipython3",
   "version": "3.10.8"
  },
  "vscode": {
   "interpreter": {
    "hash": "aee8b7b246df8f9039afb4144a1f6fd8d2ca17a180786b69acc140d282b71a49"
   }
  }
 },
 "nbformat": 4,
 "nbformat_minor": 4
}
