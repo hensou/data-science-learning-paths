{
 "cells": [
  {
   "cell_type": "markdown",
   "metadata": {},
   "source": [
    "## Computing for Engineers with Julia [CEJ]\n",
    "\n",
    "TODO: Add description\n"
   ]
  },
  {
   "cell_type": "markdown",
   "metadata": {},
   "source": [
    "## Table of Contents\n",
    "\n",
    "\n",
    "1. [**Introduction: Why Julia?**](../julia/julia-why.ipynb)<br>\n",
    "    Why should you learn Julia? What makes it different from other programming languages?\n",
    "   \n",
    "2. [**Julia Basics**](../julia/julia-basics.ipynb)<br>\n",
    "    Get to know the basics of the Julia programming language.\n",
    "    \n"
   ]
  },
  {
   "cell_type": "markdown",
   "metadata": {},
   "source": [
    "### Exercise Solutions\n",
    "\n",
    "* TODO"
   ]
  },
  {
   "cell_type": "markdown",
   "metadata": {},
   "source": [
    "### Additional Resources\n",
    "\n",
    "- [**Julia Test Notebook**](../test-julia.ipynb)<br>\n",
    "    Verify that your Julia stack is working.\n",
    "    \n",
    "    \n",
    "- [**Jupyter Cheat Sheet**](../jupyter/cheatsheet.ipynb)<br>\n",
    "    Some useful commands for Jupyter Notebook, mostly optional."
   ]
  },
  {
   "cell_type": "markdown",
   "metadata": {},
   "source": [
    "---\n",
    "_This notebook is licensed under a [Creative Commons Attribution-NonCommercial-ShareAlike 4.0 International (CC BY-NC-SA 4.0)](https://creativecommons.org/licenses/by-nc-sa/4.0/). Copyright © 2018-2022 [Point 8 GmbH](https://point-8.de)_"
   ]
  }
 ],
 "metadata": {
  "kernelspec": {
   "display_name": "Python 3",
   "language": "python",
   "name": "python3"
  },
  "language_info": {
   "codemirror_mode": {
    "name": "ipython",
    "version": 3
   },
   "file_extension": ".py",
   "mimetype": "text/x-python",
   "name": "python",
   "nbconvert_exporter": "python",
   "pygments_lexer": "ipython3",
   "version": "3.8.8"
  }
 },
 "nbformat": 4,
 "nbformat_minor": 4
}
