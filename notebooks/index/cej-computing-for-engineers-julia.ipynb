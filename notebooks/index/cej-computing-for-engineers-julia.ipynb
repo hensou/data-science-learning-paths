{
 "cells": [
  {
   "cell_type": "markdown",
   "metadata": {},
   "source": [
    "# Computing for Engineers with Julia [CEJ]\n",
    "\n",
    " A 2-day intensive course covering the essentials of the Julia programming language. From the basics of the language to an ecosystem of powerful tools for optimization, data handling and fast computation."
   ]
  },
  {
   "cell_type": "markdown",
   "metadata": {},
   "source": [
    "## Chapters\n",
    "\n",
    "\n",
    "1. [**Introduction: Why Julia?**](../julia/julia-why.ipynb)<br>\n",
    "    Why should you learn Julia? What makes it different from other programming languages?\n",
    "   \n",
    "1. [**Julia Basics**](../julia/julia-basics.ipynb)<br>\n",
    "    Get to know the basics of the Julia programming language.\n",
    "\n",
    "1. [**Packages**](../julia/julia-packages.ipynb)<br>\n",
    "    Learn how to use packages in Julia.\n",
    "\n",
    "1. [**Numeric Computing**](../julia/julia-numeric.ipynb)<br>\n",
    "    Learn how to use Julia for numeric computing.\n",
    "\n",
    "2. [**Parallel Computing**](../julia/julia-parallel.ipynb)<br>\n",
    "    Discover how Julia supports parallel and distributed computing.\n",
    "\n"
   ]
  },
  {
   "cell_type": "markdown",
   "metadata": {},
   "source": [
    "## Best Practices\n",
    "\n",
    "1. [**Testing**](../julia/julia-testing.ipynb)<br>\n",
    "    How to write tests for your Julia code.\n",
    "    \n",
    "1. [**Documentation**](../julia/julia-documentation.ipynb)<br>\n",
    "    How to write documentation for your Julia code.\n",
    "\n"
   ]
  },
  {
   "cell_type": "markdown",
   "metadata": {},
   "source": [
    "## Addendum\n",
    "\n",
    "1. [**Data Analysis**](../julia/julia-data-analysis.ipynb)<br>\n",
    "    Explore Julia tools for data analysis.\n",
    "\n",
    "1. [**Mathematical Optimization**](../julia/julia-optimization.ipynb)<br>\n",
    "    Introduction to mathematical optimization and the JuMP package. \n",
    "\n",
    "1. [**Julia and Python Interoperability**](../julia/julia-python.ipynb)<br>\n",
    "    Learn how to use Julia and Python together."
   ]
  },
  {
   "cell_type": "markdown",
   "metadata": {},
   "source": [
    "## Exercise Solutions\n",
    "\n",
    "* TODO"
   ]
  },
  {
   "cell_type": "markdown",
   "metadata": {},
   "source": [
    "## Additional Resources\n",
    "\n",
    "- [**Julia Test Notebook**](../test-julia.ipynb)<br>\n",
    "    Verify that your Julia stack is working.\n",
    "    \n",
    "    \n",
    "- [**Jupyter Cheat Sheet**](../jupyter/cheatsheet.ipynb)<br>\n",
    "    Some useful commands for Jupyter Notebook, mostly optional."
   ]
  },
  {
   "cell_type": "markdown",
   "metadata": {},
   "source": [
    "---\n",
    "_This notebook is licensed under a [Creative Commons Attribution-NonCommercial-ShareAlike 4.0 International (CC BY-NC-SA 4.0)](https://creativecommons.org/licenses/by-nc-sa/4.0/). Copyright © 2018-2022 [Point 8 GmbH](https://point-8.de)_"
   ]
  }
 ],
 "metadata": {
  "kernelspec": {
   "display_name": "Python 3",
   "language": "python",
   "name": "python3"
  },
  "language_info": {
   "codemirror_mode": {
    "name": "ipython",
    "version": 3
   },
   "file_extension": ".py",
   "mimetype": "text/x-python",
   "name": "python",
   "nbconvert_exporter": "python",
   "pygments_lexer": "ipython3",
   "version": "3.8.8"
  }
 },
 "nbformat": 4,
 "nbformat_minor": 4
}
