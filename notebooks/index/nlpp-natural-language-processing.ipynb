{
 "cells": [
  {
   "cell_type": "markdown",
   "metadata": {},
   "source": [
    "# Natural Language Processing with Python [NLPP]\n",
    "\n",
    "Among other libraries, we are going to rely on [SpaCy](https://spacy.io/).\n",
    "\n",
    "This is an advanced course that builds on practical experience in Python programming, data analysis, and machine learning. While we recapitulate some of the foundations, they are covered in much more detail in the following modules of Data Science Learning Paths:\n",
    "\n",
    "- [📓 Data Analysis with Python](dap2-data-analysis-python.ipynb)\n",
    "- [📓 Machine Learning with Python](mlp2-machine-learning-python-2day.ipynb)\n",
    "- [📓 Deep Learning with TensorFlow](dlt2-intro-dl-tensorflow-2day.ipynb)"
   ]
  },
  {
   "cell_type": "markdown",
   "metadata": {},
   "source": [
    "## Table of Contents\n",
    "\n",
    "### Curriculum\n",
    "\n",
    "1. [**Extracting Text from Documents**]()<br>\n",
    "    Extracting natural language texts from various sources and formats.\n",
    "\n",
    "1. [**Natural Language Processing: The Basic Toolkit**]()<br>\n",
    "    Tokenization, stemming, and other fundamental tools for slicing and dicing text data.\n",
    "   \n",
    "1. [**Document Similarity for Clustering and Recommendation**]()<br>\n",
    "    How to measure the similarity of texts and do useful things with it.\n",
    "\n",
    "1. [**Text Classification**]()<br>\n",
    "   Machine learning for classifying text documents.\n",
    "   \n",
    "1. [**Sentiment Analysis**]()<br>\n",
    "    How to deal with more comments than you can possibly read. \n",
    "    \n",
    "1. [**Topic Modelling**]()<br>\n",
    "   An *unsupervised ML* technique for discovering topics in text documents.\n",
    "  \n",
    "1. [**Word Embeddings**]()<br>\n",
    "   Mapping words to vectors for fun and profit.\n",
    "   \n",
    "   \n",
    "   \n"
   ]
  },
  {
   "cell_type": "markdown",
   "metadata": {},
   "source": [
    "### Exercise Solutions\n"
   ]
  },
  {
   "cell_type": "markdown",
   "metadata": {},
   "source": [
    "### Additional Resources\n",
    "\n",
    "- [**Python Test Notebook**](../jupyter/test.ipynb)<br>\n",
    "    Verify that your Python stack is working.\n",
    "    \n",
    "- [**TensorFlow Test Notebook**](../dl/dl-test.ipynb)<br>\n",
    "    Verify that your TensorFlow stack is working.\n",
    "    \n",
    "- [**Jupyter Cheat Sheet**](../jupyter/cheatsheet.ipynb)<br>\n",
    "    Some useful commands for Jupyter Notebook, mostly optional."
   ]
  },
  {
   "cell_type": "markdown",
   "metadata": {},
   "source": [
    "---\n",
    "_This notebook is licensed under a [Creative Commons Attribution 4.0 International License (CC BY 4.0)](https://creativecommons.org/licenses/by/4.0/). Copyright © 2019-2021 [Point 8 GmbH](https://point-8.de)_"
   ]
  },
  {
   "cell_type": "code",
   "execution_count": null,
   "metadata": {},
   "outputs": [],
   "source": []
  }
 ],
 "metadata": {
  "kernelspec": {
   "display_name": "Python 3",
   "language": "python",
   "name": "python3"
  },
  "language_info": {
   "codemirror_mode": {
    "name": "ipython",
    "version": 3
   },
   "file_extension": ".py",
   "mimetype": "text/x-python",
   "name": "python",
   "nbconvert_exporter": "python",
   "pygments_lexer": "ipython3",
   "version": "3.8.0"
  }
 },
 "nbformat": 4,
 "nbformat_minor": 4
}
